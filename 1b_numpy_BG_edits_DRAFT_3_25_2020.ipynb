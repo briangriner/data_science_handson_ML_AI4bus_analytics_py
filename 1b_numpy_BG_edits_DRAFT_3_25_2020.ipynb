{
  "nbformat": 4,
  "nbformat_minor": 0,
  "metadata": {
    "kernelspec": {
      "name": "python3",
      "display_name": "Python 3"
    },
    "language_info": {
      "codemirror_mode": {
        "name": "ipython",
        "version": 3
      },
      "file_extension": ".py",
      "mimetype": "text/x-python",
      "name": "python",
      "nbconvert_exporter": "python",
      "pygments_lexer": "ipython3",
      "version": "3.7.4"
    },
    "toc": {
      "toc_cell": false,
      "toc_number_sections": true,
      "toc_section_display": "block",
      "toc_threshold": 6,
      "toc_window_display": false
    },
    "toc_position": {
      "height": "677px",
      "left": "1195.02px",
      "right": "20px",
      "top": "78px",
      "width": "238px"
    },
    "colab": {
      "name": "1_numpy_BG_edits_3_25_2020.ipynb",
      "provenance": [],
      "collapsed_sections": [
        "R0VXzETr7TNa"
      ]
    },
    "accelerator": "TPU"
  },
  "cells": [
    {
      "cell_type": "markdown",
      "metadata": {
        "id": "k1zkVobP7S1C",
        "colab_type": "text"
      },
      "source": [
        "**Tools - NumPy**\n",
        "\n",
        "*NumPy is the fundamental library for scientific computing with Python. NumPy is centered around a powerful N-dimensional array object, and it also contains useful linear algebra, Fourier transform, and random number functions.*\n",
        "\n",
        "# Creating arrays"
      ]
    },
    {
      "cell_type": "markdown",
      "metadata": {
        "id": "v9B1_7Kg7S1I",
        "colab_type": "text"
      },
      "source": [
        "Now let's import `numpy`. Most people import it as `np`:"
      ]
    },
    {
      "cell_type": "code",
      "metadata": {
        "id": "i8PdH-9i7S1M",
        "colab_type": "code",
        "colab": {}
      },
      "source": [
        "import numpy as np"
      ],
      "execution_count": 0,
      "outputs": []
    },
    {
      "cell_type": "markdown",
      "metadata": {
        "id": "cmxYg8hm7S1d",
        "colab_type": "text"
      },
      "source": [
        "## `np.zeros`"
      ]
    },
    {
      "cell_type": "markdown",
      "metadata": {
        "id": "WBM4agei7S1h",
        "colab_type": "text"
      },
      "source": [
        "The `zeros` function creates an array containing any number of zeros:"
      ]
    },
    {
      "cell_type": "code",
      "metadata": {
        "id": "C8BIV4OU7S1k",
        "colab_type": "code",
        "outputId": "bde658cc-6454-4f27-ee09-d8b177b2266a",
        "colab": {
          "base_uri": "https://localhost:8080/",
          "height": 34
        }
      },
      "source": [
        "np.zeros(5)"
      ],
      "execution_count": 2,
      "outputs": [
        {
          "output_type": "execute_result",
          "data": {
            "text/plain": [
              "array([0., 0., 0., 0., 0.])"
            ]
          },
          "metadata": {
            "tags": []
          },
          "execution_count": 2
        }
      ]
    },
    {
      "cell_type": "markdown",
      "metadata": {
        "id": "BXDcTKW27S10",
        "colab_type": "text"
      },
      "source": [
        "It's just as easy to create a 2D array (ie. a matrix) by providing a tuple with the desired number of rows and columns. For example, here's a 3x4 matrix:"
      ]
    },
    {
      "cell_type": "code",
      "metadata": {
        "id": "WkTRF8dd7S13",
        "colab_type": "code",
        "outputId": "869bfc6c-9540-430d-fec0-aea2dad9020d",
        "colab": {
          "base_uri": "https://localhost:8080/",
          "height": 68
        }
      },
      "source": [
        "np.zeros((3,4))"
      ],
      "execution_count": 3,
      "outputs": [
        {
          "output_type": "execute_result",
          "data": {
            "text/plain": [
              "array([[0., 0., 0., 0.],\n",
              "       [0., 0., 0., 0.],\n",
              "       [0., 0., 0., 0.]])"
            ]
          },
          "metadata": {
            "tags": []
          },
          "execution_count": 3
        }
      ]
    },
    {
      "cell_type": "markdown",
      "metadata": {
        "id": "nsav1-147S2G",
        "colab_type": "text"
      },
      "source": [
        "## Some vocabulary\n",
        "\n",
        "* In NumPy, each dimension is called an **axis**.\n",
        "* The number of axes is called the **rank**.\n",
        "    * For example, the above 3x4 matrix is an array of rank 2 (it is 2-dimensional).\n",
        "    * The first axis has length 3, the second has length 4.\n",
        "* An array's list of axis lengths is called the **shape** of the array.\n",
        "    * For example, the above matrix's shape is `(3, 4)`.\n",
        "    * The rank is equal to the shape's length.\n",
        "* The **size** of an array is the total number of elements, which is the product of all axis lengths (eg. 3*4=12)"
      ]
    },
    {
      "cell_type": "code",
      "metadata": {
        "id": "iGMy9hib7S2K",
        "colab_type": "code",
        "outputId": "a1c26679-ff07-4fdb-bd44-4680eaa73e78",
        "colab": {
          "base_uri": "https://localhost:8080/",
          "height": 68
        }
      },
      "source": [
        "a = np.zeros((3,4))\n",
        "a"
      ],
      "execution_count": 4,
      "outputs": [
        {
          "output_type": "execute_result",
          "data": {
            "text/plain": [
              "array([[0., 0., 0., 0.],\n",
              "       [0., 0., 0., 0.],\n",
              "       [0., 0., 0., 0.]])"
            ]
          },
          "metadata": {
            "tags": []
          },
          "execution_count": 4
        }
      ]
    },
    {
      "cell_type": "code",
      "metadata": {
        "id": "90MHzqDG7S2V",
        "colab_type": "code",
        "outputId": "286c9430-08c2-407e-8336-9f64026ce283",
        "colab": {
          "base_uri": "https://localhost:8080/",
          "height": 34
        }
      },
      "source": [
        "a.shape"
      ],
      "execution_count": 5,
      "outputs": [
        {
          "output_type": "execute_result",
          "data": {
            "text/plain": [
              "(3, 4)"
            ]
          },
          "metadata": {
            "tags": []
          },
          "execution_count": 5
        }
      ]
    },
    {
      "cell_type": "code",
      "metadata": {
        "id": "DE96mdXu7S2f",
        "colab_type": "code",
        "outputId": "a5f6aca6-0089-49df-e0ed-126b7e19b03b",
        "colab": {
          "base_uri": "https://localhost:8080/",
          "height": 34
        }
      },
      "source": [
        "a.ndim  # equal to len(a.shape)"
      ],
      "execution_count": 6,
      "outputs": [
        {
          "output_type": "execute_result",
          "data": {
            "text/plain": [
              "2"
            ]
          },
          "metadata": {
            "tags": []
          },
          "execution_count": 6
        }
      ]
    },
    {
      "cell_type": "code",
      "metadata": {
        "id": "jLL0-mDW7S2p",
        "colab_type": "code",
        "outputId": "e63d57c8-bc6b-4499-9b72-a44eabbdd12f",
        "colab": {
          "base_uri": "https://localhost:8080/",
          "height": 34
        }
      },
      "source": [
        "a.size"
      ],
      "execution_count": 7,
      "outputs": [
        {
          "output_type": "execute_result",
          "data": {
            "text/plain": [
              "12"
            ]
          },
          "metadata": {
            "tags": []
          },
          "execution_count": 7
        }
      ]
    },
    {
      "cell_type": "markdown",
      "metadata": {
        "id": "jL3Mzeks7S2y",
        "colab_type": "text"
      },
      "source": [
        "## N-dimensional arrays\n",
        "You can also create an N-dimensional array of arbitrary rank. For example, here's a 3D array (rank=3), with shape `(2,3,4)`:"
      ]
    },
    {
      "cell_type": "code",
      "metadata": {
        "id": "D1jY-uCh7S21",
        "colab_type": "code",
        "outputId": "51ce2387-a90b-4c8a-c00c-3b056125e2b2",
        "colab": {
          "base_uri": "https://localhost:8080/",
          "height": 136
        }
      },
      "source": [
        "np.zeros((2,3,4))"
      ],
      "execution_count": 8,
      "outputs": [
        {
          "output_type": "execute_result",
          "data": {
            "text/plain": [
              "array([[[0., 0., 0., 0.],\n",
              "        [0., 0., 0., 0.],\n",
              "        [0., 0., 0., 0.]],\n",
              "\n",
              "       [[0., 0., 0., 0.],\n",
              "        [0., 0., 0., 0.],\n",
              "        [0., 0., 0., 0.]]])"
            ]
          },
          "metadata": {
            "tags": []
          },
          "execution_count": 8
        }
      ]
    },
    {
      "cell_type": "markdown",
      "metadata": {
        "id": "trbbVv8Q7S3A",
        "colab_type": "text"
      },
      "source": [
        "## Array type\n",
        "NumPy arrays have the type `ndarray`s:"
      ]
    },
    {
      "cell_type": "code",
      "metadata": {
        "id": "zWzEKk5D7S3D",
        "colab_type": "code",
        "outputId": "3b2116ec-1869-43fb-8c01-34c36c17a7cf",
        "colab": {
          "base_uri": "https://localhost:8080/",
          "height": 34
        }
      },
      "source": [
        "type(np.zeros((3,4)))"
      ],
      "execution_count": 9,
      "outputs": [
        {
          "output_type": "execute_result",
          "data": {
            "text/plain": [
              "numpy.ndarray"
            ]
          },
          "metadata": {
            "tags": []
          },
          "execution_count": 9
        }
      ]
    },
    {
      "cell_type": "markdown",
      "metadata": {
        "id": "LnwfUn437S3P",
        "colab_type": "text"
      },
      "source": [
        "## `np.ones`\n",
        "Many other NumPy functions create `ndarrays`.\n",
        "\n",
        "Here's a 3x4 matrix full of ones:"
      ]
    },
    {
      "cell_type": "code",
      "metadata": {
        "id": "rwu7I9bX7S3S",
        "colab_type": "code",
        "outputId": "5bdcf207-cccd-4ba4-d1e2-27522ca47edf",
        "colab": {
          "base_uri": "https://localhost:8080/",
          "height": 68
        }
      },
      "source": [
        "np.ones((3,4))"
      ],
      "execution_count": 10,
      "outputs": [
        {
          "output_type": "execute_result",
          "data": {
            "text/plain": [
              "array([[1., 1., 1., 1.],\n",
              "       [1., 1., 1., 1.],\n",
              "       [1., 1., 1., 1.]])"
            ]
          },
          "metadata": {
            "tags": []
          },
          "execution_count": 10
        }
      ]
    },
    {
      "cell_type": "markdown",
      "metadata": {
        "id": "haUyxWDW7S3b",
        "colab_type": "text"
      },
      "source": [
        "## `np.full`\n",
        "Creates an array of the given shape initialized with the given value. Here's a 3x4 matrix full of `π`."
      ]
    },
    {
      "cell_type": "code",
      "metadata": {
        "id": "dip3eLoW7S3j",
        "colab_type": "code",
        "outputId": "c0a346b6-7f3e-4e0c-e6fc-dda8ee0cc743",
        "colab": {
          "base_uri": "https://localhost:8080/",
          "height": 68
        }
      },
      "source": [
        "np.full((3,4), np.pi)"
      ],
      "execution_count": 11,
      "outputs": [
        {
          "output_type": "execute_result",
          "data": {
            "text/plain": [
              "array([[3.14159265, 3.14159265, 3.14159265, 3.14159265],\n",
              "       [3.14159265, 3.14159265, 3.14159265, 3.14159265],\n",
              "       [3.14159265, 3.14159265, 3.14159265, 3.14159265]])"
            ]
          },
          "metadata": {
            "tags": []
          },
          "execution_count": 11
        }
      ]
    },
    {
      "cell_type": "markdown",
      "metadata": {
        "id": "a-wBjVkJ7S3t",
        "colab_type": "text"
      },
      "source": [
        "## `np.empty`\n",
        "An uninitialized 2x3 array (its content is not predictable, as it is whatever is in memory at that point):"
      ]
    },
    {
      "cell_type": "code",
      "metadata": {
        "scrolled": true,
        "id": "Idn84cw97S3w",
        "colab_type": "code",
        "outputId": "79b7c0f9-cbf2-436e-a741-f2c72ae89042",
        "colab": {
          "base_uri": "https://localhost:8080/",
          "height": 51
        }
      },
      "source": [
        "np.empty((2,3))"
      ],
      "execution_count": 12,
      "outputs": [
        {
          "output_type": "execute_result",
          "data": {
            "text/plain": [
              "array([[1.6661933e-316, 0.0000000e+000, 0.0000000e+000],\n",
              "       [0.0000000e+000, 0.0000000e+000, 0.0000000e+000]])"
            ]
          },
          "metadata": {
            "tags": []
          },
          "execution_count": 12
        }
      ]
    },
    {
      "cell_type": "markdown",
      "metadata": {
        "id": "SFtrrfZp7S38",
        "colab_type": "text"
      },
      "source": [
        "## np.array\n",
        "Of course you can initialize an `ndarray` using a regular python array. Just call the `array` function:"
      ]
    },
    {
      "cell_type": "code",
      "metadata": {
        "id": "GDC_d6bf7S3-",
        "colab_type": "code",
        "outputId": "c9fd1e71-8e30-4789-c397-7128a43c1da8",
        "colab": {
          "base_uri": "https://localhost:8080/",
          "height": 51
        }
      },
      "source": [
        "np.array([[1,2,3,4], [10, 20, 30, 40]])"
      ],
      "execution_count": 13,
      "outputs": [
        {
          "output_type": "execute_result",
          "data": {
            "text/plain": [
              "array([[ 1,  2,  3,  4],\n",
              "       [10, 20, 30, 40]])"
            ]
          },
          "metadata": {
            "tags": []
          },
          "execution_count": 13
        }
      ]
    },
    {
      "cell_type": "markdown",
      "metadata": {
        "id": "qfUzwNOS7S4I",
        "colab_type": "text"
      },
      "source": [
        "## `np.arange`\n",
        "You can create an `ndarray` using NumPy's `range` function, which is similar to python's built-in `range` function:"
      ]
    },
    {
      "cell_type": "code",
      "metadata": {
        "scrolled": true,
        "id": "3uk0wNsv7S4L",
        "colab_type": "code",
        "outputId": "f0fafd01-0433-4bbc-8d20-ff4c1f9bc552",
        "colab": {
          "base_uri": "https://localhost:8080/",
          "height": 34
        }
      },
      "source": [
        "np.arange(1, 5)"
      ],
      "execution_count": 14,
      "outputs": [
        {
          "output_type": "execute_result",
          "data": {
            "text/plain": [
              "array([1, 2, 3, 4])"
            ]
          },
          "metadata": {
            "tags": []
          },
          "execution_count": 14
        }
      ]
    },
    {
      "cell_type": "markdown",
      "metadata": {
        "id": "52O9KChl7S4T",
        "colab_type": "text"
      },
      "source": [
        "It also works with floats:"
      ]
    },
    {
      "cell_type": "code",
      "metadata": {
        "id": "oXcqy7HW7S4V",
        "colab_type": "code",
        "outputId": "18004c38-9ed8-48ce-855b-e5c7bb6c80eb",
        "colab": {
          "base_uri": "https://localhost:8080/",
          "height": 34
        }
      },
      "source": [
        "np.arange(1.0, 5.0)"
      ],
      "execution_count": 15,
      "outputs": [
        {
          "output_type": "execute_result",
          "data": {
            "text/plain": [
              "array([1., 2., 3., 4.])"
            ]
          },
          "metadata": {
            "tags": []
          },
          "execution_count": 15
        }
      ]
    },
    {
      "cell_type": "markdown",
      "metadata": {
        "id": "9t_G77p57S4d",
        "colab_type": "text"
      },
      "source": [
        "Of course you can provide a step parameter:"
      ]
    },
    {
      "cell_type": "code",
      "metadata": {
        "id": "9nwWtDzJ7S4g",
        "colab_type": "code",
        "outputId": "5e9ca409-bd76-4c84-b4cf-c360ab86c15c",
        "colab": {
          "base_uri": "https://localhost:8080/",
          "height": 34
        }
      },
      "source": [
        "np.arange(1, 5, 0.5)"
      ],
      "execution_count": 16,
      "outputs": [
        {
          "output_type": "execute_result",
          "data": {
            "text/plain": [
              "array([1. , 1.5, 2. , 2.5, 3. , 3.5, 4. , 4.5])"
            ]
          },
          "metadata": {
            "tags": []
          },
          "execution_count": 16
        }
      ]
    },
    {
      "cell_type": "markdown",
      "metadata": {
        "id": "-cOLMPEd7S4p",
        "colab_type": "text"
      },
      "source": [
        "However, when dealing with floats, the exact number of elements in the array is not always predictible. For example, consider this:"
      ]
    },
    {
      "cell_type": "code",
      "metadata": {
        "id": "-PEipd8M7S4s",
        "colab_type": "code",
        "outputId": "51d73dd2-6b87-4d5a-c88f-a29b8663776d",
        "colab": {
          "base_uri": "https://localhost:8080/",
          "height": 68
        }
      },
      "source": [
        "print(np.arange(0, 5/3, 1/3)) # depending on floating point errors, the max value is 4/3 or 5/3.\n",
        "print(np.arange(0, 5/3, 0.333333333))\n",
        "print(np.arange(0, 5/3, 0.333333334))\n"
      ],
      "execution_count": 17,
      "outputs": [
        {
          "output_type": "stream",
          "text": [
            "[0.         0.33333333 0.66666667 1.         1.33333333 1.66666667]\n",
            "[0.         0.33333333 0.66666667 1.         1.33333333 1.66666667]\n",
            "[0.         0.33333333 0.66666667 1.         1.33333334]\n"
          ],
          "name": "stdout"
        }
      ]
    },
    {
      "cell_type": "markdown",
      "metadata": {
        "id": "pUUanTbB7S40",
        "colab_type": "text"
      },
      "source": [
        "## `np.linspace`\n",
        "For this reason, it is generally preferable to use the `linspace` function instead of `arange` when working with floats. The `linspace` function returns an array containing a specific number of points evenly distributed between two values (note that the maximum value is *included*, contrary to `arange`):"
      ]
    },
    {
      "cell_type": "code",
      "metadata": {
        "id": "_vn1LCYr7S43",
        "colab_type": "code",
        "outputId": "837e34ff-37f7-4d3f-f99a-d8cbf707d057",
        "colab": {
          "base_uri": "https://localhost:8080/",
          "height": 34
        }
      },
      "source": [
        "print(np.linspace(0, 5/3, 6))"
      ],
      "execution_count": 18,
      "outputs": [
        {
          "output_type": "stream",
          "text": [
            "[0.         0.33333333 0.66666667 1.         1.33333333 1.66666667]\n"
          ],
          "name": "stdout"
        }
      ]
    },
    {
      "cell_type": "markdown",
      "metadata": {
        "id": "OJhdqAtn7S4_",
        "colab_type": "text"
      },
      "source": [
        "## `np.rand` and `np.randn`\n",
        "A number of functions are available in NumPy's `random` module to create `ndarray`s initialized with random values.\n",
        "For example, here is a 3x4 matrix initialized with random floats between 0 and 1 (uniform distribution):"
      ]
    },
    {
      "cell_type": "code",
      "metadata": {
        "id": "OSgjKi6J7S5B",
        "colab_type": "code",
        "outputId": "bc180328-6122-436c-e284-0d97eb1fb527",
        "colab": {
          "base_uri": "https://localhost:8080/",
          "height": 68
        }
      },
      "source": [
        "np.random.rand(3,4)"
      ],
      "execution_count": 19,
      "outputs": [
        {
          "output_type": "execute_result",
          "data": {
            "text/plain": [
              "array([[0.47745455, 0.49616158, 0.05928102, 0.75975802],\n",
              "       [0.81809447, 0.34336736, 0.54803945, 0.01431574],\n",
              "       [0.61220935, 0.1346485 , 0.3507768 , 0.57521354]])"
            ]
          },
          "metadata": {
            "tags": []
          },
          "execution_count": 19
        }
      ]
    },
    {
      "cell_type": "markdown",
      "metadata": {
        "id": "68UpIhOc7S5J",
        "colab_type": "text"
      },
      "source": [
        "Here's a 3x4 matrix containing random floats sampled from a univariate [normal distribution](https://en.wikipedia.org/wiki/Normal_distribution) (Gaussian distribution) of mean 0 and variance 1:"
      ]
    },
    {
      "cell_type": "code",
      "metadata": {
        "id": "zBE4-yBl7S5N",
        "colab_type": "code",
        "outputId": "4ea938d7-c1bf-4d71-a1ad-f4890f229407",
        "colab": {
          "base_uri": "https://localhost:8080/",
          "height": 119
        }
      },
      "source": [
        "np.random.randn(3,4)"
      ],
      "execution_count": 20,
      "outputs": [
        {
          "output_type": "execute_result",
          "data": {
            "text/plain": [
              "array([[ 4.67693589e-02, -2.09209296e+00,  2.99672784e-01,\n",
              "         1.76597367e+00],\n",
              "       [ 2.27647830e-01, -1.83000934e-06,  9.67424232e-01,\n",
              "        -9.59362444e-01],\n",
              "       [ 1.97472928e-01, -6.43141072e-01, -9.86936462e-01,\n",
              "         1.36186666e-01]])"
            ]
          },
          "metadata": {
            "tags": []
          },
          "execution_count": 20
        }
      ]
    },
    {
      "cell_type": "markdown",
      "metadata": {
        "id": "EiAdqLac7S5W",
        "colab_type": "text"
      },
      "source": [
        "To give you a feel of what these distributions look like, let's use matplotlib (see the [matplotlib tutorial](tools_matplotlib.ipynb) for more details):"
      ]
    },
    {
      "cell_type": "code",
      "metadata": {
        "scrolled": false,
        "id": "WMGxZQE07S5Z",
        "colab_type": "code",
        "colab": {}
      },
      "source": [
        "%matplotlib inline\n",
        "import matplotlib.pyplot as plt"
      ],
      "execution_count": 0,
      "outputs": []
    },
    {
      "cell_type": "code",
      "metadata": {
        "id": "ISGLB_1P7S5h",
        "colab_type": "code",
        "outputId": "3d783bac-03a0-48c4-fcb3-8f94ce135d35",
        "colab": {
          "base_uri": "https://localhost:8080/",
          "height": 295
        }
      },
      "source": [
        "#plt.hist(np.random.rand(100000), normed=True, bins=100, histtype=\"step\", color=\"blue\", label=\"rand\")\n",
        "#plt.hist(np.random.randn(100000), normed=True, bins=100, histtype=\"step\", color=\"red\", label=\"randn\")\n",
        "plt.hist(np.random.rand(100000), bins=100, histtype=\"step\", color=\"blue\", label=\"rand\")\n",
        "plt.hist(np.random.randn(100000), bins=100, histtype=\"step\", color=\"red\", label=\"randn\")\n",
        "plt.axis([-2.5, 2.5, 0, 1.1])\n",
        "plt.legend(loc = \"upper left\")\n",
        "plt.title(\"Random distributions\")\n",
        "plt.xlabel(\"Value\")\n",
        "plt.ylabel(\"Density\")\n",
        "plt.show()"
      ],
      "execution_count": 22,
      "outputs": [
        {
          "output_type": "display_data",
          "data": {
            "image/png": "[encoded data removed]",
            "text/plain": [
              "<Figure size 432x288 with 1 Axes>"
            ]
          },
          "metadata": {
            "tags": []
          }
        }
      ]
    },
    {
      "cell_type": "markdown",
      "metadata": {
        "id": "ERa6JRQv7S5p",
        "colab_type": "text"
      },
      "source": [
        "## np.fromfunction\n",
        "You can also initialize an `ndarray` using a function:"
      ]
    },
    {
      "cell_type": "code",
      "metadata": {
        "id": "l78PLG3R7S5u",
        "colab_type": "code",
        "outputId": "8396d513-a16c-46cf-dc74-f9772dfa12aa",
        "colab": {
          "base_uri": "https://localhost:8080/",
          "height": 153
        }
      },
      "source": [
        "def my_function(z, y, x):\n",
        "    return x * y + z\n",
        "\n",
        "np.fromfunction(my_function, (3, 2, 10))"
      ],
      "execution_count": 23,
      "outputs": [
        {
          "output_type": "execute_result",
          "data": {
            "text/plain": [
              "array([[[ 0.,  0.,  0.,  0.,  0.,  0.,  0.,  0.,  0.,  0.],\n",
              "        [ 0.,  1.,  2.,  3.,  4.,  5.,  6.,  7.,  8.,  9.]],\n",
              "\n",
              "       [[ 1.,  1.,  1.,  1.,  1.,  1.,  1.,  1.,  1.,  1.],\n",
              "        [ 1.,  2.,  3.,  4.,  5.,  6.,  7.,  8.,  9., 10.]],\n",
              "\n",
              "       [[ 2.,  2.,  2.,  2.,  2.,  2.,  2.,  2.,  2.,  2.],\n",
              "        [ 2.,  3.,  4.,  5.,  6.,  7.,  8.,  9., 10., 11.]]])"
            ]
          },
          "metadata": {
            "tags": []
          },
          "execution_count": 23
        }
      ]
    },
    {
      "cell_type": "markdown",
      "metadata": {
        "id": "dTPoB3nz7S52",
        "colab_type": "text"
      },
      "source": [
        "NumPy first creates three `ndarrays` (one per dimension), each of shape `(2, 10)`. Each array has values equal to the coordinate along a specific axis. For example, all elements in the `z` array are equal to their z-coordinate:\n",
        "\n",
        "    [[[ 0.  0.  0.  0.  0.  0.  0.  0.  0.  0.]\n",
        "      [ 0.  0.  0.  0.  0.  0.  0.  0.  0.  0.]]\n",
        "    \n",
        "     [[ 1.  1.  1.  1.  1.  1.  1.  1.  1.  1.]\n",
        "      [ 1.  1.  1.  1.  1.  1.  1.  1.  1.  1.]]\n",
        "    \n",
        "     [[ 2.  2.  2.  2.  2.  2.  2.  2.  2.  2.]\n",
        "      [ 2.  2.  2.  2.  2.  2.  2.  2.  2.  2.]]]\n",
        "\n",
        "So the terms x, y and z in the expression `x * y + z` above are in fact `ndarray`s (we will discuss arithmetic operations on arrays below).  The point is that the function `my_function` is only called *once*, instead of once per element. This makes initialization very efficient."
      ]
    },
    {
      "cell_type": "markdown",
      "metadata": {
        "id": "sxeRwtWQ7S56",
        "colab_type": "text"
      },
      "source": [
        "# Array data\n",
        "## `dtype`\n",
        "NumPy's `ndarray`s are also efficient in part because all their elements must have the same type (usually numbers).\n",
        "You can check what the data type is by looking at the `dtype` attribute:"
      ]
    },
    {
      "cell_type": "code",
      "metadata": {
        "scrolled": true,
        "id": "DOljIGwS7S59",
        "colab_type": "code",
        "outputId": "12a11da4-7ce1-4fdb-d6b5-e0d1f63aa564",
        "colab": {
          "base_uri": "https://localhost:8080/",
          "height": 34
        }
      },
      "source": [
        "c = np.arange(1, 5)\n",
        "print(c.dtype, c)"
      ],
      "execution_count": 24,
      "outputs": [
        {
          "output_type": "stream",
          "text": [
            "int64 [1 2 3 4]\n"
          ],
          "name": "stdout"
        }
      ]
    },
    {
      "cell_type": "code",
      "metadata": {
        "id": "Duvw8htD7S6F",
        "colab_type": "code",
        "outputId": "b58ffad4-e279-4f81-ba2a-fae1f55d7c08",
        "colab": {
          "base_uri": "https://localhost:8080/",
          "height": 34
        }
      },
      "source": [
        "c = np.arange(1.0, 5.0)\n",
        "print(c.dtype, c)"
      ],
      "execution_count": 25,
      "outputs": [
        {
          "output_type": "stream",
          "text": [
            "float64 [1. 2. 3. 4.]\n"
          ],
          "name": "stdout"
        }
      ]
    },
    {
      "cell_type": "markdown",
      "metadata": {
        "id": "YcNDUpRC7S6R",
        "colab_type": "text"
      },
      "source": [
        "Instead of letting NumPy guess what data type to use, you can set it explicitly when creating an array by setting the `dtype` parameter:"
      ]
    },
    {
      "cell_type": "code",
      "metadata": {
        "id": "uKN30wLT7S6U",
        "colab_type": "code",
        "outputId": "c9a6cb97-ea10-440a-8cd3-19249da159c1",
        "colab": {
          "base_uri": "https://localhost:8080/",
          "height": 34
        }
      },
      "source": [
        "d = np.arange(1, 5, dtype=np.complex64)\n",
        "print(d.dtype, d)"
      ],
      "execution_count": 26,
      "outputs": [
        {
          "output_type": "stream",
          "text": [
            "complex64 [1.+0.j 2.+0.j 3.+0.j 4.+0.j]\n"
          ],
          "name": "stdout"
        }
      ]
    },
    {
      "cell_type": "markdown",
      "metadata": {
        "id": "G1xpRcUc7S6c",
        "colab_type": "text"
      },
      "source": [
        "Available data types include `int8`, `int16`, `int32`, `int64`, `uint8`|`16`|`32`|`64`, `float16`|`32`|`64` and `complex64`|`128`. Check out [the documentation](http://docs.scipy.org/doc/numpy-1.10.1/user/basics.types.html) for the full list.\n",
        "\n",
        "## `itemsize`\n",
        "The `itemsize` attribute returns the size (in bytes) of each item:"
      ]
    },
    {
      "cell_type": "code",
      "metadata": {
        "id": "1pm7WT4K7S6e",
        "colab_type": "code",
        "outputId": "061b59aa-2817-41be-847a-0a09ce79a882",
        "colab": {
          "base_uri": "https://localhost:8080/",
          "height": 34
        }
      },
      "source": [
        "e = np.arange(1, 5, dtype=np.complex64)\n",
        "e.itemsize"
      ],
      "execution_count": 27,
      "outputs": [
        {
          "output_type": "execute_result",
          "data": {
            "text/plain": [
              "8"
            ]
          },
          "metadata": {
            "tags": []
          },
          "execution_count": 27
        }
      ]
    },
    {
      "cell_type": "markdown",
      "metadata": {
        "id": "h3NOcRra7S6m",
        "colab_type": "text"
      },
      "source": [
        "## `data` buffer\n",
        "An array's data is actually stored in memory as a flat (one dimensional) byte buffer. It is available *via* the `data` attribute (you will rarely need it, though)."
      ]
    },
    {
      "cell_type": "code",
      "metadata": {
        "scrolled": false,
        "id": "uVyg0dMd7S6o",
        "colab_type": "code",
        "outputId": "5391f0e0-0838-49da-9511-29cc643eccf5",
        "colab": {
          "base_uri": "https://localhost:8080/",
          "height": 34
        }
      },
      "source": [
        "f = np.array([[1,2],[1000, 2000]], dtype=np.int32)\n",
        "f.data"
      ],
      "execution_count": 28,
      "outputs": [
        {
          "output_type": "execute_result",
          "data": {
            "text/plain": [
              "<memory at 0x7f8ba41ea1f8>"
            ]
          },
          "metadata": {
            "tags": []
          },
          "execution_count": 28
        }
      ]
    },
    {
      "cell_type": "markdown",
      "metadata": {
        "id": "Z0xy-uh77S6w",
        "colab_type": "text"
      },
      "source": [
        "In python 2, `f.data` is a buffer. In python 3, it is a memoryview."
      ]
    },
    {
      "cell_type": "code",
      "metadata": {
        "id": "dSXxKk2y7S63",
        "colab_type": "code",
        "outputId": "199a9170-7871-46ba-f245-41f1459639a5",
        "colab": {
          "base_uri": "https://localhost:8080/",
          "height": 34
        }
      },
      "source": [
        "if (hasattr(f.data, \"tobytes\")):\n",
        "    data_bytes = f.data.tobytes() # python 3\n",
        "else:\n",
        "    data_bytes = memoryview(f.data).tobytes() # python 2\n",
        "\n",
        "data_bytes"
      ],
      "execution_count": 29,
      "outputs": [
        {
          "output_type": "execute_result",
          "data": {
            "text/plain": [
              "b'\\x01\\x00\\x00\\x00\\x02\\x00\\x00\\x00\\xe8\\x03\\x00\\x00\\xd0\\x07\\x00\\x00'"
            ]
          },
          "metadata": {
            "tags": []
          },
          "execution_count": 29
        }
      ]
    },
    {
      "cell_type": "markdown",
      "metadata": {
        "id": "IJAFOpzq7S7B",
        "colab_type": "text"
      },
      "source": [
        "Several `ndarrays` can share the same data buffer, meaning that modifying one will also modify the others. We will see an example in a minute."
      ]
    },
    {
      "cell_type": "markdown",
      "metadata": {
        "id": "I9RdRn8P7S7F",
        "colab_type": "text"
      },
      "source": [
        "# Reshaping an array\n",
        "## In place\n",
        "Changing the shape of an `ndarray` is as simple as setting its `shape` attribute. However, the array's size must remain the same."
      ]
    },
    {
      "cell_type": "code",
      "metadata": {
        "id": "X3-3rKJa7S7J",
        "colab_type": "code",
        "outputId": "eaae24ed-65db-4ab8-d21f-92ea4ea0a1ab",
        "colab": {
          "base_uri": "https://localhost:8080/",
          "height": 51
        }
      },
      "source": [
        "g = np.arange(24)\n",
        "print(g)\n",
        "print(\"Rank:\", g.ndim)"
      ],
      "execution_count": 30,
      "outputs": [
        {
          "output_type": "stream",
          "text": [
            "[ 0  1  2  3  4  5  6  7  8  9 10 11 12 13 14 15 16 17 18 19 20 21 22 23]\n",
            "Rank: 1\n"
          ],
          "name": "stdout"
        }
      ]
    },
    {
      "cell_type": "code",
      "metadata": {
        "id": "Cz3LEDb47S7V",
        "colab_type": "code",
        "outputId": "8dc4a591-ba11-40f2-bf67-74fcc1342484",
        "colab": {
          "base_uri": "https://localhost:8080/",
          "height": 136
        }
      },
      "source": [
        "g.shape = (6, 4)\n",
        "print(g)\n",
        "print(\"Rank:\", g.ndim)"
      ],
      "execution_count": 31,
      "outputs": [
        {
          "output_type": "stream",
          "text": [
            "[[ 0  1  2  3]\n",
            " [ 4  5  6  7]\n",
            " [ 8  9 10 11]\n",
            " [12 13 14 15]\n",
            " [16 17 18 19]\n",
            " [20 21 22 23]]\n",
            "Rank: 2\n"
          ],
          "name": "stdout"
        }
      ]
    },
    {
      "cell_type": "code",
      "metadata": {
        "scrolled": true,
        "id": "_65W7MA97S7d",
        "colab_type": "code",
        "outputId": "8d0ae2fa-9494-4f5c-d484-0e8f0014b280",
        "colab": {
          "base_uri": "https://localhost:8080/",
          "height": 153
        }
      },
      "source": [
        "g.shape = (2, 3, 4)\n",
        "print(g)\n",
        "print(\"Rank:\", g.ndim)"
      ],
      "execution_count": 32,
      "outputs": [
        {
          "output_type": "stream",
          "text": [
            "[[[ 0  1  2  3]\n",
            "  [ 4  5  6  7]\n",
            "  [ 8  9 10 11]]\n",
            "\n",
            " [[12 13 14 15]\n",
            "  [16 17 18 19]\n",
            "  [20 21 22 23]]]\n",
            "Rank: 3\n"
          ],
          "name": "stdout"
        }
      ]
    },
    {
      "cell_type": "markdown",
      "metadata": {
        "id": "H1TiA1of7S7z",
        "colab_type": "text"
      },
      "source": [
        "## `reshape`\n",
        "The `reshape` function returns a new `ndarray` object pointing at the *same* data. This means that modifying one array will also modify the other."
      ]
    },
    {
      "cell_type": "code",
      "metadata": {
        "scrolled": true,
        "id": "Ey-LIjaC7S74",
        "colab_type": "code",
        "outputId": "cff1b726-61d7-4ea7-a376-c01dbe3ccac4",
        "colab": {
          "base_uri": "https://localhost:8080/",
          "height": 102
        }
      },
      "source": [
        "g2 = g.reshape(4,6)\n",
        "print(g2)\n",
        "print(\"Rank:\", g2.ndim)"
      ],
      "execution_count": 33,
      "outputs": [
        {
          "output_type": "stream",
          "text": [
            "[[ 0  1  2  3  4  5]\n",
            " [ 6  7  8  9 10 11]\n",
            " [12 13 14 15 16 17]\n",
            " [18 19 20 21 22 23]]\n",
            "Rank: 2\n"
          ],
          "name": "stdout"
        }
      ]
    },
    {
      "cell_type": "markdown",
      "metadata": {
        "id": "Pk1zxvlJ7S8A",
        "colab_type": "text"
      },
      "source": [
        "Set item at row 1, col 2 to 999 (more about indexing below)."
      ]
    },
    {
      "cell_type": "code",
      "metadata": {
        "id": "J4g_GmEo7S8D",
        "colab_type": "code",
        "outputId": "ce861f32-ce90-467a-caa8-370f543fdaf6",
        "colab": {
          "base_uri": "https://localhost:8080/",
          "height": 85
        }
      },
      "source": [
        "g2[1, 2] = 999\n",
        "g2"
      ],
      "execution_count": 34,
      "outputs": [
        {
          "output_type": "execute_result",
          "data": {
            "text/plain": [
              "array([[  0,   1,   2,   3,   4,   5],\n",
              "       [  6,   7, 999,   9,  10,  11],\n",
              "       [ 12,  13,  14,  15,  16,  17],\n",
              "       [ 18,  19,  20,  21,  22,  23]])"
            ]
          },
          "metadata": {
            "tags": []
          },
          "execution_count": 34
        }
      ]
    },
    {
      "cell_type": "markdown",
      "metadata": {
        "id": "VzKfJIje7S8J",
        "colab_type": "text"
      },
      "source": [
        "The corresponding element in `g` has been modified."
      ]
    },
    {
      "cell_type": "code",
      "metadata": {
        "id": "btgBBizN7S8Q",
        "colab_type": "code",
        "outputId": "2180a68b-10e4-4635-ae43-e4dc29fba8c8",
        "colab": {
          "base_uri": "https://localhost:8080/",
          "height": 136
        }
      },
      "source": [
        "g"
      ],
      "execution_count": 35,
      "outputs": [
        {
          "output_type": "execute_result",
          "data": {
            "text/plain": [
              "array([[[  0,   1,   2,   3],\n",
              "        [  4,   5,   6,   7],\n",
              "        [999,   9,  10,  11]],\n",
              "\n",
              "       [[ 12,  13,  14,  15],\n",
              "        [ 16,  17,  18,  19],\n",
              "        [ 20,  21,  22,  23]]])"
            ]
          },
          "metadata": {
            "tags": []
          },
          "execution_count": 35
        }
      ]
    },
    {
      "cell_type": "markdown",
      "metadata": {
        "id": "Ux7V2nys7S8a",
        "colab_type": "text"
      },
      "source": [
        "## `ravel`\n",
        "Finally, the `ravel` function returns a new one-dimensional `ndarray` that also points to the same data:"
      ]
    },
    {
      "cell_type": "code",
      "metadata": {
        "id": "sOuziRdO7S8c",
        "colab_type": "code",
        "outputId": "4ce2b033-6a69-4928-be52-d1f46dad5f2f",
        "colab": {
          "base_uri": "https://localhost:8080/",
          "height": 51
        }
      },
      "source": [
        "g.ravel()"
      ],
      "execution_count": 36,
      "outputs": [
        {
          "output_type": "execute_result",
          "data": {
            "text/plain": [
              "array([  0,   1,   2,   3,   4,   5,   6,   7, 999,   9,  10,  11,  12,\n",
              "        13,  14,  15,  16,  17,  18,  19,  20,  21,  22,  23])"
            ]
          },
          "metadata": {
            "tags": []
          },
          "execution_count": 36
        }
      ]
    },
    {
      "cell_type": "markdown",
      "metadata": {
        "id": "nRn5ZYUS7S8m",
        "colab_type": "text"
      },
      "source": [
        "# Arithmetic operations\n",
        "All the usual arithmetic operators (`+`, `-`, `*`, `/`, `//`, `**`, etc.) can be used with `ndarray`s. They apply *elementwise*:"
      ]
    },
    {
      "cell_type": "code",
      "metadata": {
        "scrolled": false,
        "id": "MTDnfiBo7S8o",
        "colab_type": "code",
        "outputId": "069876a9-76da-45a8-996f-1966fea5741f",
        "colab": {
          "base_uri": "https://localhost:8080/",
          "height": 136
        }
      },
      "source": [
        "a = np.array([14, 23, 32, 41])\n",
        "b = np.array([5,  4,  3,  2])\n",
        "print(\"a + b  =\", a + b)\n",
        "print(\"a - b  =\", a - b)\n",
        "print(\"a * b  =\", a * b)\n",
        "print(\"a / b  =\", a / b)\n",
        "print(\"a // b  =\", a // b)\n",
        "print(\"a % b  =\", a % b)\n",
        "print(\"a ** b =\", a ** b)"
      ],
      "execution_count": 37,
      "outputs": [
        {
          "output_type": "stream",
          "text": [
            "a + b  = [19 27 35 43]\n",
            "a - b  = [ 9 19 29 39]\n",
            "a * b  = [70 92 96 82]\n",
            "a / b  = [ 2.8         5.75       10.66666667 20.5       ]\n",
            "a // b  = [ 2  5 10 20]\n",
            "a % b  = [4 3 2 1]\n",
            "a ** b = [537824 279841  32768   1681]\n"
          ],
          "name": "stdout"
        }
      ]
    },
    {
      "cell_type": "markdown",
      "metadata": {
        "id": "InKayHeS7S8v",
        "colab_type": "text"
      },
      "source": [
        "Note that the multiplication is *not* a matrix multiplication. We will discuss matrix operations below.\n",
        "\n",
        "The arrays must have the same shape. If they do not, NumPy will apply the *broadcasting rules*."
      ]
    },
    {
      "cell_type": "markdown",
      "metadata": {
        "id": "au5irkPd7S81",
        "colab_type": "text"
      },
      "source": [
        "# Broadcasting"
      ]
    },
    {
      "cell_type": "markdown",
      "metadata": {
        "id": "nZTBy5wK7S83",
        "colab_type": "text"
      },
      "source": [
        "In general, when NumPy expects arrays of the same shape but finds that this is not the case, it applies the so-called *broadcasting* rules:\n",
        "\n",
        "## First rule\n",
        "*If the arrays do not have the same rank, then a 1 will be prepended to the smaller ranking arrays until their ranks match.*"
      ]
    },
    {
      "cell_type": "code",
      "metadata": {
        "id": "BloV6p2J7S87",
        "colab_type": "code",
        "outputId": "9fcaaf81-0e7d-4a2a-f237-7a43458829de",
        "colab": {
          "base_uri": "https://localhost:8080/",
          "height": 34
        }
      },
      "source": [
        "h = np.arange(5).reshape(1, 1, 5)\n",
        "h"
      ],
      "execution_count": 38,
      "outputs": [
        {
          "output_type": "execute_result",
          "data": {
            "text/plain": [
              "array([[[0, 1, 2, 3, 4]]])"
            ]
          },
          "metadata": {
            "tags": []
          },
          "execution_count": 38
        }
      ]
    },
    {
      "cell_type": "markdown",
      "metadata": {
        "id": "4yIADTre7S9C",
        "colab_type": "text"
      },
      "source": [
        "Now let's try to add a 1D array of shape `(5,)` to this 3D array of shape `(1,1,5)`. Applying the first rule of broadcasting!"
      ]
    },
    {
      "cell_type": "code",
      "metadata": {
        "id": "YfpwUeZT7S9E",
        "colab_type": "code",
        "outputId": "90dbb042-733c-4a58-9056-18e12a3ebb85",
        "colab": {
          "base_uri": "https://localhost:8080/",
          "height": 34
        }
      },
      "source": [
        "h + [10, 20, 30, 40, 50]  # same as: h + [[[10, 20, 30, 40, 50]]]"
      ],
      "execution_count": 39,
      "outputs": [
        {
          "output_type": "execute_result",
          "data": {
            "text/plain": [
              "array([[[10, 21, 32, 43, 54]]])"
            ]
          },
          "metadata": {
            "tags": []
          },
          "execution_count": 39
        }
      ]
    },
    {
      "cell_type": "markdown",
      "metadata": {
        "id": "ou_sxVZF7S9L",
        "colab_type": "text"
      },
      "source": [
        "## Second rule\n",
        "*Arrays with a 1 along a particular dimension act as if they had the size of the array with the largest shape along that dimension. The value of the array element is repeated along that dimension.*"
      ]
    },
    {
      "cell_type": "code",
      "metadata": {
        "id": "SZs_hH-x7S9N",
        "colab_type": "code",
        "outputId": "663a4ae4-53c4-41c5-e5db-b2180a14b546",
        "colab": {
          "base_uri": "https://localhost:8080/",
          "height": 51
        }
      },
      "source": [
        "k = np.arange(6).reshape(2, 3)\n",
        "k"
      ],
      "execution_count": 40,
      "outputs": [
        {
          "output_type": "execute_result",
          "data": {
            "text/plain": [
              "array([[0, 1, 2],\n",
              "       [3, 4, 5]])"
            ]
          },
          "metadata": {
            "tags": []
          },
          "execution_count": 40
        }
      ]
    },
    {
      "cell_type": "markdown",
      "metadata": {
        "id": "oDbyJ78b7S9X",
        "colab_type": "text"
      },
      "source": [
        "Let's try to add a 2D array of shape `(2,1)` to this 2D `ndarray` of shape `(2, 3)`. NumPy will apply the second rule of broadcasting:"
      ]
    },
    {
      "cell_type": "code",
      "metadata": {
        "id": "PsvvHwuO7S9Z",
        "colab_type": "code",
        "outputId": "c72f25c4-f662-4413-fcf3-6081eaceb433",
        "colab": {
          "base_uri": "https://localhost:8080/",
          "height": 51
        }
      },
      "source": [
        "k + [[100], [200]]  # same as: k + [[100, 100, 100], [200, 200, 200]]"
      ],
      "execution_count": 41,
      "outputs": [
        {
          "output_type": "execute_result",
          "data": {
            "text/plain": [
              "array([[100, 101, 102],\n",
              "       [203, 204, 205]])"
            ]
          },
          "metadata": {
            "tags": []
          },
          "execution_count": 41
        }
      ]
    },
    {
      "cell_type": "markdown",
      "metadata": {
        "id": "Jn8A-K_I7S9k",
        "colab_type": "text"
      },
      "source": [
        "Combining rules 1 & 2, we can do this:"
      ]
    },
    {
      "cell_type": "code",
      "metadata": {
        "id": "vmrzZMjY7S9m",
        "colab_type": "code",
        "outputId": "552eac20-033d-494d-c583-2b919bf50f9a",
        "colab": {
          "base_uri": "https://localhost:8080/",
          "height": 51
        }
      },
      "source": [
        "k + [100, 200, 300]  # after rule 1: [[100, 200, 300]], and after rule 2: [[100, 200, 300], [100, 200, 300]]"
      ],
      "execution_count": 42,
      "outputs": [
        {
          "output_type": "execute_result",
          "data": {
            "text/plain": [
              "array([[100, 201, 302],\n",
              "       [103, 204, 305]])"
            ]
          },
          "metadata": {
            "tags": []
          },
          "execution_count": 42
        }
      ]
    },
    {
      "cell_type": "markdown",
      "metadata": {
        "id": "eIdTn2zf7S9v",
        "colab_type": "text"
      },
      "source": [
        "And also, very simply:"
      ]
    },
    {
      "cell_type": "code",
      "metadata": {
        "id": "Ag5Y40Ak7S9x",
        "colab_type": "code",
        "outputId": "29faf160-c538-42e5-91ee-1ba955c32d40",
        "colab": {
          "base_uri": "https://localhost:8080/",
          "height": 51
        }
      },
      "source": [
        "k + 1000  # same as: k + [[1000, 1000, 1000], [1000, 1000, 1000]]"
      ],
      "execution_count": 43,
      "outputs": [
        {
          "output_type": "execute_result",
          "data": {
            "text/plain": [
              "array([[1000, 1001, 1002],\n",
              "       [1003, 1004, 1005]])"
            ]
          },
          "metadata": {
            "tags": []
          },
          "execution_count": 43
        }
      ]
    },
    {
      "cell_type": "markdown",
      "metadata": {
        "id": "7VOLHqha7S98",
        "colab_type": "text"
      },
      "source": [
        "## Third rule\n",
        "*After rules 1 & 2, the sizes of all arrays must match.*"
      ]
    },
    {
      "cell_type": "code",
      "metadata": {
        "id": "1vpl2vO47S9_",
        "colab_type": "code",
        "outputId": "818745c9-25a6-44a8-8971-ebd369796892",
        "colab": {
          "base_uri": "https://localhost:8080/",
          "height": 34
        }
      },
      "source": [
        "try:\n",
        "    k + [33, 44]\n",
        "except ValueError as e:\n",
        "    print(e)"
      ],
      "execution_count": 44,
      "outputs": [
        {
          "output_type": "stream",
          "text": [
            "operands could not be broadcast together with shapes (2,3) (2,) \n"
          ],
          "name": "stdout"
        }
      ]
    },
    {
      "cell_type": "markdown",
      "metadata": {
        "id": "nzV-z7Da7S-H",
        "colab_type": "text"
      },
      "source": [
        "Broadcasting rules are used in many NumPy operations, not just arithmetic operations, as we will see below.\n",
        "For more details about broadcasting, check out [the documentation](https://docs.scipy.org/doc/numpy-dev/user/basics.broadcasting.html)."
      ]
    },
    {
      "cell_type": "markdown",
      "metadata": {
        "id": "27Uax5Ti7S-J",
        "colab_type": "text"
      },
      "source": [
        "## Upcasting\n",
        "When trying to combine arrays with different `dtype`s, NumPy will *upcast* to a type capable of handling all possible values (regardless of what the *actual* values are)."
      ]
    },
    {
      "cell_type": "code",
      "metadata": {
        "id": "dic4151d7S-L",
        "colab_type": "code",
        "outputId": "8e787b3b-efb9-4519-ce8e-aad4d09d615c",
        "colab": {
          "base_uri": "https://localhost:8080/",
          "height": 34
        }
      },
      "source": [
        "k1 = np.arange(0, 5, dtype=np.uint8)\n",
        "print(k1.dtype, k1)"
      ],
      "execution_count": 45,
      "outputs": [
        {
          "output_type": "stream",
          "text": [
            "uint8 [0 1 2 3 4]\n"
          ],
          "name": "stdout"
        }
      ]
    },
    {
      "cell_type": "code",
      "metadata": {
        "id": "Zf7GZT0t7S-X",
        "colab_type": "code",
        "outputId": "edce63d9-a88e-40e6-effe-7dd07ebe521f",
        "colab": {
          "base_uri": "https://localhost:8080/",
          "height": 34
        }
      },
      "source": [
        "k2 = k1 + np.array([5, 6, 7, 8, 9], dtype=np.int8)\n",
        "print(k2.dtype, k2)"
      ],
      "execution_count": 46,
      "outputs": [
        {
          "output_type": "stream",
          "text": [
            "int16 [ 5  7  9 11 13]\n"
          ],
          "name": "stdout"
        }
      ]
    },
    {
      "cell_type": "markdown",
      "metadata": {
        "id": "HKsKPT3N7S-d",
        "colab_type": "text"
      },
      "source": [
        "Note that `int16` is required to represent all *possible* `int8` and `uint8` values (from -128 to 255), even though in this case a uint8 would have sufficed."
      ]
    },
    {
      "cell_type": "code",
      "metadata": {
        "id": "bdg9K9K47S-f",
        "colab_type": "code",
        "outputId": "f39556cc-9b98-472a-c298-f961524f4d2c",
        "colab": {
          "base_uri": "https://localhost:8080/",
          "height": 34
        }
      },
      "source": [
        "k3 = k1 + 1.5\n",
        "print(k3.dtype, k3)"
      ],
      "execution_count": 47,
      "outputs": [
        {
          "output_type": "stream",
          "text": [
            "float64 [1.5 2.5 3.5 4.5 5.5]\n"
          ],
          "name": "stdout"
        }
      ]
    },
    {
      "cell_type": "markdown",
      "metadata": {
        "id": "puf6wWWi7S-q",
        "colab_type": "text"
      },
      "source": [
        "# Conditional operators"
      ]
    },
    {
      "cell_type": "markdown",
      "metadata": {
        "id": "T_AX6FeE7S-s",
        "colab_type": "text"
      },
      "source": [
        "The conditional operators also apply elementwise:"
      ]
    },
    {
      "cell_type": "code",
      "metadata": {
        "id": "UrHtUwjc7S-t",
        "colab_type": "code",
        "outputId": "e6ba4da8-4e56-4c5f-a671-8aa65f661830",
        "colab": {
          "base_uri": "https://localhost:8080/",
          "height": 34
        }
      },
      "source": [
        "m = np.array([20, -5, 30, 40])\n",
        "m < [15, 16, 35, 36]"
      ],
      "execution_count": 48,
      "outputs": [
        {
          "output_type": "execute_result",
          "data": {
            "text/plain": [
              "array([False,  True,  True, False])"
            ]
          },
          "metadata": {
            "tags": []
          },
          "execution_count": 48
        }
      ]
    },
    {
      "cell_type": "markdown",
      "metadata": {
        "id": "6F4S7SY27S-z",
        "colab_type": "text"
      },
      "source": [
        "And using broadcasting:"
      ]
    },
    {
      "cell_type": "code",
      "metadata": {
        "id": "Ew4WUwCe7S-1",
        "colab_type": "code",
        "outputId": "adcd6f6e-ede0-4472-9e26-1adb712d98db",
        "colab": {
          "base_uri": "https://localhost:8080/",
          "height": 34
        }
      },
      "source": [
        "m < 25  # equivalent to m < [25, 25, 25, 25]"
      ],
      "execution_count": 49,
      "outputs": [
        {
          "output_type": "execute_result",
          "data": {
            "text/plain": [
              "array([ True,  True, False, False])"
            ]
          },
          "metadata": {
            "tags": []
          },
          "execution_count": 49
        }
      ]
    },
    {
      "cell_type": "markdown",
      "metadata": {
        "id": "ljMa-6Hb7S-7",
        "colab_type": "text"
      },
      "source": [
        "This is most useful in conjunction with boolean indexing (discussed below)."
      ]
    },
    {
      "cell_type": "code",
      "metadata": {
        "id": "X1vdq6ZN7S--",
        "colab_type": "code",
        "outputId": "1d0d169c-fe93-4397-c248-c0b1f792f9d7",
        "colab": {
          "base_uri": "https://localhost:8080/",
          "height": 34
        }
      },
      "source": [
        "m[m < 25]"
      ],
      "execution_count": 50,
      "outputs": [
        {
          "output_type": "execute_result",
          "data": {
            "text/plain": [
              "array([20, -5])"
            ]
          },
          "metadata": {
            "tags": []
          },
          "execution_count": 50
        }
      ]
    },
    {
      "cell_type": "markdown",
      "metadata": {
        "id": "6C6h7UQ67S_E",
        "colab_type": "text"
      },
      "source": [
        "# Mathematical and statistical functions"
      ]
    },
    {
      "cell_type": "markdown",
      "metadata": {
        "id": "4cqYPr8Z7S_M",
        "colab_type": "text"
      },
      "source": [
        "Many mathematical and statistical functions are available for `ndarray`s.\n",
        "\n",
        "## `ndarray` methods\n",
        "Some functions are simply `ndarray` methods, for example:"
      ]
    },
    {
      "cell_type": "code",
      "metadata": {
        "id": "6r5_FPAx7S_O",
        "colab_type": "code",
        "outputId": "755391a3-a8f2-4540-88a8-17ca660e1e03",
        "colab": {
          "base_uri": "https://localhost:8080/",
          "height": 68
        }
      },
      "source": [
        "a = np.array([[-2.5, 3.1, 7], [10, 11, 12]])\n",
        "print(a)\n",
        "print(\"mean =\", a.mean())"
      ],
      "execution_count": 51,
      "outputs": [
        {
          "output_type": "stream",
          "text": [
            "[[-2.5  3.1  7. ]\n",
            " [10.  11.  12. ]]\n",
            "mean = 6.766666666666667\n"
          ],
          "name": "stdout"
        }
      ]
    },
    {
      "cell_type": "markdown",
      "metadata": {
        "id": "83rM-L0j7S_X",
        "colab_type": "text"
      },
      "source": [
        "Note that this computes the mean of all elements in the `ndarray`, regardless of its shape.\n",
        "\n",
        "Here are a few more useful `ndarray` methods:"
      ]
    },
    {
      "cell_type": "code",
      "metadata": {
        "id": "8wPyNwVI7S_a",
        "colab_type": "code",
        "outputId": "880a35e6-680b-4626-bb81-06d3219166e5",
        "colab": {
          "base_uri": "https://localhost:8080/",
          "height": 119
        }
      },
      "source": [
        "for func in (a.min, a.max, a.sum, a.prod, a.std, a.var):\n",
        "    print(func.__name__, \"=\", func())"
      ],
      "execution_count": 52,
      "outputs": [
        {
          "output_type": "stream",
          "text": [
            "min = -2.5\n",
            "max = 12.0\n",
            "sum = 40.6\n",
            "prod = -71610.0\n",
            "std = 5.084835843520964\n",
            "var = 25.855555555555554\n"
          ],
          "name": "stdout"
        }
      ]
    },
    {
      "cell_type": "markdown",
      "metadata": {
        "id": "ClG9tymY7S_g",
        "colab_type": "text"
      },
      "source": [
        "These functions accept an optional argument `axis` which lets you ask for the operation to be performed on elements along the given axis. For example:"
      ]
    },
    {
      "cell_type": "code",
      "metadata": {
        "id": "tDnBwo1P7S_h",
        "colab_type": "code",
        "outputId": "e1bb78a3-dc4f-4e30-8832-e4ed6d979d7b",
        "colab": {
          "base_uri": "https://localhost:8080/",
          "height": 136
        }
      },
      "source": [
        "c=np.arange(24).reshape(2,3,4)\n",
        "c"
      ],
      "execution_count": 53,
      "outputs": [
        {
          "output_type": "execute_result",
          "data": {
            "text/plain": [
              "array([[[ 0,  1,  2,  3],\n",
              "        [ 4,  5,  6,  7],\n",
              "        [ 8,  9, 10, 11]],\n",
              "\n",
              "       [[12, 13, 14, 15],\n",
              "        [16, 17, 18, 19],\n",
              "        [20, 21, 22, 23]]])"
            ]
          },
          "metadata": {
            "tags": []
          },
          "execution_count": 53
        }
      ]
    },
    {
      "cell_type": "code",
      "metadata": {
        "id": "5jpkScJk7S_q",
        "colab_type": "code",
        "outputId": "9ee65303-f44e-4632-c425-37aa546dd572",
        "colab": {
          "base_uri": "https://localhost:8080/",
          "height": 68
        }
      },
      "source": [
        "c.sum(axis=0)  # sum across matrices"
      ],
      "execution_count": 54,
      "outputs": [
        {
          "output_type": "execute_result",
          "data": {
            "text/plain": [
              "array([[12, 14, 16, 18],\n",
              "       [20, 22, 24, 26],\n",
              "       [28, 30, 32, 34]])"
            ]
          },
          "metadata": {
            "tags": []
          },
          "execution_count": 54
        }
      ]
    },
    {
      "cell_type": "code",
      "metadata": {
        "id": "emWoO9K57S_w",
        "colab_type": "code",
        "outputId": "c2294de4-c1c7-45cf-998a-8eed813838c3",
        "colab": {
          "base_uri": "https://localhost:8080/",
          "height": 51
        }
      },
      "source": [
        "c.sum(axis=1)  # sum across rows"
      ],
      "execution_count": 55,
      "outputs": [
        {
          "output_type": "execute_result",
          "data": {
            "text/plain": [
              "array([[12, 15, 18, 21],\n",
              "       [48, 51, 54, 57]])"
            ]
          },
          "metadata": {
            "tags": []
          },
          "execution_count": 55
        }
      ]
    },
    {
      "cell_type": "markdown",
      "metadata": {
        "id": "DBR3XOyT7S_3",
        "colab_type": "text"
      },
      "source": [
        "You can also sum over multiple axes:"
      ]
    },
    {
      "cell_type": "code",
      "metadata": {
        "id": "4jMRglkT7S_5",
        "colab_type": "code",
        "outputId": "c3cd8ee7-bebe-4061-f6d3-1c304cd0531c",
        "colab": {
          "base_uri": "https://localhost:8080/",
          "height": 34
        }
      },
      "source": [
        "c.sum(axis=(0,2))  # sum across matrices and columns"
      ],
      "execution_count": 56,
      "outputs": [
        {
          "output_type": "execute_result",
          "data": {
            "text/plain": [
              "array([ 60,  92, 124])"
            ]
          },
          "metadata": {
            "tags": []
          },
          "execution_count": 56
        }
      ]
    },
    {
      "cell_type": "code",
      "metadata": {
        "id": "He7YRlsT7TAB",
        "colab_type": "code",
        "outputId": "e7991c0f-afe3-4325-bc82-78fab4415531",
        "colab": {
          "base_uri": "https://localhost:8080/",
          "height": 34
        }
      },
      "source": [
        "0+1+2+3 + 12+13+14+15, 4+5+6+7 + 16+17+18+19, 8+9+10+11 + 20+21+22+23"
      ],
      "execution_count": 57,
      "outputs": [
        {
          "output_type": "execute_result",
          "data": {
            "text/plain": [
              "(60, 92, 124)"
            ]
          },
          "metadata": {
            "tags": []
          },
          "execution_count": 57
        }
      ]
    },
    {
      "cell_type": "markdown",
      "metadata": {
        "id": "ZrVvVbVG7TAH",
        "colab_type": "text"
      },
      "source": [
        "## Universal functions\n",
        "NumPy also provides fast elementwise functions called *universal functions*, or **ufunc**. They are vectorized wrappers of simple functions. For example `square` returns a new `ndarray` which is a copy of the original `ndarray` except that each element is squared:"
      ]
    },
    {
      "cell_type": "code",
      "metadata": {
        "id": "Agfgrvyw7TAK",
        "colab_type": "code",
        "outputId": "a647decd-290c-4ca3-ed49-10f484aaba07",
        "colab": {
          "base_uri": "https://localhost:8080/",
          "height": 51
        }
      },
      "source": [
        "a = np.array([[-2.5, 3.1, 7], [10, 11, 12]])\n",
        "np.square(a)"
      ],
      "execution_count": 58,
      "outputs": [
        {
          "output_type": "execute_result",
          "data": {
            "text/plain": [
              "array([[  6.25,   9.61,  49.  ],\n",
              "       [100.  , 121.  , 144.  ]])"
            ]
          },
          "metadata": {
            "tags": []
          },
          "execution_count": 58
        }
      ]
    },
    {
      "cell_type": "markdown",
      "metadata": {
        "id": "ip_S5gtl7TAQ",
        "colab_type": "text"
      },
      "source": [
        "Here are a few more useful unary ufuncs:"
      ]
    },
    {
      "cell_type": "code",
      "metadata": {
        "id": "CvdkLCOM7TAS",
        "colab_type": "code",
        "outputId": "3fc05a01-31f5-4646-9a6b-d3eb7b502796",
        "colab": {
          "base_uri": "https://localhost:8080/",
          "height": 765
        }
      },
      "source": [
        "print(\"Original ndarray\")\n",
        "print(a)\n",
        "for func in (np.abs, np.sqrt, np.exp, np.log, np.sign, np.ceil, np.modf, np.isnan, np.cos):\n",
        "    print(\"\\n\", func.__name__)\n",
        "    print(func(a))"
      ],
      "execution_count": 59,
      "outputs": [
        {
          "output_type": "stream",
          "text": [
            "Original ndarray\n",
            "[[-2.5  3.1  7. ]\n",
            " [10.  11.  12. ]]\n",
            "\n",
            " absolute\n",
            "[[ 2.5  3.1  7. ]\n",
            " [10.  11.  12. ]]\n",
            "\n",
            " sqrt\n",
            "[[       nan 1.76068169 2.64575131]\n",
            " [3.16227766 3.31662479 3.46410162]]\n",
            "\n",
            " exp\n",
            "[[8.20849986e-02 2.21979513e+01 1.09663316e+03]\n",
            " [2.20264658e+04 5.98741417e+04 1.62754791e+05]]\n",
            "\n",
            " log\n",
            "[[       nan 1.13140211 1.94591015]\n",
            " [2.30258509 2.39789527 2.48490665]]\n",
            "\n",
            " sign\n",
            "[[-1.  1.  1.]\n",
            " [ 1.  1.  1.]]\n",
            "\n",
            " ceil\n",
            "[[-2.  4.  7.]\n",
            " [10. 11. 12.]]\n",
            "\n",
            " modf\n",
            "(array([[-0.5,  0.1,  0. ],\n",
            "       [ 0. ,  0. ,  0. ]]), array([[-2.,  3.,  7.],\n",
            "       [10., 11., 12.]]))\n",
            "\n",
            " isnan\n",
            "[[False False False]\n",
            " [False False False]]\n",
            "\n",
            " cos\n",
            "[[-0.80114362 -0.99913515  0.75390225]\n",
            " [-0.83907153  0.0044257   0.84385396]]\n"
          ],
          "name": "stdout"
        },
        {
          "output_type": "stream",
          "text": [
            "/usr/local/lib/python3.6/dist-packages/ipykernel_launcher.py:5: RuntimeWarning: invalid value encountered in sqrt\n",
            "  \"\"\"\n",
            "/usr/local/lib/python3.6/dist-packages/ipykernel_launcher.py:5: RuntimeWarning: invalid value encountered in log\n",
            "  \"\"\"\n"
          ],
          "name": "stderr"
        }
      ]
    },
    {
      "cell_type": "markdown",
      "metadata": {
        "id": "6AmwYDzF7TAX",
        "colab_type": "text"
      },
      "source": [
        "## Binary ufuncs\n",
        "There are also many binary ufuncs, that apply elementwise on two `ndarray`s.  Broadcasting rules are applied if the arrays do not have the same shape:"
      ]
    },
    {
      "cell_type": "code",
      "metadata": {
        "id": "SSJoQxG87TAY",
        "colab_type": "code",
        "outputId": "f431f955-c72c-4308-8742-73396697da41",
        "colab": {
          "base_uri": "https://localhost:8080/",
          "height": 34
        }
      },
      "source": [
        "a = np.array([1, -2, 3, 4])\n",
        "b = np.array([2, 8, -1, 7])\n",
        "np.add(a, b)  # equivalent to a + b"
      ],
      "execution_count": 60,
      "outputs": [
        {
          "output_type": "execute_result",
          "data": {
            "text/plain": [
              "array([ 3,  6,  2, 11])"
            ]
          },
          "metadata": {
            "tags": []
          },
          "execution_count": 60
        }
      ]
    },
    {
      "cell_type": "code",
      "metadata": {
        "id": "6AajqUlh7TAq",
        "colab_type": "code",
        "outputId": "e88bc111-0033-44de-8b3a-34db0b135e23",
        "colab": {
          "base_uri": "https://localhost:8080/",
          "height": 34
        }
      },
      "source": [
        "np.greater(a, b)  # equivalent to a > b"
      ],
      "execution_count": 61,
      "outputs": [
        {
          "output_type": "execute_result",
          "data": {
            "text/plain": [
              "array([False, False,  True, False])"
            ]
          },
          "metadata": {
            "tags": []
          },
          "execution_count": 61
        }
      ]
    },
    {
      "cell_type": "code",
      "metadata": {
        "id": "RrzMpxm_7TAv",
        "colab_type": "code",
        "outputId": "d4908d40-ee8f-4d20-a885-41e805900ad5",
        "colab": {
          "base_uri": "https://localhost:8080/",
          "height": 34
        }
      },
      "source": [
        "np.maximum(a, b)"
      ],
      "execution_count": 62,
      "outputs": [
        {
          "output_type": "execute_result",
          "data": {
            "text/plain": [
              "array([2, 8, 3, 7])"
            ]
          },
          "metadata": {
            "tags": []
          },
          "execution_count": 62
        }
      ]
    },
    {
      "cell_type": "code",
      "metadata": {
        "id": "xThPjdyN7TA0",
        "colab_type": "code",
        "outputId": "4ffbced1-1d6e-44b1-9a00-fc619e0fd0b3",
        "colab": {
          "base_uri": "https://localhost:8080/",
          "height": 34
        }
      },
      "source": [
        "np.copysign(a, b)"
      ],
      "execution_count": 63,
      "outputs": [
        {
          "output_type": "execute_result",
          "data": {
            "text/plain": [
              "array([ 1.,  2., -3.,  4.])"
            ]
          },
          "metadata": {
            "tags": []
          },
          "execution_count": 63
        }
      ]
    },
    {
      "cell_type": "markdown",
      "metadata": {
        "id": "0dhVrLB17TA5",
        "colab_type": "text"
      },
      "source": [
        "# Array indexing\n",
        "## One-dimensional arrays\n",
        "One-dimensional NumPy arrays can be accessed more or less like regular python arrays:"
      ]
    },
    {
      "cell_type": "code",
      "metadata": {
        "id": "Uc4eHGZD7TA7",
        "colab_type": "code",
        "outputId": "e27c4cc3-ceb5-4456-9ffa-ad4d59225b5d",
        "colab": {
          "base_uri": "https://localhost:8080/",
          "height": 34
        }
      },
      "source": [
        "a = np.array([1, 5, 3, 19, 13, 7, 3])\n",
        "a[3]"
      ],
      "execution_count": 64,
      "outputs": [
        {
          "output_type": "execute_result",
          "data": {
            "text/plain": [
              "19"
            ]
          },
          "metadata": {
            "tags": []
          },
          "execution_count": 64
        }
      ]
    },
    {
      "cell_type": "code",
      "metadata": {
        "id": "Wk4ajBno7TBF",
        "colab_type": "code",
        "outputId": "2cf0fe2a-9901-4eef-83b5-9f56529ba15c",
        "colab": {
          "base_uri": "https://localhost:8080/",
          "height": 34
        }
      },
      "source": [
        "a[2:5]"
      ],
      "execution_count": 65,
      "outputs": [
        {
          "output_type": "execute_result",
          "data": {
            "text/plain": [
              "array([ 3, 19, 13])"
            ]
          },
          "metadata": {
            "tags": []
          },
          "execution_count": 65
        }
      ]
    },
    {
      "cell_type": "code",
      "metadata": {
        "id": "CAyN1j1E7TBM",
        "colab_type": "code",
        "outputId": "db92fd56-305e-4a90-9d54-89e829939bc5",
        "colab": {
          "base_uri": "https://localhost:8080/",
          "height": 34
        }
      },
      "source": [
        "a[2:-1]"
      ],
      "execution_count": 66,
      "outputs": [
        {
          "output_type": "execute_result",
          "data": {
            "text/plain": [
              "array([ 3, 19, 13,  7])"
            ]
          },
          "metadata": {
            "tags": []
          },
          "execution_count": 66
        }
      ]
    },
    {
      "cell_type": "code",
      "metadata": {
        "id": "aNVIWj0p7TBR",
        "colab_type": "code",
        "outputId": "d96ef739-759e-4a25-bab9-6e9f123615df",
        "colab": {
          "base_uri": "https://localhost:8080/",
          "height": 34
        }
      },
      "source": [
        "a[:2]"
      ],
      "execution_count": 67,
      "outputs": [
        {
          "output_type": "execute_result",
          "data": {
            "text/plain": [
              "array([1, 5])"
            ]
          },
          "metadata": {
            "tags": []
          },
          "execution_count": 67
        }
      ]
    },
    {
      "cell_type": "code",
      "metadata": {
        "id": "0Y4BtV0i7TBW",
        "colab_type": "code",
        "outputId": "8f2d1d1c-00ee-4cda-daa0-8f0860d4cf05",
        "colab": {
          "base_uri": "https://localhost:8080/",
          "height": 34
        }
      },
      "source": [
        "a[2::2]"
      ],
      "execution_count": 68,
      "outputs": [
        {
          "output_type": "execute_result",
          "data": {
            "text/plain": [
              "array([ 3, 13,  3])"
            ]
          },
          "metadata": {
            "tags": []
          },
          "execution_count": 68
        }
      ]
    },
    {
      "cell_type": "code",
      "metadata": {
        "id": "YS8w-1zj7TBb",
        "colab_type": "code",
        "outputId": "9f099b0b-743c-48bd-f70a-8e3948a1a3c0",
        "colab": {
          "base_uri": "https://localhost:8080/",
          "height": 34
        }
      },
      "source": [
        "a[::-1]"
      ],
      "execution_count": 69,
      "outputs": [
        {
          "output_type": "execute_result",
          "data": {
            "text/plain": [
              "array([ 3,  7, 13, 19,  3,  5,  1])"
            ]
          },
          "metadata": {
            "tags": []
          },
          "execution_count": 69
        }
      ]
    },
    {
      "cell_type": "markdown",
      "metadata": {
        "id": "TF0PuD3u7TBg",
        "colab_type": "text"
      },
      "source": [
        "Of course, you can modify elements:"
      ]
    },
    {
      "cell_type": "code",
      "metadata": {
        "id": "bCJawqjV7TBi",
        "colab_type": "code",
        "outputId": "36fe4e3c-f654-42e1-ace2-172df5c2794e",
        "colab": {
          "base_uri": "https://localhost:8080/",
          "height": 34
        }
      },
      "source": [
        "a[3]=999\n",
        "a"
      ],
      "execution_count": 70,
      "outputs": [
        {
          "output_type": "execute_result",
          "data": {
            "text/plain": [
              "array([  1,   5,   3, 999,  13,   7,   3])"
            ]
          },
          "metadata": {
            "tags": []
          },
          "execution_count": 70
        }
      ]
    },
    {
      "cell_type": "markdown",
      "metadata": {
        "id": "sa38AkFZ7TBo",
        "colab_type": "text"
      },
      "source": [
        "You can also modify an `ndarray` slice:"
      ]
    },
    {
      "cell_type": "code",
      "metadata": {
        "id": "8ANpyaM07TBp",
        "colab_type": "code",
        "outputId": "c6079354-1d4c-4210-c1f7-8129cbe50dad",
        "colab": {
          "base_uri": "https://localhost:8080/",
          "height": 34
        }
      },
      "source": [
        "a[2:5] = [997, 998, 999]\n",
        "a"
      ],
      "execution_count": 71,
      "outputs": [
        {
          "output_type": "execute_result",
          "data": {
            "text/plain": [
              "array([  1,   5, 997, 998, 999,   7,   3])"
            ]
          },
          "metadata": {
            "tags": []
          },
          "execution_count": 71
        }
      ]
    },
    {
      "cell_type": "markdown",
      "metadata": {
        "id": "XbONrXEV7TBu",
        "colab_type": "text"
      },
      "source": [
        "## Differences with regular python arrays\n",
        "Contrary to regular python arrays, if you assign a single value to an `ndarray` slice, it is copied across the whole slice, thanks to broadcasting rules discussed above."
      ]
    },
    {
      "cell_type": "code",
      "metadata": {
        "id": "-FHkYXNW7TBz",
        "colab_type": "code",
        "outputId": "99f0eadf-c7a4-495a-e6d3-b4f9f39f3972",
        "colab": {
          "base_uri": "https://localhost:8080/",
          "height": 34
        }
      },
      "source": [
        "a[2:5] = -1\n",
        "a"
      ],
      "execution_count": 72,
      "outputs": [
        {
          "output_type": "execute_result",
          "data": {
            "text/plain": [
              "array([ 1,  5, -1, -1, -1,  7,  3])"
            ]
          },
          "metadata": {
            "tags": []
          },
          "execution_count": 72
        }
      ]
    },
    {
      "cell_type": "markdown",
      "metadata": {
        "id": "-bYfkZ5l7TB4",
        "colab_type": "text"
      },
      "source": [
        "Also, you cannot grow or shrink `ndarray`s this way:"
      ]
    },
    {
      "cell_type": "code",
      "metadata": {
        "scrolled": false,
        "id": "KWdHY1kI7TB8",
        "colab_type": "code",
        "outputId": "6163de9a-63e4-446e-88b5-6ecac7054a49",
        "colab": {
          "base_uri": "https://localhost:8080/",
          "height": 34
        }
      },
      "source": [
        "try:\n",
        "    a[2:5] = [1,2,3,4,5,6]  # too long\n",
        "except ValueError as e:\n",
        "    print(e)"
      ],
      "execution_count": 73,
      "outputs": [
        {
          "output_type": "stream",
          "text": [
            "cannot copy sequence with size 6 to array axis with dimension 3\n"
          ],
          "name": "stdout"
        }
      ]
    },
    {
      "cell_type": "markdown",
      "metadata": {
        "id": "pwlBLQqM7TCB",
        "colab_type": "text"
      },
      "source": [
        "You cannot delete elements either:"
      ]
    },
    {
      "cell_type": "code",
      "metadata": {
        "id": "3mr6mcoy7TCC",
        "colab_type": "code",
        "outputId": "84c7996a-3690-4984-aae4-4aa0d687d49e",
        "colab": {
          "base_uri": "https://localhost:8080/",
          "height": 34
        }
      },
      "source": [
        "try:\n",
        "    del a[2:5]\n",
        "except ValueError as e:\n",
        "    print(e)"
      ],
      "execution_count": 74,
      "outputs": [
        {
          "output_type": "stream",
          "text": [
            "cannot delete array elements\n"
          ],
          "name": "stdout"
        }
      ]
    },
    {
      "cell_type": "markdown",
      "metadata": {
        "id": "zU-gEpKl7TCM",
        "colab_type": "text"
      },
      "source": [
        "Last but not least, `ndarray` **slices are actually *views*** on the same data buffer. This means that if you create a slice and modify it, you are actually going to modify the original `ndarray` as well!"
      ]
    },
    {
      "cell_type": "code",
      "metadata": {
        "id": "L0A6vWPu7TCN",
        "colab_type": "code",
        "outputId": "7321de35-2614-45a4-fd44-83b49cb790bc",
        "colab": {
          "base_uri": "https://localhost:8080/",
          "height": 34
        }
      },
      "source": [
        "a_slice = a[2:6]\n",
        "a_slice[1] = 1000\n",
        "a  # the original array was modified!"
      ],
      "execution_count": 75,
      "outputs": [
        {
          "output_type": "execute_result",
          "data": {
            "text/plain": [
              "array([   1,    5,   -1, 1000,   -1,    7,    3])"
            ]
          },
          "metadata": {
            "tags": []
          },
          "execution_count": 75
        }
      ]
    },
    {
      "cell_type": "code",
      "metadata": {
        "id": "fuykIxrS7TCS",
        "colab_type": "code",
        "outputId": "91743ea6-3b35-4230-a10b-eaf0c55e23b0",
        "colab": {
          "base_uri": "https://localhost:8080/",
          "height": 34
        }
      },
      "source": [
        "a[3] = 2000\n",
        "a_slice  # similarly, modifying the original array modifies the slice!"
      ],
      "execution_count": 76,
      "outputs": [
        {
          "output_type": "execute_result",
          "data": {
            "text/plain": [
              "array([  -1, 2000,   -1,    7])"
            ]
          },
          "metadata": {
            "tags": []
          },
          "execution_count": 76
        }
      ]
    },
    {
      "cell_type": "markdown",
      "metadata": {
        "id": "M1mu_jSO7TCX",
        "colab_type": "text"
      },
      "source": [
        "If you want a copy of the data, you need to use the `copy` method:"
      ]
    },
    {
      "cell_type": "code",
      "metadata": {
        "id": "GerfpC9e7TCY",
        "colab_type": "code",
        "outputId": "d97f635d-8ddf-462f-8411-7046088d74a4",
        "colab": {
          "base_uri": "https://localhost:8080/",
          "height": 34
        }
      },
      "source": [
        "another_slice = a[2:6].copy()\n",
        "another_slice[1] = 3000\n",
        "a  # the original array is untouched"
      ],
      "execution_count": 77,
      "outputs": [
        {
          "output_type": "execute_result",
          "data": {
            "text/plain": [
              "array([   1,    5,   -1, 2000,   -1,    7,    3])"
            ]
          },
          "metadata": {
            "tags": []
          },
          "execution_count": 77
        }
      ]
    },
    {
      "cell_type": "code",
      "metadata": {
        "id": "gDtUsGQe7TCf",
        "colab_type": "code",
        "outputId": "523a6a24-6ae6-4fc7-c3f4-6eef97823c71",
        "colab": {
          "base_uri": "https://localhost:8080/",
          "height": 34
        }
      },
      "source": [
        "a[3] = 4000\n",
        "another_slice  # similary, modifying the original array does not affect the slice copy"
      ],
      "execution_count": 78,
      "outputs": [
        {
          "output_type": "execute_result",
          "data": {
            "text/plain": [
              "array([  -1, 3000,   -1,    7])"
            ]
          },
          "metadata": {
            "tags": []
          },
          "execution_count": 78
        }
      ]
    },
    {
      "cell_type": "markdown",
      "metadata": {
        "id": "u3iPzd-17TCv",
        "colab_type": "text"
      },
      "source": [
        "## Multi-dimensional arrays\n",
        "Multi-dimensional arrays can be accessed in a similar way by providing an index or slice for each axis, separated by commas:"
      ]
    },
    {
      "cell_type": "code",
      "metadata": {
        "id": "-Jq1GHgB7TCw",
        "colab_type": "code",
        "outputId": "bfc92595-f0db-436d-f769-17726c543f55",
        "colab": {
          "base_uri": "https://localhost:8080/",
          "height": 85
        }
      },
      "source": [
        "b = np.arange(48).reshape(4, 12)\n",
        "b"
      ],
      "execution_count": 79,
      "outputs": [
        {
          "output_type": "execute_result",
          "data": {
            "text/plain": [
              "array([[ 0,  1,  2,  3,  4,  5,  6,  7,  8,  9, 10, 11],\n",
              "       [12, 13, 14, 15, 16, 17, 18, 19, 20, 21, 22, 23],\n",
              "       [24, 25, 26, 27, 28, 29, 30, 31, 32, 33, 34, 35],\n",
              "       [36, 37, 38, 39, 40, 41, 42, 43, 44, 45, 46, 47]])"
            ]
          },
          "metadata": {
            "tags": []
          },
          "execution_count": 79
        }
      ]
    },
    {
      "cell_type": "code",
      "metadata": {
        "id": "x8KuD5EQ7TC1",
        "colab_type": "code",
        "outputId": "2135bad1-3946-419c-cf01-4ccb7c1cb981",
        "colab": {
          "base_uri": "https://localhost:8080/",
          "height": 34
        }
      },
      "source": [
        "b[1, 2]  # row 1, col 2"
      ],
      "execution_count": 80,
      "outputs": [
        {
          "output_type": "execute_result",
          "data": {
            "text/plain": [
              "14"
            ]
          },
          "metadata": {
            "tags": []
          },
          "execution_count": 80
        }
      ]
    },
    {
      "cell_type": "code",
      "metadata": {
        "id": "0LI5iLkQ7TC6",
        "colab_type": "code",
        "outputId": "7526cb34-e0b1-4607-b929-dad7e503fe90",
        "colab": {
          "base_uri": "https://localhost:8080/",
          "height": 34
        }
      },
      "source": [
        "b[1, :]  # row 1, all columns"
      ],
      "execution_count": 81,
      "outputs": [
        {
          "output_type": "execute_result",
          "data": {
            "text/plain": [
              "array([12, 13, 14, 15, 16, 17, 18, 19, 20, 21, 22, 23])"
            ]
          },
          "metadata": {
            "tags": []
          },
          "execution_count": 81
        }
      ]
    },
    {
      "cell_type": "code",
      "metadata": {
        "id": "0gN849EA7TC-",
        "colab_type": "code",
        "outputId": "e3cca350-e22e-4eb3-a523-98a782034ac0",
        "colab": {
          "base_uri": "https://localhost:8080/",
          "height": 34
        }
      },
      "source": [
        "b[:, 1]  # all rows, column 1"
      ],
      "execution_count": 82,
      "outputs": [
        {
          "output_type": "execute_result",
          "data": {
            "text/plain": [
              "array([ 1, 13, 25, 37])"
            ]
          },
          "metadata": {
            "tags": []
          },
          "execution_count": 82
        }
      ]
    },
    {
      "cell_type": "markdown",
      "metadata": {
        "id": "_UfDef7S7TDD",
        "colab_type": "text"
      },
      "source": [
        "**Caution**: note the subtle difference between these two expressions: "
      ]
    },
    {
      "cell_type": "code",
      "metadata": {
        "scrolled": true,
        "id": "YxMB6Oly7TDE",
        "colab_type": "code",
        "outputId": "4fb043d3-6eba-49fd-dee6-05c4ec6b940d",
        "colab": {
          "base_uri": "https://localhost:8080/",
          "height": 34
        }
      },
      "source": [
        "b[1, :]"
      ],
      "execution_count": 83,
      "outputs": [
        {
          "output_type": "execute_result",
          "data": {
            "text/plain": [
              "array([12, 13, 14, 15, 16, 17, 18, 19, 20, 21, 22, 23])"
            ]
          },
          "metadata": {
            "tags": []
          },
          "execution_count": 83
        }
      ]
    },
    {
      "cell_type": "code",
      "metadata": {
        "id": "wwafQDOa7TDI",
        "colab_type": "code",
        "outputId": "3b31c736-efb6-4b48-8693-a320ea9984d2",
        "colab": {
          "base_uri": "https://localhost:8080/",
          "height": 34
        }
      },
      "source": [
        "b[1:2, :]"
      ],
      "execution_count": 84,
      "outputs": [
        {
          "output_type": "execute_result",
          "data": {
            "text/plain": [
              "array([[12, 13, 14, 15, 16, 17, 18, 19, 20, 21, 22, 23]])"
            ]
          },
          "metadata": {
            "tags": []
          },
          "execution_count": 84
        }
      ]
    },
    {
      "cell_type": "markdown",
      "metadata": {
        "id": "S8_l9e0y7TDN",
        "colab_type": "text"
      },
      "source": [
        "The first expression returns row 1 as a 1D array of shape `(12,)`, while the second returns that same row as a 2D array of shape `(1, 12)`."
      ]
    },
    {
      "cell_type": "markdown",
      "metadata": {
        "id": "_LP7k9LL7TDO",
        "colab_type": "text"
      },
      "source": [
        "## Fancy indexing\n",
        "You may also specify a list of indices that you are interested in. This is referred to as *fancy indexing*."
      ]
    },
    {
      "cell_type": "code",
      "metadata": {
        "scrolled": true,
        "id": "nmAwCkgF7TDV",
        "colab_type": "code",
        "outputId": "752a2dd9-a1f8-4512-c412-fc7a5e225ab6",
        "colab": {
          "base_uri": "https://localhost:8080/",
          "height": 51
        }
      },
      "source": [
        "b[(0,2), 2:5]  # rows 0 and 2, columns 2 to 4 (5-1)"
      ],
      "execution_count": 85,
      "outputs": [
        {
          "output_type": "execute_result",
          "data": {
            "text/plain": [
              "array([[ 2,  3,  4],\n",
              "       [26, 27, 28]])"
            ]
          },
          "metadata": {
            "tags": []
          },
          "execution_count": 85
        }
      ]
    },
    {
      "cell_type": "code",
      "metadata": {
        "id": "TWYRCe2s7TDa",
        "colab_type": "code",
        "outputId": "c5bcc39e-54dd-46b9-944b-46a29178eda3",
        "colab": {
          "base_uri": "https://localhost:8080/",
          "height": 85
        }
      },
      "source": [
        "b[:, (-1, 2, -1)]  # all rows, columns -1 (last), 2 and -1 (again, and in this order)"
      ],
      "execution_count": 86,
      "outputs": [
        {
          "output_type": "execute_result",
          "data": {
            "text/plain": [
              "array([[11,  2, 11],\n",
              "       [23, 14, 23],\n",
              "       [35, 26, 35],\n",
              "       [47, 38, 47]])"
            ]
          },
          "metadata": {
            "tags": []
          },
          "execution_count": 86
        }
      ]
    },
    {
      "cell_type": "markdown",
      "metadata": {
        "id": "p1WTw96o7TDp",
        "colab_type": "text"
      },
      "source": [
        "If you provide multiple index arrays, you get a 1D `ndarray` containing the values of the elements at the specified coordinates."
      ]
    },
    {
      "cell_type": "code",
      "metadata": {
        "id": "XHr7iU0E7TDq",
        "colab_type": "code",
        "outputId": "a83e0bb0-6696-4049-f0ec-8b820e22cc9c",
        "colab": {
          "base_uri": "https://localhost:8080/",
          "height": 34
        }
      },
      "source": [
        "b[(-1, 2, -1, 2), (5, 9, 1, 9)]  # returns a 1D array with b[-1, 5], b[2, 9], b[-1, 1] and b[2, 9] (again)"
      ],
      "execution_count": 87,
      "outputs": [
        {
          "output_type": "execute_result",
          "data": {
            "text/plain": [
              "array([41, 33, 37, 33])"
            ]
          },
          "metadata": {
            "tags": []
          },
          "execution_count": 87
        }
      ]
    },
    {
      "cell_type": "markdown",
      "metadata": {
        "id": "Wjs-p6g37TDv",
        "colab_type": "text"
      },
      "source": [
        "## Higher dimensions\n",
        "Everything works just as well with higher dimensional arrays, but it's useful to look at a few examples:"
      ]
    },
    {
      "cell_type": "code",
      "metadata": {
        "id": "q0W-SN807TDw",
        "colab_type": "code",
        "outputId": "b891b132-2c0d-4e77-e9a4-46ca8c2c50b1",
        "colab": {
          "base_uri": "https://localhost:8080/",
          "height": 204
        }
      },
      "source": [
        "c = b.reshape(4,2,6)\n",
        "c"
      ],
      "execution_count": 88,
      "outputs": [
        {
          "output_type": "execute_result",
          "data": {
            "text/plain": [
              "array([[[ 0,  1,  2,  3,  4,  5],\n",
              "        [ 6,  7,  8,  9, 10, 11]],\n",
              "\n",
              "       [[12, 13, 14, 15, 16, 17],\n",
              "        [18, 19, 20, 21, 22, 23]],\n",
              "\n",
              "       [[24, 25, 26, 27, 28, 29],\n",
              "        [30, 31, 32, 33, 34, 35]],\n",
              "\n",
              "       [[36, 37, 38, 39, 40, 41],\n",
              "        [42, 43, 44, 45, 46, 47]]])"
            ]
          },
          "metadata": {
            "tags": []
          },
          "execution_count": 88
        }
      ]
    },
    {
      "cell_type": "code",
      "metadata": {
        "id": "QeNLaMGL7TD1",
        "colab_type": "code",
        "outputId": "fde2c4ba-2c2a-49f5-cb7e-23663f266cb5",
        "colab": {
          "base_uri": "https://localhost:8080/",
          "height": 34
        }
      },
      "source": [
        "c[2, 1, 4]  # matrix 2, row 1, col 4"
      ],
      "execution_count": 89,
      "outputs": [
        {
          "output_type": "execute_result",
          "data": {
            "text/plain": [
              "34"
            ]
          },
          "metadata": {
            "tags": []
          },
          "execution_count": 89
        }
      ]
    },
    {
      "cell_type": "code",
      "metadata": {
        "id": "o5GtmsMx7TD5",
        "colab_type": "code",
        "outputId": "eb194ab7-c8d4-42c6-c77b-0cbf1e05a3f6",
        "colab": {
          "base_uri": "https://localhost:8080/",
          "height": 34
        }
      },
      "source": [
        "c[2, :, 3]  # matrix 2, all rows, col 3"
      ],
      "execution_count": 90,
      "outputs": [
        {
          "output_type": "execute_result",
          "data": {
            "text/plain": [
              "array([27, 33])"
            ]
          },
          "metadata": {
            "tags": []
          },
          "execution_count": 90
        }
      ]
    },
    {
      "cell_type": "markdown",
      "metadata": {
        "id": "kJGM2EWO7TD-",
        "colab_type": "text"
      },
      "source": [
        "If you omit coordinates for some axes, then all elements in these axes are returned:"
      ]
    },
    {
      "cell_type": "code",
      "metadata": {
        "id": "icMfZK6v7TEF",
        "colab_type": "code",
        "outputId": "484f7624-6114-4e31-c655-020ade2be2b6",
        "colab": {
          "base_uri": "https://localhost:8080/",
          "height": 34
        }
      },
      "source": [
        "c[2, 1]  # Return matrix 2, row 1, all columns.  This is equivalent to c[2, 1, :]"
      ],
      "execution_count": 91,
      "outputs": [
        {
          "output_type": "execute_result",
          "data": {
            "text/plain": [
              "array([30, 31, 32, 33, 34, 35])"
            ]
          },
          "metadata": {
            "tags": []
          },
          "execution_count": 91
        }
      ]
    },
    {
      "cell_type": "markdown",
      "metadata": {
        "id": "Xm4I1JcS7TEL",
        "colab_type": "text"
      },
      "source": [
        "## Ellipsis (`...`)\n",
        "You may also write an ellipsis (`...`) to ask that all non-specified axes be entirely included."
      ]
    },
    {
      "cell_type": "code",
      "metadata": {
        "id": "SHVOGryY7TEN",
        "colab_type": "code",
        "outputId": "ac435777-9363-49c0-e713-8e781251fa7a",
        "colab": {
          "base_uri": "https://localhost:8080/",
          "height": 51
        }
      },
      "source": [
        "c[2, ...]  #  matrix 2, all rows, all columns.  This is equivalent to c[2, :, :]"
      ],
      "execution_count": 92,
      "outputs": [
        {
          "output_type": "execute_result",
          "data": {
            "text/plain": [
              "array([[24, 25, 26, 27, 28, 29],\n",
              "       [30, 31, 32, 33, 34, 35]])"
            ]
          },
          "metadata": {
            "tags": []
          },
          "execution_count": 92
        }
      ]
    },
    {
      "cell_type": "code",
      "metadata": {
        "id": "11B8birY7TET",
        "colab_type": "code",
        "outputId": "166697db-0530-4c5c-f378-817416d7da76",
        "colab": {
          "base_uri": "https://localhost:8080/",
          "height": 34
        }
      },
      "source": [
        "c[2, 1, ...]  # matrix 2, row 1, all columns.  This is equivalent to c[2, 1, :]"
      ],
      "execution_count": 93,
      "outputs": [
        {
          "output_type": "execute_result",
          "data": {
            "text/plain": [
              "array([30, 31, 32, 33, 34, 35])"
            ]
          },
          "metadata": {
            "tags": []
          },
          "execution_count": 93
        }
      ]
    },
    {
      "cell_type": "code",
      "metadata": {
        "id": "TB9outvs7TEY",
        "colab_type": "code",
        "outputId": "f562ca5c-b44d-48a5-8ac7-81640cea1efa",
        "colab": {
          "base_uri": "https://localhost:8080/",
          "height": 34
        }
      },
      "source": [
        "c[2, ..., 3]  # matrix 2, all rows, column 3.  This is equivalent to c[2, :, 3]"
      ],
      "execution_count": 94,
      "outputs": [
        {
          "output_type": "execute_result",
          "data": {
            "text/plain": [
              "array([27, 33])"
            ]
          },
          "metadata": {
            "tags": []
          },
          "execution_count": 94
        }
      ]
    },
    {
      "cell_type": "code",
      "metadata": {
        "scrolled": false,
        "id": "2Hn5x4eL7TEc",
        "colab_type": "code",
        "outputId": "7babb04d-74c5-4f84-b0ee-4aef0c8c00a5",
        "colab": {
          "base_uri": "https://localhost:8080/",
          "height": 85
        }
      },
      "source": [
        "c[..., 3]  # all matrices, all rows, column 3.  This is equivalent to c[:, :, 3]"
      ],
      "execution_count": 95,
      "outputs": [
        {
          "output_type": "execute_result",
          "data": {
            "text/plain": [
              "array([[ 3,  9],\n",
              "       [15, 21],\n",
              "       [27, 33],\n",
              "       [39, 45]])"
            ]
          },
          "metadata": {
            "tags": []
          },
          "execution_count": 95
        }
      ]
    },
    {
      "cell_type": "markdown",
      "metadata": {
        "id": "NIR6myyu7TEg",
        "colab_type": "text"
      },
      "source": [
        "## Boolean indexing\n",
        "You can also provide an `ndarray` of boolean values on one axis to specify the indices that you want to access."
      ]
    },
    {
      "cell_type": "code",
      "metadata": {
        "id": "chVMNscp7TEh",
        "colab_type": "code",
        "outputId": "831ee9b3-84fb-48d2-cc2b-1dcb3027917d",
        "colab": {
          "base_uri": "https://localhost:8080/",
          "height": 85
        }
      },
      "source": [
        "b = np.arange(48).reshape(4, 12)\n",
        "b"
      ],
      "execution_count": 96,
      "outputs": [
        {
          "output_type": "execute_result",
          "data": {
            "text/plain": [
              "array([[ 0,  1,  2,  3,  4,  5,  6,  7,  8,  9, 10, 11],\n",
              "       [12, 13, 14, 15, 16, 17, 18, 19, 20, 21, 22, 23],\n",
              "       [24, 25, 26, 27, 28, 29, 30, 31, 32, 33, 34, 35],\n",
              "       [36, 37, 38, 39, 40, 41, 42, 43, 44, 45, 46, 47]])"
            ]
          },
          "metadata": {
            "tags": []
          },
          "execution_count": 96
        }
      ]
    },
    {
      "cell_type": "code",
      "metadata": {
        "id": "panfvfYO7TEo",
        "colab_type": "code",
        "outputId": "8967083f-08ca-4936-aba2-0d531511162e",
        "colab": {
          "base_uri": "https://localhost:8080/",
          "height": 51
        }
      },
      "source": [
        "rows_on = np.array([True, False, True, False])\n",
        "b[rows_on, :]  # Rows 0 and 2, all columns. Equivalent to b[(0, 2), :]"
      ],
      "execution_count": 97,
      "outputs": [
        {
          "output_type": "execute_result",
          "data": {
            "text/plain": [
              "array([[ 0,  1,  2,  3,  4,  5,  6,  7,  8,  9, 10, 11],\n",
              "       [24, 25, 26, 27, 28, 29, 30, 31, 32, 33, 34, 35]])"
            ]
          },
          "metadata": {
            "tags": []
          },
          "execution_count": 97
        }
      ]
    },
    {
      "cell_type": "code",
      "metadata": {
        "id": "4gnJ25Th7TEs",
        "colab_type": "code",
        "outputId": "f25efa79-d51b-4260-c776-96fd24006444",
        "colab": {
          "base_uri": "https://localhost:8080/",
          "height": 85
        }
      },
      "source": [
        "cols_on = np.array([False, True, False] * 4)\n",
        "b[:, cols_on]  # All rows, columns 1, 4, 7 and 10"
      ],
      "execution_count": 98,
      "outputs": [
        {
          "output_type": "execute_result",
          "data": {
            "text/plain": [
              "array([[ 1,  4,  7, 10],\n",
              "       [13, 16, 19, 22],\n",
              "       [25, 28, 31, 34],\n",
              "       [37, 40, 43, 46]])"
            ]
          },
          "metadata": {
            "tags": []
          },
          "execution_count": 98
        }
      ]
    },
    {
      "cell_type": "markdown",
      "metadata": {
        "id": "---cgiib7TEw",
        "colab_type": "text"
      },
      "source": [
        "## `np.ix_`\n",
        "You cannot use boolean indexing this way on multiple axes, but you can work around this by using the `ix_` function:"
      ]
    },
    {
      "cell_type": "code",
      "metadata": {
        "id": "dU8aSiUw7TEy",
        "colab_type": "code",
        "outputId": "f3261401-a0eb-4d08-d4f7-027988847fbb",
        "colab": {
          "base_uri": "https://localhost:8080/",
          "height": 51
        }
      },
      "source": [
        "b[np.ix_(rows_on, cols_on)]"
      ],
      "execution_count": 99,
      "outputs": [
        {
          "output_type": "execute_result",
          "data": {
            "text/plain": [
              "array([[ 1,  4,  7, 10],\n",
              "       [25, 28, 31, 34]])"
            ]
          },
          "metadata": {
            "tags": []
          },
          "execution_count": 99
        }
      ]
    },
    {
      "cell_type": "code",
      "metadata": {
        "id": "kCXgDGNx7TE2",
        "colab_type": "code",
        "outputId": "6426bdc1-4b87-4ad6-fc2b-cd367be228c2",
        "colab": {
          "base_uri": "https://localhost:8080/",
          "height": 51
        }
      },
      "source": [
        "np.ix_(rows_on, cols_on)"
      ],
      "execution_count": 100,
      "outputs": [
        {
          "output_type": "execute_result",
          "data": {
            "text/plain": [
              "(array([[0],\n",
              "        [2]]), array([[ 1,  4,  7, 10]]))"
            ]
          },
          "metadata": {
            "tags": []
          },
          "execution_count": 100
        }
      ]
    },
    {
      "cell_type": "markdown",
      "metadata": {
        "id": "9KtZfb0Y7TFC",
        "colab_type": "text"
      },
      "source": [
        "If you use a boolean array that has the same shape as the `ndarray`, then you get in return a 1D array containing all the values that have `True` at their coordinate. This is generally used along with conditional operators:"
      ]
    },
    {
      "cell_type": "code",
      "metadata": {
        "id": "Hw-KpPVL7TFE",
        "colab_type": "code",
        "outputId": "1b0adbc0-4cfb-46ea-f756-5f415c755f46",
        "colab": {
          "base_uri": "https://localhost:8080/",
          "height": 34
        }
      },
      "source": [
        "b[b % 3 == 1]"
      ],
      "execution_count": 101,
      "outputs": [
        {
          "output_type": "execute_result",
          "data": {
            "text/plain": [
              "array([ 1,  4,  7, 10, 13, 16, 19, 22, 25, 28, 31, 34, 37, 40, 43, 46])"
            ]
          },
          "metadata": {
            "tags": []
          },
          "execution_count": 101
        }
      ]
    },
    {
      "cell_type": "markdown",
      "metadata": {
        "id": "MavzzUdV7TFM",
        "colab_type": "text"
      },
      "source": [
        "# Iterating\n",
        "Iterating over `ndarray`s is very similar to iterating over regular python arrays. Note that iterating over multidimensional arrays is done with respect to the first axis."
      ]
    },
    {
      "cell_type": "code",
      "metadata": {
        "id": "LI0m-Rh67TFN",
        "colab_type": "code",
        "outputId": "d813431a-cabf-4af7-e956-3d22771510ba",
        "colab": {
          "base_uri": "https://localhost:8080/",
          "height": 136
        }
      },
      "source": [
        "c = np.arange(24).reshape(2, 3, 4)  # A 3D array (composed of two 3x4 matrices)\n",
        "c"
      ],
      "execution_count": 102,
      "outputs": [
        {
          "output_type": "execute_result",
          "data": {
            "text/plain": [
              "array([[[ 0,  1,  2,  3],\n",
              "        [ 4,  5,  6,  7],\n",
              "        [ 8,  9, 10, 11]],\n",
              "\n",
              "       [[12, 13, 14, 15],\n",
              "        [16, 17, 18, 19],\n",
              "        [20, 21, 22, 23]]])"
            ]
          },
          "metadata": {
            "tags": []
          },
          "execution_count": 102
        }
      ]
    },
    {
      "cell_type": "code",
      "metadata": {
        "id": "YB5xcF837TFR",
        "colab_type": "code",
        "outputId": "7f44abdb-2a9e-4997-ee5a-c50bda86c6de",
        "colab": {
          "base_uri": "https://localhost:8080/",
          "height": 153
        }
      },
      "source": [
        "for m in c:\n",
        "    print(\"Item:\")\n",
        "    print(m)"
      ],
      "execution_count": 103,
      "outputs": [
        {
          "output_type": "stream",
          "text": [
            "Item:\n",
            "[[ 0  1  2  3]\n",
            " [ 4  5  6  7]\n",
            " [ 8  9 10 11]]\n",
            "Item:\n",
            "[[12 13 14 15]\n",
            " [16 17 18 19]\n",
            " [20 21 22 23]]\n"
          ],
          "name": "stdout"
        }
      ]
    },
    {
      "cell_type": "code",
      "metadata": {
        "id": "sEwzVsG17TFe",
        "colab_type": "code",
        "outputId": "e35afddd-a0ba-4b73-bf2a-6714cbca5942",
        "colab": {
          "base_uri": "https://localhost:8080/",
          "height": 153
        }
      },
      "source": [
        "for i in range(len(c)):  # Note that len(c) == c.shape[0]\n",
        "    print(\"Item:\")\n",
        "    print(c[i])"
      ],
      "execution_count": 104,
      "outputs": [
        {
          "output_type": "stream",
          "text": [
            "Item:\n",
            "[[ 0  1  2  3]\n",
            " [ 4  5  6  7]\n",
            " [ 8  9 10 11]]\n",
            "Item:\n",
            "[[12 13 14 15]\n",
            " [16 17 18 19]\n",
            " [20 21 22 23]]\n"
          ],
          "name": "stdout"
        }
      ]
    },
    {
      "cell_type": "markdown",
      "metadata": {
        "id": "qSxJaBSm7TFl",
        "colab_type": "text"
      },
      "source": [
        "If you want to iterate on *all* elements in the `ndarray`, simply iterate over the `flat` attribute:"
      ]
    },
    {
      "cell_type": "code",
      "metadata": {
        "id": "NOk2RscO7TFm",
        "colab_type": "code",
        "outputId": "8bde1055-a1f5-4507-aed5-bdfbec14e95e",
        "colab": {
          "base_uri": "https://localhost:8080/",
          "height": 425
        }
      },
      "source": [
        "for i in c.flat:\n",
        "    print(\"Item:\", i)"
      ],
      "execution_count": 105,
      "outputs": [
        {
          "output_type": "stream",
          "text": [
            "Item: 0\n",
            "Item: 1\n",
            "Item: 2\n",
            "Item: 3\n",
            "Item: 4\n",
            "Item: 5\n",
            "Item: 6\n",
            "Item: 7\n",
            "Item: 8\n",
            "Item: 9\n",
            "Item: 10\n",
            "Item: 11\n",
            "Item: 12\n",
            "Item: 13\n",
            "Item: 14\n",
            "Item: 15\n",
            "Item: 16\n",
            "Item: 17\n",
            "Item: 18\n",
            "Item: 19\n",
            "Item: 20\n",
            "Item: 21\n",
            "Item: 22\n",
            "Item: 23\n"
          ],
          "name": "stdout"
        }
      ]
    },
    {
      "cell_type": "markdown",
      "metadata": {
        "id": "QoidL0Wo7TFq",
        "colab_type": "text"
      },
      "source": [
        "# Stacking arrays\n",
        "It is often useful to stack together different arrays. NumPy offers several functions to do just that. Let's start by creating a few arrays."
      ]
    },
    {
      "cell_type": "code",
      "metadata": {
        "id": "GgFMn0mE7TFx",
        "colab_type": "code",
        "outputId": "c4dd7542-58e8-4f39-c008-b3cb4b3daaea",
        "colab": {
          "base_uri": "https://localhost:8080/",
          "height": 68
        }
      },
      "source": [
        "q1 = np.full((3,4), 1.0)\n",
        "q1"
      ],
      "execution_count": 106,
      "outputs": [
        {
          "output_type": "execute_result",
          "data": {
            "text/plain": [
              "array([[1., 1., 1., 1.],\n",
              "       [1., 1., 1., 1.],\n",
              "       [1., 1., 1., 1.]])"
            ]
          },
          "metadata": {
            "tags": []
          },
          "execution_count": 106
        }
      ]
    },
    {
      "cell_type": "code",
      "metadata": {
        "id": "C84ELfsw7TF1",
        "colab_type": "code",
        "outputId": "6af523b6-7252-452e-f8a5-cb2a6dad7edb",
        "colab": {
          "base_uri": "https://localhost:8080/",
          "height": 85
        }
      },
      "source": [
        "q2 = np.full((4,4), 2.0)\n",
        "q2"
      ],
      "execution_count": 107,
      "outputs": [
        {
          "output_type": "execute_result",
          "data": {
            "text/plain": [
              "array([[2., 2., 2., 2.],\n",
              "       [2., 2., 2., 2.],\n",
              "       [2., 2., 2., 2.],\n",
              "       [2., 2., 2., 2.]])"
            ]
          },
          "metadata": {
            "tags": []
          },
          "execution_count": 107
        }
      ]
    },
    {
      "cell_type": "code",
      "metadata": {
        "id": "T8-UPCDf7TF7",
        "colab_type": "code",
        "outputId": "6c851234-8aa1-4500-d6dd-7917c9096e92",
        "colab": {
          "base_uri": "https://localhost:8080/",
          "height": 68
        }
      },
      "source": [
        "q3 = np.full((3,4), 3.0)\n",
        "q3"
      ],
      "execution_count": 108,
      "outputs": [
        {
          "output_type": "execute_result",
          "data": {
            "text/plain": [
              "array([[3., 3., 3., 3.],\n",
              "       [3., 3., 3., 3.],\n",
              "       [3., 3., 3., 3.]])"
            ]
          },
          "metadata": {
            "tags": []
          },
          "execution_count": 108
        }
      ]
    },
    {
      "cell_type": "markdown",
      "metadata": {
        "id": "MFS5txBO7TGN",
        "colab_type": "text"
      },
      "source": [
        "## `vstack`\n",
        "Now let's stack them vertically using `vstack`:"
      ]
    },
    {
      "cell_type": "code",
      "metadata": {
        "id": "DayD0SAI7TGO",
        "colab_type": "code",
        "outputId": "b11a16b3-1a3c-436e-9335-97ed0e6c02c9",
        "colab": {
          "base_uri": "https://localhost:8080/",
          "height": 187
        }
      },
      "source": [
        "q4 = np.vstack((q1, q2, q3))\n",
        "q4"
      ],
      "execution_count": 109,
      "outputs": [
        {
          "output_type": "execute_result",
          "data": {
            "text/plain": [
              "array([[1., 1., 1., 1.],\n",
              "       [1., 1., 1., 1.],\n",
              "       [1., 1., 1., 1.],\n",
              "       [2., 2., 2., 2.],\n",
              "       [2., 2., 2., 2.],\n",
              "       [2., 2., 2., 2.],\n",
              "       [2., 2., 2., 2.],\n",
              "       [3., 3., 3., 3.],\n",
              "       [3., 3., 3., 3.],\n",
              "       [3., 3., 3., 3.]])"
            ]
          },
          "metadata": {
            "tags": []
          },
          "execution_count": 109
        }
      ]
    },
    {
      "cell_type": "code",
      "metadata": {
        "id": "mpr8txyy7TGV",
        "colab_type": "code",
        "outputId": "d75afd17-0872-424c-ef2f-ddeff1e15394",
        "colab": {
          "base_uri": "https://localhost:8080/",
          "height": 34
        }
      },
      "source": [
        "q4.shape"
      ],
      "execution_count": 110,
      "outputs": [
        {
          "output_type": "execute_result",
          "data": {
            "text/plain": [
              "(10, 4)"
            ]
          },
          "metadata": {
            "tags": []
          },
          "execution_count": 110
        }
      ]
    },
    {
      "cell_type": "markdown",
      "metadata": {
        "id": "h3WpZrwe7TGe",
        "colab_type": "text"
      },
      "source": [
        "This was possible because q1, q2 and q3 all have the same shape (except for the vertical axis, but that's ok since we are stacking on that axis).\n",
        "\n",
        "## `hstack`\n",
        "We can also stack arrays horizontally using `hstack`:"
      ]
    },
    {
      "cell_type": "code",
      "metadata": {
        "id": "3hDgQ8bR7TGf",
        "colab_type": "code",
        "outputId": "4dcfb907-731a-4aa5-d2bf-05317c42788a",
        "colab": {
          "base_uri": "https://localhost:8080/",
          "height": 68
        }
      },
      "source": [
        "q5 = np.hstack((q1, q3))\n",
        "q5"
      ],
      "execution_count": 111,
      "outputs": [
        {
          "output_type": "execute_result",
          "data": {
            "text/plain": [
              "array([[1., 1., 1., 1., 3., 3., 3., 3.],\n",
              "       [1., 1., 1., 1., 3., 3., 3., 3.],\n",
              "       [1., 1., 1., 1., 3., 3., 3., 3.]])"
            ]
          },
          "metadata": {
            "tags": []
          },
          "execution_count": 111
        }
      ]
    },
    {
      "cell_type": "code",
      "metadata": {
        "id": "v6t2C8T97TGl",
        "colab_type": "code",
        "outputId": "a9c6a12b-891d-4a48-8753-0a47b171633b",
        "colab": {
          "base_uri": "https://localhost:8080/",
          "height": 34
        }
      },
      "source": [
        "q5.shape"
      ],
      "execution_count": 112,
      "outputs": [
        {
          "output_type": "execute_result",
          "data": {
            "text/plain": [
              "(3, 8)"
            ]
          },
          "metadata": {
            "tags": []
          },
          "execution_count": 112
        }
      ]
    },
    {
      "cell_type": "markdown",
      "metadata": {
        "id": "5tD1n1qd7TGq",
        "colab_type": "text"
      },
      "source": [
        "This is possible because q1 and q3 both have 3 rows. But since q2 has 4 rows, it cannot be stacked horizontally with q1 and q3:"
      ]
    },
    {
      "cell_type": "code",
      "metadata": {
        "id": "Vshr4G507TGr",
        "colab_type": "code",
        "outputId": "7c038c5b-0b23-4320-b4cd-01b635190201",
        "colab": {
          "base_uri": "https://localhost:8080/",
          "height": 54
        }
      },
      "source": [
        "try:\n",
        "    q5 = np.hstack((q1, q2, q3))\n",
        "except ValueError as e:\n",
        "    print(e)"
      ],
      "execution_count": 113,
      "outputs": [
        {
          "output_type": "stream",
          "text": [
            "all the input array dimensions for the concatenation axis must match exactly, but along dimension 0, the array at index 0 has size 3 and the array at index 1 has size 4\n"
          ],
          "name": "stdout"
        }
      ]
    },
    {
      "cell_type": "markdown",
      "metadata": {
        "id": "-PFue3W77TGz",
        "colab_type": "text"
      },
      "source": [
        "## `concatenate`\n",
        "The `concatenate` function stacks arrays along any given existing axis."
      ]
    },
    {
      "cell_type": "code",
      "metadata": {
        "id": "Xiqp4KAC7TG1",
        "colab_type": "code",
        "outputId": "dfb49e1a-1aeb-4bd3-b3ee-1eaa3b0d471d",
        "colab": {
          "base_uri": "https://localhost:8080/",
          "height": 187
        }
      },
      "source": [
        "q7 = np.concatenate((q1, q2, q3), axis=0)  # Equivalent to vstack\n",
        "q7"
      ],
      "execution_count": 114,
      "outputs": [
        {
          "output_type": "execute_result",
          "data": {
            "text/plain": [
              "array([[1., 1., 1., 1.],\n",
              "       [1., 1., 1., 1.],\n",
              "       [1., 1., 1., 1.],\n",
              "       [2., 2., 2., 2.],\n",
              "       [2., 2., 2., 2.],\n",
              "       [2., 2., 2., 2.],\n",
              "       [2., 2., 2., 2.],\n",
              "       [3., 3., 3., 3.],\n",
              "       [3., 3., 3., 3.],\n",
              "       [3., 3., 3., 3.]])"
            ]
          },
          "metadata": {
            "tags": []
          },
          "execution_count": 114
        }
      ]
    },
    {
      "cell_type": "code",
      "metadata": {
        "id": "vDi_M-yt7TG6",
        "colab_type": "code",
        "outputId": "3c558cf3-194f-4881-eb8b-2fea2bf3743b",
        "colab": {
          "base_uri": "https://localhost:8080/",
          "height": 34
        }
      },
      "source": [
        "q7.shape"
      ],
      "execution_count": 115,
      "outputs": [
        {
          "output_type": "execute_result",
          "data": {
            "text/plain": [
              "(10, 4)"
            ]
          },
          "metadata": {
            "tags": []
          },
          "execution_count": 115
        }
      ]
    },
    {
      "cell_type": "markdown",
      "metadata": {
        "id": "kWumYXf47TG_",
        "colab_type": "text"
      },
      "source": [
        "As you might guess, `hstack` is equivalent to calling `concatenate` with `axis=1`."
      ]
    },
    {
      "cell_type": "markdown",
      "metadata": {
        "id": "SKSLUXjf7THA",
        "colab_type": "text"
      },
      "source": [
        "## `stack`\n",
        "The `stack` function stacks arrays along a new axis. All arrays have to have the same shape."
      ]
    },
    {
      "cell_type": "code",
      "metadata": {
        "id": "vas6IKeA7THB",
        "colab_type": "code",
        "outputId": "4d7031be-1183-4284-e6fc-10bc0f98c1d8",
        "colab": {
          "base_uri": "https://localhost:8080/",
          "height": 136
        }
      },
      "source": [
        "q8 = np.stack((q1, q3))\n",
        "q8"
      ],
      "execution_count": 116,
      "outputs": [
        {
          "output_type": "execute_result",
          "data": {
            "text/plain": [
              "array([[[1., 1., 1., 1.],\n",
              "        [1., 1., 1., 1.],\n",
              "        [1., 1., 1., 1.]],\n",
              "\n",
              "       [[3., 3., 3., 3.],\n",
              "        [3., 3., 3., 3.],\n",
              "        [3., 3., 3., 3.]]])"
            ]
          },
          "metadata": {
            "tags": []
          },
          "execution_count": 116
        }
      ]
    },
    {
      "cell_type": "code",
      "metadata": {
        "id": "cK5f4l377THF",
        "colab_type": "code",
        "outputId": "76281186-0e25-4280-8f32-7e6e569975af",
        "colab": {
          "base_uri": "https://localhost:8080/",
          "height": 34
        }
      },
      "source": [
        "q8.shape"
      ],
      "execution_count": 117,
      "outputs": [
        {
          "output_type": "execute_result",
          "data": {
            "text/plain": [
              "(2, 3, 4)"
            ]
          },
          "metadata": {
            "tags": []
          },
          "execution_count": 117
        }
      ]
    },
    {
      "cell_type": "markdown",
      "metadata": {
        "id": "vf8iM8ju7THP",
        "colab_type": "text"
      },
      "source": [
        "# Splitting arrays\n",
        "Splitting is the opposite of stacking. For example, let's use the `vsplit` function to split a matrix vertically.\n",
        "\n",
        "First let's create a 6x4 matrix:"
      ]
    },
    {
      "cell_type": "code",
      "metadata": {
        "id": "GIE6JxNC7THQ",
        "colab_type": "code",
        "outputId": "1db3870d-74d8-4c45-cff7-fc1d0b7484fd",
        "colab": {
          "base_uri": "https://localhost:8080/",
          "height": 119
        }
      },
      "source": [
        "r = np.arange(24).reshape(6,4)\n",
        "r"
      ],
      "execution_count": 118,
      "outputs": [
        {
          "output_type": "execute_result",
          "data": {
            "text/plain": [
              "array([[ 0,  1,  2,  3],\n",
              "       [ 4,  5,  6,  7],\n",
              "       [ 8,  9, 10, 11],\n",
              "       [12, 13, 14, 15],\n",
              "       [16, 17, 18, 19],\n",
              "       [20, 21, 22, 23]])"
            ]
          },
          "metadata": {
            "tags": []
          },
          "execution_count": 118
        }
      ]
    },
    {
      "cell_type": "markdown",
      "metadata": {
        "id": "FIaDj6_I7THU",
        "colab_type": "text"
      },
      "source": [
        "Now let's split it in three equal parts, vertically:"
      ]
    },
    {
      "cell_type": "code",
      "metadata": {
        "id": "z2GUZTm07THV",
        "colab_type": "code",
        "outputId": "456c7a81-5346-46fd-bbb7-1944050b05f3",
        "colab": {
          "base_uri": "https://localhost:8080/",
          "height": 51
        }
      },
      "source": [
        "r1, r2, r3 = np.vsplit(r, 3)\n",
        "r1"
      ],
      "execution_count": 119,
      "outputs": [
        {
          "output_type": "execute_result",
          "data": {
            "text/plain": [
              "array([[0, 1, 2, 3],\n",
              "       [4, 5, 6, 7]])"
            ]
          },
          "metadata": {
            "tags": []
          },
          "execution_count": 119
        }
      ]
    },
    {
      "cell_type": "code",
      "metadata": {
        "id": "6dWwpPeB7THZ",
        "colab_type": "code",
        "outputId": "a3d548fe-fcce-427c-9cff-d37329fceb78",
        "colab": {
          "base_uri": "https://localhost:8080/",
          "height": 51
        }
      },
      "source": [
        "r2"
      ],
      "execution_count": 120,
      "outputs": [
        {
          "output_type": "execute_result",
          "data": {
            "text/plain": [
              "array([[ 8,  9, 10, 11],\n",
              "       [12, 13, 14, 15]])"
            ]
          },
          "metadata": {
            "tags": []
          },
          "execution_count": 120
        }
      ]
    },
    {
      "cell_type": "code",
      "metadata": {
        "id": "mUsyTcCE7THo",
        "colab_type": "code",
        "outputId": "83b98e7e-1bb7-4455-e2ac-0929fcf19808",
        "colab": {
          "base_uri": "https://localhost:8080/",
          "height": 51
        }
      },
      "source": [
        "r3"
      ],
      "execution_count": 121,
      "outputs": [
        {
          "output_type": "execute_result",
          "data": {
            "text/plain": [
              "array([[16, 17, 18, 19],\n",
              "       [20, 21, 22, 23]])"
            ]
          },
          "metadata": {
            "tags": []
          },
          "execution_count": 121
        }
      ]
    },
    {
      "cell_type": "markdown",
      "metadata": {
        "id": "QKqXJ8Hb7TH1",
        "colab_type": "text"
      },
      "source": [
        "There is also a `split` function which splits an array along any given axis. Calling `vsplit` is equivalent to calling `split` with `axis=0`. There is also an `hsplit` function, equivalent to calling `split` with `axis=1`:"
      ]
    },
    {
      "cell_type": "code",
      "metadata": {
        "id": "9HZkpbmS7TH5",
        "colab_type": "code",
        "outputId": "7351ee58-947b-4238-ece4-9124cb4bdf4a",
        "colab": {
          "base_uri": "https://localhost:8080/",
          "height": 119
        }
      },
      "source": [
        "r4, r5 = np.hsplit(r, 2)\n",
        "r4"
      ],
      "execution_count": 122,
      "outputs": [
        {
          "output_type": "execute_result",
          "data": {
            "text/plain": [
              "array([[ 0,  1],\n",
              "       [ 4,  5],\n",
              "       [ 8,  9],\n",
              "       [12, 13],\n",
              "       [16, 17],\n",
              "       [20, 21]])"
            ]
          },
          "metadata": {
            "tags": []
          },
          "execution_count": 122
        }
      ]
    },
    {
      "cell_type": "code",
      "metadata": {
        "id": "HDjvEpL77TIA",
        "colab_type": "code",
        "outputId": "4726c937-ba91-41f7-e918-7977561c6424",
        "colab": {
          "base_uri": "https://localhost:8080/",
          "height": 119
        }
      },
      "source": [
        "r5"
      ],
      "execution_count": 123,
      "outputs": [
        {
          "output_type": "execute_result",
          "data": {
            "text/plain": [
              "array([[ 2,  3],\n",
              "       [ 6,  7],\n",
              "       [10, 11],\n",
              "       [14, 15],\n",
              "       [18, 19],\n",
              "       [22, 23]])"
            ]
          },
          "metadata": {
            "tags": []
          },
          "execution_count": 123
        }
      ]
    },
    {
      "cell_type": "markdown",
      "metadata": {
        "id": "R1hDB8aG7TIE",
        "colab_type": "text"
      },
      "source": [
        "# Transposing arrays\n",
        "The `transpose` method creates a new view on an `ndarray`'s data, with axes permuted in the given order.\n",
        "\n",
        "For example, let's create a 3D array:"
      ]
    },
    {
      "cell_type": "code",
      "metadata": {
        "id": "9qaiCOtj7TIF",
        "colab_type": "code",
        "outputId": "f2077b5e-e927-44af-f8a8-279c28dd757e",
        "colab": {
          "base_uri": "https://localhost:8080/",
          "height": 204
        }
      },
      "source": [
        "t = np.arange(24).reshape(4,2,3)\n",
        "t"
      ],
      "execution_count": 124,
      "outputs": [
        {
          "output_type": "execute_result",
          "data": {
            "text/plain": [
              "array([[[ 0,  1,  2],\n",
              "        [ 3,  4,  5]],\n",
              "\n",
              "       [[ 6,  7,  8],\n",
              "        [ 9, 10, 11]],\n",
              "\n",
              "       [[12, 13, 14],\n",
              "        [15, 16, 17]],\n",
              "\n",
              "       [[18, 19, 20],\n",
              "        [21, 22, 23]]])"
            ]
          },
          "metadata": {
            "tags": []
          },
          "execution_count": 124
        }
      ]
    },
    {
      "cell_type": "markdown",
      "metadata": {
        "id": "qFuCIfgA7TIM",
        "colab_type": "text"
      },
      "source": [
        "Now let's create an `ndarray` such that the axes `0, 1, 2` (depth, height, width) are re-ordered to `1, 2, 0` (depth→width, height→depth, width→height):"
      ]
    },
    {
      "cell_type": "code",
      "metadata": {
        "id": "ZwpCZCml7TIP",
        "colab_type": "code",
        "outputId": "e54e512e-aeda-4320-8757-bdd19c22568b",
        "colab": {
          "base_uri": "https://localhost:8080/",
          "height": 136
        }
      },
      "source": [
        "t1 = t.transpose((1,2,0))\n",
        "t1"
      ],
      "execution_count": 125,
      "outputs": [
        {
          "output_type": "execute_result",
          "data": {
            "text/plain": [
              "array([[[ 0,  6, 12, 18],\n",
              "        [ 1,  7, 13, 19],\n",
              "        [ 2,  8, 14, 20]],\n",
              "\n",
              "       [[ 3,  9, 15, 21],\n",
              "        [ 4, 10, 16, 22],\n",
              "        [ 5, 11, 17, 23]]])"
            ]
          },
          "metadata": {
            "tags": []
          },
          "execution_count": 125
        }
      ]
    },
    {
      "cell_type": "code",
      "metadata": {
        "id": "5Ad2VgTU7TIt",
        "colab_type": "code",
        "outputId": "836d8933-9f7d-492a-de31-9ce63ec5610d",
        "colab": {
          "base_uri": "https://localhost:8080/",
          "height": 34
        }
      },
      "source": [
        "t1.shape"
      ],
      "execution_count": 126,
      "outputs": [
        {
          "output_type": "execute_result",
          "data": {
            "text/plain": [
              "(2, 3, 4)"
            ]
          },
          "metadata": {
            "tags": []
          },
          "execution_count": 126
        }
      ]
    },
    {
      "cell_type": "markdown",
      "metadata": {
        "id": "kBdhI7lC7TIw",
        "colab_type": "text"
      },
      "source": [
        "By default, `transpose` reverses the order of the dimensions:"
      ]
    },
    {
      "cell_type": "code",
      "metadata": {
        "id": "LGaMRnUJ7TIx",
        "colab_type": "code",
        "outputId": "857784f9-2d32-49de-e2ff-1b6e63716971",
        "colab": {
          "base_uri": "https://localhost:8080/",
          "height": 153
        }
      },
      "source": [
        "t2 = t.transpose()  # equivalent to t.transpose((2, 1, 0))\n",
        "t2"
      ],
      "execution_count": 127,
      "outputs": [
        {
          "output_type": "execute_result",
          "data": {
            "text/plain": [
              "array([[[ 0,  6, 12, 18],\n",
              "        [ 3,  9, 15, 21]],\n",
              "\n",
              "       [[ 1,  7, 13, 19],\n",
              "        [ 4, 10, 16, 22]],\n",
              "\n",
              "       [[ 2,  8, 14, 20],\n",
              "        [ 5, 11, 17, 23]]])"
            ]
          },
          "metadata": {
            "tags": []
          },
          "execution_count": 127
        }
      ]
    },
    {
      "cell_type": "code",
      "metadata": {
        "id": "Z4b7RxOx7TI1",
        "colab_type": "code",
        "outputId": "e5a20af6-8811-470c-b197-e326cdbf83c8",
        "colab": {
          "base_uri": "https://localhost:8080/",
          "height": 34
        }
      },
      "source": [
        "t2.shape"
      ],
      "execution_count": 128,
      "outputs": [
        {
          "output_type": "execute_result",
          "data": {
            "text/plain": [
              "(3, 2, 4)"
            ]
          },
          "metadata": {
            "tags": []
          },
          "execution_count": 128
        }
      ]
    },
    {
      "cell_type": "markdown",
      "metadata": {
        "id": "Kn_o4jTZ7TI5",
        "colab_type": "text"
      },
      "source": [
        "NumPy provides a convenience function `swapaxes` to swap two axes. For example, let's create a new view of `t` with depth and height swapped:"
      ]
    },
    {
      "cell_type": "code",
      "metadata": {
        "id": "7afEc1Zm7TI6",
        "colab_type": "code",
        "outputId": "5eee2206-e707-4e8e-d6c6-e556630b0cbd",
        "colab": {
          "base_uri": "https://localhost:8080/",
          "height": 170
        }
      },
      "source": [
        "t3 = t.swapaxes(0,1)  # equivalent to t.transpose((1, 0, 2))\n",
        "t3"
      ],
      "execution_count": 129,
      "outputs": [
        {
          "output_type": "execute_result",
          "data": {
            "text/plain": [
              "array([[[ 0,  1,  2],\n",
              "        [ 6,  7,  8],\n",
              "        [12, 13, 14],\n",
              "        [18, 19, 20]],\n",
              "\n",
              "       [[ 3,  4,  5],\n",
              "        [ 9, 10, 11],\n",
              "        [15, 16, 17],\n",
              "        [21, 22, 23]]])"
            ]
          },
          "metadata": {
            "tags": []
          },
          "execution_count": 129
        }
      ]
    },
    {
      "cell_type": "code",
      "metadata": {
        "id": "YEXK-8l97TJF",
        "colab_type": "code",
        "outputId": "053562bd-1c5e-4614-f0b3-ec09438587fe",
        "colab": {
          "base_uri": "https://localhost:8080/",
          "height": 34
        }
      },
      "source": [
        "t3.shape"
      ],
      "execution_count": 130,
      "outputs": [
        {
          "output_type": "execute_result",
          "data": {
            "text/plain": [
              "(2, 4, 3)"
            ]
          },
          "metadata": {
            "tags": []
          },
          "execution_count": 130
        }
      ]
    },
    {
      "cell_type": "markdown",
      "metadata": {
        "id": "D9sVUdil7TJJ",
        "colab_type": "text"
      },
      "source": [
        "# Linear algebra\n",
        "NumPy 2D arrays can be used to represent matrices efficiently in python. We will just quickly go through some of the main matrix operations available. For more details about Linear Algebra, vectors and matrics, go through the [Linear Algebra tutorial](math_linear_algebra.ipynb).\n",
        "\n",
        "## Matrix transpose\n",
        "The `T` attribute is equivalent to calling `transpose()` when the rank is ≥2:"
      ]
    },
    {
      "cell_type": "code",
      "metadata": {
        "id": "8tZ-aCvO7TJK",
        "colab_type": "code",
        "outputId": "f824a60d-54ec-44e3-fa3f-66c1331e1604",
        "colab": {
          "base_uri": "https://localhost:8080/",
          "height": 51
        }
      },
      "source": [
        "m1 = np.arange(10).reshape(2,5)\n",
        "m1"
      ],
      "execution_count": 131,
      "outputs": [
        {
          "output_type": "execute_result",
          "data": {
            "text/plain": [
              "array([[0, 1, 2, 3, 4],\n",
              "       [5, 6, 7, 8, 9]])"
            ]
          },
          "metadata": {
            "tags": []
          },
          "execution_count": 131
        }
      ]
    },
    {
      "cell_type": "code",
      "metadata": {
        "id": "WOJ25Wnp7TJQ",
        "colab_type": "code",
        "outputId": "1923dd07-09c7-4ee5-b643-2ffe4f28cfdd",
        "colab": {
          "base_uri": "https://localhost:8080/",
          "height": 102
        }
      },
      "source": [
        "m1.T"
      ],
      "execution_count": 132,
      "outputs": [
        {
          "output_type": "execute_result",
          "data": {
            "text/plain": [
              "array([[0, 5],\n",
              "       [1, 6],\n",
              "       [2, 7],\n",
              "       [3, 8],\n",
              "       [4, 9]])"
            ]
          },
          "metadata": {
            "tags": []
          },
          "execution_count": 132
        }
      ]
    },
    {
      "cell_type": "markdown",
      "metadata": {
        "id": "kIX5JlDL7TJU",
        "colab_type": "text"
      },
      "source": [
        "The `T` attribute has no effect on rank 0 (empty) or rank 1 arrays:"
      ]
    },
    {
      "cell_type": "code",
      "metadata": {
        "scrolled": true,
        "id": "PhpHv1a87TJV",
        "colab_type": "code",
        "outputId": "28756fbc-dff8-4220-f1a9-b9e4c4351246",
        "colab": {
          "base_uri": "https://localhost:8080/",
          "height": 34
        }
      },
      "source": [
        "m2 = np.arange(5)\n",
        "m2"
      ],
      "execution_count": 133,
      "outputs": [
        {
          "output_type": "execute_result",
          "data": {
            "text/plain": [
              "array([0, 1, 2, 3, 4])"
            ]
          },
          "metadata": {
            "tags": []
          },
          "execution_count": 133
        }
      ]
    },
    {
      "cell_type": "code",
      "metadata": {
        "scrolled": true,
        "id": "qLP1V46z7TJa",
        "colab_type": "code",
        "outputId": "8bea765a-c703-433e-8534-58441f4f6956",
        "colab": {
          "base_uri": "https://localhost:8080/",
          "height": 34
        }
      },
      "source": [
        "m2.T"
      ],
      "execution_count": 134,
      "outputs": [
        {
          "output_type": "execute_result",
          "data": {
            "text/plain": [
              "array([0, 1, 2, 3, 4])"
            ]
          },
          "metadata": {
            "tags": []
          },
          "execution_count": 134
        }
      ]
    },
    {
      "cell_type": "markdown",
      "metadata": {
        "id": "NiXnqFjq7TJe",
        "colab_type": "text"
      },
      "source": [
        "We can get the desired transposition by first reshaping the 1D array to a single-row matrix (2D):"
      ]
    },
    {
      "cell_type": "code",
      "metadata": {
        "id": "E2W1Qsl57TJf",
        "colab_type": "code",
        "outputId": "c061ce59-f063-4302-c9e5-d427e0207a47",
        "colab": {
          "base_uri": "https://localhost:8080/",
          "height": 34
        }
      },
      "source": [
        "m2r = m2.reshape(1,5)\n",
        "m2r"
      ],
      "execution_count": 135,
      "outputs": [
        {
          "output_type": "execute_result",
          "data": {
            "text/plain": [
              "array([[0, 1, 2, 3, 4]])"
            ]
          },
          "metadata": {
            "tags": []
          },
          "execution_count": 135
        }
      ]
    },
    {
      "cell_type": "code",
      "metadata": {
        "id": "lvjfN3H77TJj",
        "colab_type": "code",
        "outputId": "9db58587-12ed-4b4c-8798-586aa2c45060",
        "colab": {
          "base_uri": "https://localhost:8080/",
          "height": 102
        }
      },
      "source": [
        "m2r.T"
      ],
      "execution_count": 136,
      "outputs": [
        {
          "output_type": "execute_result",
          "data": {
            "text/plain": [
              "array([[0],\n",
              "       [1],\n",
              "       [2],\n",
              "       [3],\n",
              "       [4]])"
            ]
          },
          "metadata": {
            "tags": []
          },
          "execution_count": 136
        }
      ]
    },
    {
      "cell_type": "markdown",
      "metadata": {
        "id": "hP_M-EiP7TJn",
        "colab_type": "text"
      },
      "source": [
        "## Matrix dot product\n",
        "Let's create two matrices and execute a matrix [dot product](https://en.wikipedia.org/wiki/Dot_product) using the `dot` method."
      ]
    },
    {
      "cell_type": "code",
      "metadata": {
        "id": "IFJEhG7A7TJr",
        "colab_type": "code",
        "outputId": "39fb38ca-a636-4c6d-c354-f04c221d2535",
        "colab": {
          "base_uri": "https://localhost:8080/",
          "height": 51
        }
      },
      "source": [
        "n1 = np.arange(10).reshape(2, 5)\n",
        "n1"
      ],
      "execution_count": 137,
      "outputs": [
        {
          "output_type": "execute_result",
          "data": {
            "text/plain": [
              "array([[0, 1, 2, 3, 4],\n",
              "       [5, 6, 7, 8, 9]])"
            ]
          },
          "metadata": {
            "tags": []
          },
          "execution_count": 137
        }
      ]
    },
    {
      "cell_type": "code",
      "metadata": {
        "id": "p6XpjgLJ7TJv",
        "colab_type": "code",
        "outputId": "c14818b1-fab1-48ef-c1c0-6b6d3af2e94c",
        "colab": {
          "base_uri": "https://localhost:8080/",
          "height": 102
        }
      },
      "source": [
        "n2 = np.arange(15).reshape(5,3)\n",
        "n2"
      ],
      "execution_count": 138,
      "outputs": [
        {
          "output_type": "execute_result",
          "data": {
            "text/plain": [
              "array([[ 0,  1,  2],\n",
              "       [ 3,  4,  5],\n",
              "       [ 6,  7,  8],\n",
              "       [ 9, 10, 11],\n",
              "       [12, 13, 14]])"
            ]
          },
          "metadata": {
            "tags": []
          },
          "execution_count": 138
        }
      ]
    },
    {
      "cell_type": "code",
      "metadata": {
        "id": "WSi3Kulp7TJz",
        "colab_type": "code",
        "outputId": "d6165373-a4c0-4c42-92b4-229cecd79a99",
        "colab": {
          "base_uri": "https://localhost:8080/",
          "height": 51
        }
      },
      "source": [
        "n1.dot(n2)"
      ],
      "execution_count": 139,
      "outputs": [
        {
          "output_type": "execute_result",
          "data": {
            "text/plain": [
              "array([[ 90, 100, 110],\n",
              "       [240, 275, 310]])"
            ]
          },
          "metadata": {
            "tags": []
          },
          "execution_count": 139
        }
      ]
    },
    {
      "cell_type": "markdown",
      "metadata": {
        "id": "qVIFtsIz7TJ4",
        "colab_type": "text"
      },
      "source": [
        "**Caution**: as mentionned previously, `n1*n2` is *not* a dot product, it is an elementwise product."
      ]
    },
    {
      "cell_type": "markdown",
      "metadata": {
        "id": "TEPYLsls7TJ5",
        "colab_type": "text"
      },
      "source": [
        "## Matrix inverse and pseudo-inverse\n",
        "Many of the linear algebra functions are available in the `numpy.linalg` module, in particular the `inv` function to compute a square matrix's inverse:"
      ]
    },
    {
      "cell_type": "code",
      "metadata": {
        "id": "slvIVDHt7TJ6",
        "colab_type": "code",
        "outputId": "7a8a680d-3be5-48cb-cd7e-6ca408661607",
        "colab": {
          "base_uri": "https://localhost:8080/",
          "height": 68
        }
      },
      "source": [
        "import numpy.linalg as linalg\n",
        "\n",
        "m3 = np.array([[1,2,3],[5,7,11],[21,29,31]])\n",
        "m3"
      ],
      "execution_count": 140,
      "outputs": [
        {
          "output_type": "execute_result",
          "data": {
            "text/plain": [
              "array([[ 1,  2,  3],\n",
              "       [ 5,  7, 11],\n",
              "       [21, 29, 31]])"
            ]
          },
          "metadata": {
            "tags": []
          },
          "execution_count": 140
        }
      ]
    },
    {
      "cell_type": "code",
      "metadata": {
        "id": "HKHp1ddU7TJ-",
        "colab_type": "code",
        "outputId": "68e0904b-bc22-4742-9901-eca3519b7159",
        "colab": {
          "base_uri": "https://localhost:8080/",
          "height": 68
        }
      },
      "source": [
        "linalg.inv(m3)"
      ],
      "execution_count": 141,
      "outputs": [
        {
          "output_type": "execute_result",
          "data": {
            "text/plain": [
              "array([[-2.31818182,  0.56818182,  0.02272727],\n",
              "       [ 1.72727273, -0.72727273,  0.09090909],\n",
              "       [-0.04545455,  0.29545455, -0.06818182]])"
            ]
          },
          "metadata": {
            "tags": []
          },
          "execution_count": 141
        }
      ]
    },
    {
      "cell_type": "markdown",
      "metadata": {
        "id": "zTd2pnDc7TKC",
        "colab_type": "text"
      },
      "source": [
        "You can also compute the [pseudoinverse](https://en.wikipedia.org/wiki/Moore%E2%80%93Penrose_pseudoinverse) using `pinv`:"
      ]
    },
    {
      "cell_type": "code",
      "metadata": {
        "id": "YfIPWvgD7TKD",
        "colab_type": "code",
        "outputId": "9f5604da-a412-4bd9-d102-d9559ded5ed1",
        "colab": {
          "base_uri": "https://localhost:8080/",
          "height": 68
        }
      },
      "source": [
        "linalg.pinv(m3)"
      ],
      "execution_count": 142,
      "outputs": [
        {
          "output_type": "execute_result",
          "data": {
            "text/plain": [
              "array([[-2.31818182,  0.56818182,  0.02272727],\n",
              "       [ 1.72727273, -0.72727273,  0.09090909],\n",
              "       [-0.04545455,  0.29545455, -0.06818182]])"
            ]
          },
          "metadata": {
            "tags": []
          },
          "execution_count": 142
        }
      ]
    },
    {
      "cell_type": "markdown",
      "metadata": {
        "id": "DDvtZqO_7TKK",
        "colab_type": "text"
      },
      "source": [
        "## Identity matrix\n",
        "The product of a matrix by its inverse returns the identiy matrix (with small floating point errors):"
      ]
    },
    {
      "cell_type": "code",
      "metadata": {
        "id": "cAowCpnS7TKL",
        "colab_type": "code",
        "outputId": "f206145c-ba5a-4dcc-acdd-4d2e0db9507c",
        "colab": {
          "base_uri": "https://localhost:8080/",
          "height": 68
        }
      },
      "source": [
        "m3.dot(linalg.inv(m3))"
      ],
      "execution_count": 143,
      "outputs": [
        {
          "output_type": "execute_result",
          "data": {
            "text/plain": [
              "array([[ 1.00000000e+00, -1.66533454e-16,  0.00000000e+00],\n",
              "       [ 6.31439345e-16,  1.00000000e+00, -1.38777878e-16],\n",
              "       [ 5.21110932e-15, -2.38697950e-15,  1.00000000e+00]])"
            ]
          },
          "metadata": {
            "tags": []
          },
          "execution_count": 143
        }
      ]
    },
    {
      "cell_type": "markdown",
      "metadata": {
        "id": "KjDDMQHl7TKO",
        "colab_type": "text"
      },
      "source": [
        "You can create an identity matrix of size NxN by calling `eye`:"
      ]
    },
    {
      "cell_type": "code",
      "metadata": {
        "id": "X-eMptXn7TKP",
        "colab_type": "code",
        "outputId": "079aeb16-98e7-40ac-cff6-082c5fdfa8e3",
        "colab": {
          "base_uri": "https://localhost:8080/",
          "height": 68
        }
      },
      "source": [
        "np.eye(3)"
      ],
      "execution_count": 144,
      "outputs": [
        {
          "output_type": "execute_result",
          "data": {
            "text/plain": [
              "array([[1., 0., 0.],\n",
              "       [0., 1., 0.],\n",
              "       [0., 0., 1.]])"
            ]
          },
          "metadata": {
            "tags": []
          },
          "execution_count": 144
        }
      ]
    },
    {
      "cell_type": "markdown",
      "metadata": {
        "id": "4Jh2YffL7TKV",
        "colab_type": "text"
      },
      "source": [
        "## QR decomposition\n",
        "The `qr` function computes the [QR decomposition](https://en.wikipedia.org/wiki/QR_decomposition) of a matrix:"
      ]
    },
    {
      "cell_type": "code",
      "metadata": {
        "id": "vmxjLlvo7TKW",
        "colab_type": "code",
        "outputId": "84ac49b8-4b0f-4998-a6eb-0f8e7e6525db",
        "colab": {
          "base_uri": "https://localhost:8080/",
          "height": 68
        }
      },
      "source": [
        "q, r = linalg.qr(m3)\n",
        "q"
      ],
      "execution_count": 145,
      "outputs": [
        {
          "output_type": "execute_result",
          "data": {
            "text/plain": [
              "array([[-0.04627448,  0.98786672,  0.14824986],\n",
              "       [-0.23137241,  0.13377362, -0.96362411],\n",
              "       [-0.97176411, -0.07889213,  0.22237479]])"
            ]
          },
          "metadata": {
            "tags": []
          },
          "execution_count": 145
        }
      ]
    },
    {
      "cell_type": "code",
      "metadata": {
        "id": "FJhwqee37TKc",
        "colab_type": "code",
        "outputId": "543a45a0-cfc2-4842-da27-b504853e8346",
        "colab": {
          "base_uri": "https://localhost:8080/",
          "height": 68
        }
      },
      "source": [
        "r"
      ],
      "execution_count": 146,
      "outputs": [
        {
          "output_type": "execute_result",
          "data": {
            "text/plain": [
              "array([[-21.61018278, -29.89331494, -32.80860727],\n",
              "       [  0.        ,   0.62427688,   1.9894538 ],\n",
              "       [  0.        ,   0.        ,  -3.26149699]])"
            ]
          },
          "metadata": {
            "tags": []
          },
          "execution_count": 146
        }
      ]
    },
    {
      "cell_type": "code",
      "metadata": {
        "id": "NrzpnNDK7TKo",
        "colab_type": "code",
        "outputId": "ba4c1891-673d-42f7-d592-bca02d16fd3d",
        "colab": {
          "base_uri": "https://localhost:8080/",
          "height": 68
        }
      },
      "source": [
        "q.dot(r)  # q.r equals m3"
      ],
      "execution_count": 147,
      "outputs": [
        {
          "output_type": "execute_result",
          "data": {
            "text/plain": [
              "array([[ 1.,  2.,  3.],\n",
              "       [ 5.,  7., 11.],\n",
              "       [21., 29., 31.]])"
            ]
          },
          "metadata": {
            "tags": []
          },
          "execution_count": 147
        }
      ]
    },
    {
      "cell_type": "markdown",
      "metadata": {
        "id": "G-0k2Tdu7TKx",
        "colab_type": "text"
      },
      "source": [
        "## Determinant\n",
        "The `det` function computes the [matrix determinant](https://en.wikipedia.org/wiki/Determinant):"
      ]
    },
    {
      "cell_type": "code",
      "metadata": {
        "id": "N77ODpnS7TKy",
        "colab_type": "code",
        "outputId": "ab099b85-e99d-4a63-b534-a76685e3a36a",
        "colab": {
          "base_uri": "https://localhost:8080/",
          "height": 34
        }
      },
      "source": [
        "linalg.det(m3)  # Computes the matrix determinant"
      ],
      "execution_count": 148,
      "outputs": [
        {
          "output_type": "execute_result",
          "data": {
            "text/plain": [
              "43.99999999999997"
            ]
          },
          "metadata": {
            "tags": []
          },
          "execution_count": 148
        }
      ]
    },
    {
      "cell_type": "markdown",
      "metadata": {
        "id": "IK7g5hvg7TK5",
        "colab_type": "text"
      },
      "source": [
        "## Eigenvalues and eigenvectors\n",
        "The `eig` function computes the [eigenvalues and eigenvectors](https://en.wikipedia.org/wiki/Eigenvalues_and_eigenvectors) of a square matrix:"
      ]
    },
    {
      "cell_type": "code",
      "metadata": {
        "id": "OJn58hsh7TLA",
        "colab_type": "code",
        "outputId": "45bcd680-991e-4081-8b1c-02c20d8c3fa1",
        "colab": {
          "base_uri": "https://localhost:8080/",
          "height": 34
        }
      },
      "source": [
        "eigenvalues, eigenvectors = linalg.eig(m3)\n",
        "eigenvalues # λ"
      ],
      "execution_count": 149,
      "outputs": [
        {
          "output_type": "execute_result",
          "data": {
            "text/plain": [
              "array([42.26600592, -0.35798416, -2.90802176])"
            ]
          },
          "metadata": {
            "tags": []
          },
          "execution_count": 149
        }
      ]
    },
    {
      "cell_type": "code",
      "metadata": {
        "id": "WJLpKXhz7TLG",
        "colab_type": "code",
        "outputId": "649407ef-2d1f-4474-ef4e-7c8a39ffa752",
        "colab": {
          "base_uri": "https://localhost:8080/",
          "height": 68
        }
      },
      "source": [
        "eigenvectors # v"
      ],
      "execution_count": 150,
      "outputs": [
        {
          "output_type": "execute_result",
          "data": {
            "text/plain": [
              "array([[-0.08381182, -0.76283526, -0.18913107],\n",
              "       [-0.3075286 ,  0.64133975, -0.6853186 ],\n",
              "       [-0.94784057, -0.08225377,  0.70325518]])"
            ]
          },
          "metadata": {
            "tags": []
          },
          "execution_count": 150
        }
      ]
    },
    {
      "cell_type": "code",
      "metadata": {
        "id": "jqzkj3DK7TLJ",
        "colab_type": "code",
        "outputId": "38a82850-ef79-4574-edf5-54790b17dffa",
        "colab": {
          "base_uri": "https://localhost:8080/",
          "height": 68
        }
      },
      "source": [
        "m3.dot(eigenvectors) - eigenvalues * eigenvectors  # m3.v - λ*v = 0"
      ],
      "execution_count": 151,
      "outputs": [
        {
          "output_type": "execute_result",
          "data": {
            "text/plain": [
              "array([[ 6.66133815e-15,  1.66533454e-15, -3.10862447e-15],\n",
              "       [ 7.10542736e-15,  5.16253706e-15, -5.32907052e-15],\n",
              "       [ 3.55271368e-14,  4.94743135e-15, -9.76996262e-15]])"
            ]
          },
          "metadata": {
            "tags": []
          },
          "execution_count": 151
        }
      ]
    },
    {
      "cell_type": "markdown",
      "metadata": {
        "id": "QufoYekD7TLN",
        "colab_type": "text"
      },
      "source": [
        "## Singular Value Decomposition\n",
        "The `svd` function takes a matrix and returns its [singular value decomposition](https://en.wikipedia.org/wiki/Singular_value_decomposition):"
      ]
    },
    {
      "cell_type": "code",
      "metadata": {
        "id": "xfvyaTsn7TLO",
        "colab_type": "code",
        "outputId": "c758b505-b32a-42c8-9ea3-b532040c5711",
        "colab": {
          "base_uri": "https://localhost:8080/",
          "height": 85
        }
      },
      "source": [
        "m4 = np.array([[1,0,0,0,2], [0,0,3,0,0], [0,0,0,0,0], [0,2,0,0,0]])\n",
        "m4"
      ],
      "execution_count": 152,
      "outputs": [
        {
          "output_type": "execute_result",
          "data": {
            "text/plain": [
              "array([[1, 0, 0, 0, 2],\n",
              "       [0, 0, 3, 0, 0],\n",
              "       [0, 0, 0, 0, 0],\n",
              "       [0, 2, 0, 0, 0]])"
            ]
          },
          "metadata": {
            "tags": []
          },
          "execution_count": 152
        }
      ]
    },
    {
      "cell_type": "code",
      "metadata": {
        "id": "nlri31Ad7TLU",
        "colab_type": "code",
        "outputId": "1b6deb90-faf8-4d76-b2ba-cea8e1e7c773",
        "colab": {
          "base_uri": "https://localhost:8080/",
          "height": 85
        }
      },
      "source": [
        "U, S_diag, V = linalg.svd(m4)\n",
        "U"
      ],
      "execution_count": 153,
      "outputs": [
        {
          "output_type": "execute_result",
          "data": {
            "text/plain": [
              "array([[ 0.,  1.,  0.,  0.],\n",
              "       [ 1.,  0.,  0.,  0.],\n",
              "       [ 0.,  0.,  0., -1.],\n",
              "       [ 0.,  0.,  1.,  0.]])"
            ]
          },
          "metadata": {
            "tags": []
          },
          "execution_count": 153
        }
      ]
    },
    {
      "cell_type": "code",
      "metadata": {
        "id": "7UKIEV4J7TLY",
        "colab_type": "code",
        "outputId": "3f39f57b-f31b-4636-eae5-3e2e442587e1",
        "colab": {
          "base_uri": "https://localhost:8080/",
          "height": 34
        }
      },
      "source": [
        "S_diag"
      ],
      "execution_count": 154,
      "outputs": [
        {
          "output_type": "execute_result",
          "data": {
            "text/plain": [
              "array([3.        , 2.23606798, 2.        , 0.        ])"
            ]
          },
          "metadata": {
            "tags": []
          },
          "execution_count": 154
        }
      ]
    },
    {
      "cell_type": "markdown",
      "metadata": {
        "id": "4drIOyAF7TLb",
        "colab_type": "text"
      },
      "source": [
        "The `svd` function just returns the values in the diagonal of Σ, but we want the full Σ matrix, so let's create it:"
      ]
    },
    {
      "cell_type": "code",
      "metadata": {
        "id": "lDA13lH77TLc",
        "colab_type": "code",
        "outputId": "8ca43afa-153a-4532-ac5c-dd0333d21929",
        "colab": {
          "base_uri": "https://localhost:8080/",
          "height": 85
        }
      },
      "source": [
        "S = np.zeros((4, 5))\n",
        "S[np.diag_indices(4)] = S_diag\n",
        "S  # Σ"
      ],
      "execution_count": 155,
      "outputs": [
        {
          "output_type": "execute_result",
          "data": {
            "text/plain": [
              "array([[3.        , 0.        , 0.        , 0.        , 0.        ],\n",
              "       [0.        , 2.23606798, 0.        , 0.        , 0.        ],\n",
              "       [0.        , 0.        , 2.        , 0.        , 0.        ],\n",
              "       [0.        , 0.        , 0.        , 0.        , 0.        ]])"
            ]
          },
          "metadata": {
            "tags": []
          },
          "execution_count": 155
        }
      ]
    },
    {
      "cell_type": "code",
      "metadata": {
        "id": "I9G1MNdT7TLg",
        "colab_type": "code",
        "outputId": "fe1ce5c3-3d63-4d76-fb95-8d0dc8b04563",
        "colab": {
          "base_uri": "https://localhost:8080/",
          "height": 102
        }
      },
      "source": [
        "V"
      ],
      "execution_count": 156,
      "outputs": [
        {
          "output_type": "execute_result",
          "data": {
            "text/plain": [
              "array([[-0.        ,  0.        ,  1.        , -0.        ,  0.        ],\n",
              "       [ 0.4472136 ,  0.        ,  0.        ,  0.        ,  0.89442719],\n",
              "       [-0.        ,  1.        ,  0.        , -0.        ,  0.        ],\n",
              "       [ 0.        ,  0.        ,  0.        ,  1.        ,  0.        ],\n",
              "       [-0.89442719,  0.        ,  0.        ,  0.        ,  0.4472136 ]])"
            ]
          },
          "metadata": {
            "tags": []
          },
          "execution_count": 156
        }
      ]
    },
    {
      "cell_type": "code",
      "metadata": {
        "id": "eQUpSOYu7TLk",
        "colab_type": "code",
        "outputId": "eed2030e-fefd-42ce-c91f-b03c5d59e8db",
        "colab": {
          "base_uri": "https://localhost:8080/",
          "height": 85
        }
      },
      "source": [
        "U.dot(S).dot(V) # U.Σ.V == m4"
      ],
      "execution_count": 157,
      "outputs": [
        {
          "output_type": "execute_result",
          "data": {
            "text/plain": [
              "array([[1., 0., 0., 0., 2.],\n",
              "       [0., 0., 3., 0., 0.],\n",
              "       [0., 0., 0., 0., 0.],\n",
              "       [0., 2., 0., 0., 0.]])"
            ]
          },
          "metadata": {
            "tags": []
          },
          "execution_count": 157
        }
      ]
    },
    {
      "cell_type": "markdown",
      "metadata": {
        "id": "e-Dill4_7TLn",
        "colab_type": "text"
      },
      "source": [
        "## Diagonal and trace"
      ]
    },
    {
      "cell_type": "code",
      "metadata": {
        "id": "DLpOpOW_7TLo",
        "colab_type": "code",
        "outputId": "26a0b70a-3f70-41e8-c598-577871ee1d52",
        "colab": {
          "base_uri": "https://localhost:8080/",
          "height": 34
        }
      },
      "source": [
        "np.diag(m3)  # the values in the diagonal of m3 (top left to bottom right)"
      ],
      "execution_count": 158,
      "outputs": [
        {
          "output_type": "execute_result",
          "data": {
            "text/plain": [
              "array([ 1,  7, 31])"
            ]
          },
          "metadata": {
            "tags": []
          },
          "execution_count": 158
        }
      ]
    },
    {
      "cell_type": "code",
      "metadata": {
        "id": "lmvCqgS07TLr",
        "colab_type": "code",
        "outputId": "763d05e6-caa4-4694-9165-7a886ea3be84",
        "colab": {
          "base_uri": "https://localhost:8080/",
          "height": 34
        }
      },
      "source": [
        "np.trace(m3)  # equivalent to np.diag(m3).sum()"
      ],
      "execution_count": 159,
      "outputs": [
        {
          "output_type": "execute_result",
          "data": {
            "text/plain": [
              "39"
            ]
          },
          "metadata": {
            "tags": []
          },
          "execution_count": 159
        }
      ]
    },
    {
      "cell_type": "markdown",
      "metadata": {
        "id": "KxEkyaL37TLu",
        "colab_type": "text"
      },
      "source": [
        "## Solving a system of linear scalar equations"
      ]
    },
    {
      "cell_type": "markdown",
      "metadata": {
        "id": "7RY86qMm7TLv",
        "colab_type": "text"
      },
      "source": [
        "The `solve` function solves a system of linear scalar equations, such as:\n",
        "\n",
        "* $2x + 6y = 6$\n",
        "* $5x + 3y = -9$"
      ]
    },
    {
      "cell_type": "code",
      "metadata": {
        "id": "2q6kEDw87TLw",
        "colab_type": "code",
        "outputId": "a56fc2e1-4193-4730-90be-6d3442e549d8",
        "colab": {
          "base_uri": "https://localhost:8080/",
          "height": 34
        }
      },
      "source": [
        "coeffs  = np.array([[2, 6], [5, 3]])\n",
        "depvars = np.array([6, -9])\n",
        "solution = linalg.solve(coeffs, depvars)\n",
        "solution"
      ],
      "execution_count": 160,
      "outputs": [
        {
          "output_type": "execute_result",
          "data": {
            "text/plain": [
              "array([-3.,  2.])"
            ]
          },
          "metadata": {
            "tags": []
          },
          "execution_count": 160
        }
      ]
    },
    {
      "cell_type": "markdown",
      "metadata": {
        "id": "4Z8yz0Hb7TL0",
        "colab_type": "text"
      },
      "source": [
        "Let's check the solution:"
      ]
    },
    {
      "cell_type": "code",
      "metadata": {
        "id": "yoMpPmhv7TL0",
        "colab_type": "code",
        "outputId": "c807be13-f36b-4e88-c7e6-815fa50cd26c",
        "colab": {
          "base_uri": "https://localhost:8080/",
          "height": 34
        }
      },
      "source": [
        "coeffs.dot(solution), depvars  # yep, it's the same"
      ],
      "execution_count": 161,
      "outputs": [
        {
          "output_type": "execute_result",
          "data": {
            "text/plain": [
              "(array([ 6., -9.]), array([ 6, -9]))"
            ]
          },
          "metadata": {
            "tags": []
          },
          "execution_count": 161
        }
      ]
    },
    {
      "cell_type": "markdown",
      "metadata": {
        "id": "nXrhiugA7TL4",
        "colab_type": "text"
      },
      "source": [
        "Looks good! Another way to check the solution:"
      ]
    },
    {
      "cell_type": "code",
      "metadata": {
        "scrolled": true,
        "id": "3X0rRAnM7TL5",
        "colab_type": "code",
        "outputId": "1a04429f-56fa-41e0-85c8-9ef66b0e26e3",
        "colab": {
          "base_uri": "https://localhost:8080/",
          "height": 34
        }
      },
      "source": [
        "np.allclose(coeffs.dot(solution), depvars)"
      ],
      "execution_count": 162,
      "outputs": [
        {
          "output_type": "execute_result",
          "data": {
            "text/plain": [
              "True"
            ]
          },
          "metadata": {
            "tags": []
          },
          "execution_count": 162
        }
      ]
    },
    {
      "cell_type": "markdown",
      "metadata": {
        "id": "aS-eBu1O7TL8",
        "colab_type": "text"
      },
      "source": [
        "# Vectorization\n",
        "Instead of executing operations on individual array items, one at a time, your code is much more efficient if you try to stick to array operations. This is called *vectorization*. This way, you can benefit from NumPy's many optimizations.\n",
        "\n",
        "For example, let's say we want to generate a 768x1024 array based on the formula $sin(xy/40.5)$. A **bad** option would be to do the math in python using nested loops:"
      ]
    },
    {
      "cell_type": "code",
      "metadata": {
        "id": "_lUq2Y2J7TL9",
        "colab_type": "code",
        "colab": {}
      },
      "source": [
        "import math\n",
        "data = np.empty((768, 1024))\n",
        "for y in range(768):\n",
        "    for x in range(1024):\n",
        "        data[y, x] = math.sin(x*y/40.5)  # BAD! Very inefficient."
      ],
      "execution_count": 0,
      "outputs": []
    },
    {
      "cell_type": "markdown",
      "metadata": {
        "id": "hr5M_XmL7TMA",
        "colab_type": "text"
      },
      "source": [
        "Sure, this works, but it's terribly inefficient since the loops are taking place in pure python. Let's vectorize this algorithm. First, we will use NumPy's `meshgrid` function which generates coordinate matrices from coordinate vectors."
      ]
    },
    {
      "cell_type": "code",
      "metadata": {
        "id": "k-9QRpBZ7TMB",
        "colab_type": "code",
        "outputId": "628cf9e0-4273-41d8-91bd-cc25ad8234db",
        "colab": {
          "base_uri": "https://localhost:8080/",
          "height": 136
        }
      },
      "source": [
        "x_coords = np.arange(0, 1024)  # [0, 1, 2, ..., 1023]\n",
        "y_coords = np.arange(0, 768)   # [0, 1, 2, ..., 767]\n",
        "X, Y = np.meshgrid(x_coords, y_coords)\n",
        "X"
      ],
      "execution_count": 164,
      "outputs": [
        {
          "output_type": "execute_result",
          "data": {
            "text/plain": [
              "array([[   0,    1,    2, ..., 1021, 1022, 1023],\n",
              "       [   0,    1,    2, ..., 1021, 1022, 1023],\n",
              "       [   0,    1,    2, ..., 1021, 1022, 1023],\n",
              "       ...,\n",
              "       [   0,    1,    2, ..., 1021, 1022, 1023],\n",
              "       [   0,    1,    2, ..., 1021, 1022, 1023],\n",
              "       [   0,    1,    2, ..., 1021, 1022, 1023]])"
            ]
          },
          "metadata": {
            "tags": []
          },
          "execution_count": 164
        }
      ]
    },
    {
      "cell_type": "code",
      "metadata": {
        "id": "gHnUsRvt7TME",
        "colab_type": "code",
        "outputId": "beac8fbf-ab05-4bc2-c3fc-9aa066bde670",
        "colab": {
          "base_uri": "https://localhost:8080/",
          "height": 136
        }
      },
      "source": [
        "Y"
      ],
      "execution_count": 165,
      "outputs": [
        {
          "output_type": "execute_result",
          "data": {
            "text/plain": [
              "array([[  0,   0,   0, ...,   0,   0,   0],\n",
              "       [  1,   1,   1, ...,   1,   1,   1],\n",
              "       [  2,   2,   2, ...,   2,   2,   2],\n",
              "       ...,\n",
              "       [765, 765, 765, ..., 765, 765, 765],\n",
              "       [766, 766, 766, ..., 766, 766, 766],\n",
              "       [767, 767, 767, ..., 767, 767, 767]])"
            ]
          },
          "metadata": {
            "tags": []
          },
          "execution_count": 165
        }
      ]
    },
    {
      "cell_type": "markdown",
      "metadata": {
        "id": "D0IIbbYX7TMH",
        "colab_type": "text"
      },
      "source": [
        "As you can see, both `X` and `Y` are 768x1024 arrays, and all values in `X` correspond to the horizontal coordinate, while all values in `Y` correspond to the the vertical coordinate.\n",
        "\n",
        "Now we can simply compute the result using array operations:"
      ]
    },
    {
      "cell_type": "code",
      "metadata": {
        "id": "nwW7bdmC7TMJ",
        "colab_type": "code",
        "colab": {}
      },
      "source": [
        "data = np.sin(X*Y/40.5)"
      ],
      "execution_count": 0,
      "outputs": []
    },
    {
      "cell_type": "markdown",
      "metadata": {
        "id": "y285fAoj7TMN",
        "colab_type": "text"
      },
      "source": [
        "Now we can plot this data using matplotlib's `imshow` function (see the [matplotlib tutorial](tools_matplotlib.ipynb))."
      ]
    },
    {
      "cell_type": "code",
      "metadata": {
        "id": "6BctFFcd7TMO",
        "colab_type": "code",
        "outputId": "608f0956-d35c-4c43-eaac-7de6cf13735f",
        "colab": {
          "base_uri": "https://localhost:8080/",
          "height": 345
        }
      },
      "source": [
        "import matplotlib.pyplot as plt\n",
        "import matplotlib.cm as cm\n",
        "fig = plt.figure(1, figsize=(7, 6))\n",
        "plt.imshow(data, cmap=cm.hot, interpolation=\"bicubic\")\n",
        "plt.show()"
      ],
      "execution_count": 167,
      "outputs": [
        {
          "output_type": "display_data",
          "data": {
            "image/png": "[encoded data removed]",
            "text/plain": [
              "<Figure size 504x432 with 1 Axes>"
            ]
          },
          "metadata": {
            "tags": []
          }
        }
      ]
    },
    {
      "cell_type": "markdown",
      "metadata": {
        "id": "L93iZunw7TMW",
        "colab_type": "text"
      },
      "source": [
        "# Saving and loading\n",
        "NumPy makes it easy to save and load `ndarray`s in binary or text format.\n",
        "\n",
        "## Binary `.npy` format\n",
        "Let's create a random array and save it."
      ]
    },
    {
      "cell_type": "code",
      "metadata": {
        "scrolled": true,
        "id": "A5et2Lt47TMX",
        "colab_type": "code",
        "outputId": "819a92da-1887-4cc8-ed7a-208931d54b2c",
        "colab": {
          "base_uri": "https://localhost:8080/",
          "height": 51
        }
      },
      "source": [
        "a = np.random.rand(2,3)\n",
        "a"
      ],
      "execution_count": 168,
      "outputs": [
        {
          "output_type": "execute_result",
          "data": {
            "text/plain": [
              "array([[0.6001458 , 0.91368295, 0.0062828 ],\n",
              "       [0.61133037, 0.78201064, 0.98487868]])"
            ]
          },
          "metadata": {
            "tags": []
          },
          "execution_count": 168
        }
      ]
    },
    {
      "cell_type": "code",
      "metadata": {
        "id": "s8glXBGM7TMb",
        "colab_type": "code",
        "colab": {}
      },
      "source": [
        "np.save(\"my_array\", a)"
      ],
      "execution_count": 0,
      "outputs": []
    },
    {
      "cell_type": "markdown",
      "metadata": {
        "id": "QFHuvPYc7TMe",
        "colab_type": "text"
      },
      "source": [
        "Done! Since the file name contains no file extension was provided, NumPy automatically added `.npy`. Let's take a peek at the file content:"
      ]
    },
    {
      "cell_type": "code",
      "metadata": {
        "id": "PKk8A16b7TMf",
        "colab_type": "code",
        "outputId": "a03778bf-e405-4d4f-ff83-036d66744657",
        "colab": {
          "base_uri": "https://localhost:8080/",
          "height": 54
        }
      },
      "source": [
        "with open(\"my_array.npy\", \"rb\") as f:\n",
        "    content = f.read()\n",
        "\n",
        "content"
      ],
      "execution_count": 170,
      "outputs": [
        {
          "output_type": "execute_result",
          "data": {
            "text/plain": [
              "b\"\\x93NUMPY\\x01\\x00v\\x00{'descr': '<f8', 'fortran_order': False, 'shape': (2, 3), }                                                          \\n}-z\\xf9d4\\xe3?\\xf2p%\\x08\\xe4<\\xed?\\x00\\xe3i\\x19\\xff\\xbby?=\\x13\\xae\\xb2\\x04\\x90\\xe3?\\\\\\x08\\x1a,;\\x06\\xe9?\\xa1\\xe2AI \\x84\\xef?\""
            ]
          },
          "metadata": {
            "tags": []
          },
          "execution_count": 170
        }
      ]
    },
    {
      "cell_type": "markdown",
      "metadata": {
        "id": "EPQDI0Z67TMk",
        "colab_type": "text"
      },
      "source": [
        "To load this file into a NumPy array, simply call `load`:"
      ]
    },
    {
      "cell_type": "code",
      "metadata": {
        "id": "KhRkItxo7TMm",
        "colab_type": "code",
        "outputId": "da7116fa-5532-4fba-8134-bff05acf2edc",
        "colab": {
          "base_uri": "https://localhost:8080/",
          "height": 51
        }
      },
      "source": [
        "a_loaded = np.load(\"my_array.npy\")\n",
        "a_loaded"
      ],
      "execution_count": 171,
      "outputs": [
        {
          "output_type": "execute_result",
          "data": {
            "text/plain": [
              "array([[0.6001458 , 0.91368295, 0.0062828 ],\n",
              "       [0.61133037, 0.78201064, 0.98487868]])"
            ]
          },
          "metadata": {
            "tags": []
          },
          "execution_count": 171
        }
      ]
    },
    {
      "cell_type": "markdown",
      "metadata": {
        "id": "RTubcyGA7TMp",
        "colab_type": "text"
      },
      "source": [
        "## Text format\n",
        "Let's try saving the array in text format:"
      ]
    },
    {
      "cell_type": "code",
      "metadata": {
        "id": "Pe_S6wvH7TMq",
        "colab_type": "code",
        "colab": {}
      },
      "source": [
        "np.savetxt(\"my_array.csv\", a)"
      ],
      "execution_count": 0,
      "outputs": []
    },
    {
      "cell_type": "markdown",
      "metadata": {
        "id": "6_dA4QPR7TMv",
        "colab_type": "text"
      },
      "source": [
        "Now let's look at the file content:"
      ]
    },
    {
      "cell_type": "code",
      "metadata": {
        "id": "68_b19s57TMw",
        "colab_type": "code",
        "outputId": "285e49eb-2a07-4b43-fb71-869f6775f13d",
        "colab": {
          "base_uri": "https://localhost:8080/",
          "height": 68
        }
      },
      "source": [
        "with open(\"my_array.csv\", \"rt\") as f:\n",
        "    print(f.read())"
      ],
      "execution_count": 173,
      "outputs": [
        {
          "output_type": "stream",
          "text": [
            "6.001458046534221547e-01 9.136829527956520369e-01 6.282803041010920353e-03\n",
            "6.113303651660327853e-01 7.820106374131330362e-01 9.848786764915368197e-01\n",
            "\n"
          ],
          "name": "stdout"
        }
      ]
    },
    {
      "cell_type": "markdown",
      "metadata": {
        "id": "3iPTJweB7TM0",
        "colab_type": "text"
      },
      "source": [
        "This is a CSV file with tabs as delimiters. You can set a different delimiter:"
      ]
    },
    {
      "cell_type": "code",
      "metadata": {
        "id": "C4K2VcwD7TM1",
        "colab_type": "code",
        "colab": {}
      },
      "source": [
        "np.savetxt(\"my_array.csv\", a, delimiter=\",\")"
      ],
      "execution_count": 0,
      "outputs": []
    },
    {
      "cell_type": "markdown",
      "metadata": {
        "id": "_-uIZI2_7TM5",
        "colab_type": "text"
      },
      "source": [
        "To load this file, just use `loadtxt`:"
      ]
    },
    {
      "cell_type": "code",
      "metadata": {
        "id": "bUMmMY-w7TM6",
        "colab_type": "code",
        "outputId": "c313b2a2-1867-405c-f411-7564e070998a",
        "colab": {
          "base_uri": "https://localhost:8080/",
          "height": 51
        }
      },
      "source": [
        "a_loaded = np.loadtxt(\"my_array.csv\", delimiter=\",\")\n",
        "a_loaded"
      ],
      "execution_count": 175,
      "outputs": [
        {
          "output_type": "execute_result",
          "data": {
            "text/plain": [
              "array([[0.6001458 , 0.91368295, 0.0062828 ],\n",
              "       [0.61133037, 0.78201064, 0.98487868]])"
            ]
          },
          "metadata": {
            "tags": []
          },
          "execution_count": 175
        }
      ]
    },
    {
      "cell_type": "markdown",
      "metadata": {
        "id": "VwXldQlh7TM-",
        "colab_type": "text"
      },
      "source": [
        "## Zipped `.npz` format\n",
        "It is also possible to save multiple arrays in one zipped file:"
      ]
    },
    {
      "cell_type": "code",
      "metadata": {
        "id": "Fife-Rl47TM_",
        "colab_type": "code",
        "outputId": "678d759c-2186-4251-963e-158d4358c6cb",
        "colab": {
          "base_uri": "https://localhost:8080/",
          "height": 136
        }
      },
      "source": [
        "b = np.arange(24, dtype=np.uint8).reshape(2, 3, 4)\n",
        "b"
      ],
      "execution_count": 176,
      "outputs": [
        {
          "output_type": "execute_result",
          "data": {
            "text/plain": [
              "array([[[ 0,  1,  2,  3],\n",
              "        [ 4,  5,  6,  7],\n",
              "        [ 8,  9, 10, 11]],\n",
              "\n",
              "       [[12, 13, 14, 15],\n",
              "        [16, 17, 18, 19],\n",
              "        [20, 21, 22, 23]]], dtype=uint8)"
            ]
          },
          "metadata": {
            "tags": []
          },
          "execution_count": 176
        }
      ]
    },
    {
      "cell_type": "code",
      "metadata": {
        "id": "ITLSDCaL7TNC",
        "colab_type": "code",
        "colab": {}
      },
      "source": [
        "np.savez(\"my_arrays\", my_a=a, my_b=b)"
      ],
      "execution_count": 0,
      "outputs": []
    },
    {
      "cell_type": "markdown",
      "metadata": {
        "id": "TX5sxCLe7TNG",
        "colab_type": "text"
      },
      "source": [
        "Again, let's take a peek at the file content. Note that the `.npz` file extension was automatically added."
      ]
    },
    {
      "cell_type": "code",
      "metadata": {
        "id": "hpr5jPgu7TNH",
        "colab_type": "code",
        "outputId": "b6bea8c2-ab42-4d82-e9f9-37bb8a454c1a",
        "colab": {
          "base_uri": "https://localhost:8080/",
          "height": 54
        }
      },
      "source": [
        "with open(\"my_arrays.npz\", \"rb\") as f:\n",
        "    content = f.read()\n",
        "\n",
        "repr(content)[:180] + \"[...]\""
      ],
      "execution_count": 178,
      "outputs": [
        {
          "output_type": "execute_result",
          "data": {
            "text/plain": [
              "'b\"PK\\\\x03\\\\x04\\\\x14\\\\x00\\\\x00\\\\x00\\\\x00\\\\x00\\\\x00\\\\x00!\\\\x00v\\\\xef^\\\\xb2\\\\xb0\\\\x00\\\\x00\\\\x00\\\\xb0\\\\x00\\\\x00\\\\x00\\\\x08\\\\x00\\\\x14\\\\x00my_a.npy\\\\x01\\\\x00\\\\x10\\\\x00\\\\xb0\\\\x00\\\\x00\\\\x00\\\\x00\\\\x00\\\\x00\\\\x00\\\\xb0\\\\x00\\\\x00\\\\x00\\\\[...]'"
            ]
          },
          "metadata": {
            "tags": []
          },
          "execution_count": 178
        }
      ]
    },
    {
      "cell_type": "markdown",
      "metadata": {
        "id": "oWxlEqEl7TNL",
        "colab_type": "text"
      },
      "source": [
        "You then load this file like so:"
      ]
    },
    {
      "cell_type": "code",
      "metadata": {
        "id": "JIW62TpX7TNM",
        "colab_type": "code",
        "outputId": "cb1bd308-09dd-4727-e388-c23e671f2239",
        "colab": {
          "base_uri": "https://localhost:8080/",
          "height": 34
        }
      },
      "source": [
        "my_arrays = np.load(\"my_arrays.npz\")\n",
        "my_arrays"
      ],
      "execution_count": 179,
      "outputs": [
        {
          "output_type": "execute_result",
          "data": {
            "text/plain": [
              "<numpy.lib.npyio.NpzFile at 0x7f8ba0bd2da0>"
            ]
          },
          "metadata": {
            "tags": []
          },
          "execution_count": 179
        }
      ]
    },
    {
      "cell_type": "markdown",
      "metadata": {
        "id": "3qnvC_Ic7TNP",
        "colab_type": "text"
      },
      "source": [
        "This is a dict-like object which loads the arrays lazily:"
      ]
    },
    {
      "cell_type": "code",
      "metadata": {
        "id": "3QAObVoG7TNQ",
        "colab_type": "code",
        "outputId": "67e77552-5d9c-46a4-abe6-644c151c4de2",
        "colab": {
          "base_uri": "https://localhost:8080/",
          "height": 34
        }
      },
      "source": [
        "my_arrays.keys()"
      ],
      "execution_count": 180,
      "outputs": [
        {
          "output_type": "execute_result",
          "data": {
            "text/plain": [
              "KeysView(<numpy.lib.npyio.NpzFile object at 0x7f8ba0bd2da0>)"
            ]
          },
          "metadata": {
            "tags": []
          },
          "execution_count": 180
        }
      ]
    },
    {
      "cell_type": "code",
      "metadata": {
        "id": "Cxi69zqu7TNW",
        "colab_type": "code",
        "outputId": "fd0029a1-8c41-47f9-aa83-6936b8fa077f",
        "colab": {
          "base_uri": "https://localhost:8080/",
          "height": 51
        }
      },
      "source": [
        "my_arrays[\"my_a\"]"
      ],
      "execution_count": 181,
      "outputs": [
        {
          "output_type": "execute_result",
          "data": {
            "text/plain": [
              "array([[0.6001458 , 0.91368295, 0.0062828 ],\n",
              "       [0.61133037, 0.78201064, 0.98487868]])"
            ]
          },
          "metadata": {
            "tags": []
          },
          "execution_count": 181
        }
      ]
    },
    {
      "cell_type": "markdown",
      "metadata": {
        "id": "R0VXzETr7TNa",
        "colab_type": "text"
      },
      "source": [
        "# What next?\n",
        "Now you know all the fundamentals of NumPy, but there are many more options available. The best way to learn more is to experiment with NumPy, and go through the excellent [reference documentation](http://docs.scipy.org/doc/numpy/reference/index.html) to find more functions and features you may be interested in."
      ]
    }
  ]
}