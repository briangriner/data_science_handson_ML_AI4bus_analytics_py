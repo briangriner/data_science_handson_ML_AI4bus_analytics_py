{
  "nbformat": 4,
  "nbformat_minor": 0,
  "metadata": {
    "anaconda-cloud": {},
    "kernelspec": {
      "display_name": "Python 3",
      "language": "python",
      "name": "python3"
    },
    "language_info": {
      "codemirror_mode": {
        "name": "ipython",
        "version": 3
      },
      "file_extension": ".py",
      "mimetype": "text/x-python",
      "name": "python",
      "nbconvert_exporter": "python",
      "pygments_lexer": "ipython3",
      "version": "3.6.5"
    },
    "colab": {
      "name": "0_Python Language Fundamentals_for_ML_AI_3_21_2020.ipynb",
      "provenance": [],
      "collapsed_sections": [
        "G2_tZj2Sruyv",
        "vHNhLyEKruzh",
        "bWntnk7lrux-",
        "HMN9w2LvGtF0",
        "p6fM_g7Zl3QE",
        "THG3DHQfru0v",
        "aIWy-btAru7b",
        "c85-ea7Jru8U",
        "euDKaDFHru9L",
        "6kluJ1KIru9x",
        "ebvFl1Furu-h",
        "I7RWvLi_ru-z",
        "B5HdN_x6rvAV"
      ]
    }
  },
  "cells": [
    {
      "cell_type": "markdown",
      "metadata": {
        "id": "0OpD6xo-ruwV",
        "colab_type": "text"
      },
      "source": [
        "# Python Language Workbook\n",
        "\n",
        "Python is a rich language with several different data types and operators designed around fundamental principles documented in [PEP 20 -- The Zen of Python](https://www.python.org/dev/peps/pep-0020/)\n",
        "\n",
        "This notebook is designed to provide a succinct reference of some of the language concepts you will likely encounter during your ML/AI learning journey \n",
        "\n",
        "**Tip**: Need more information about a language concept? Try using help(concept) for a comprehensive explanation and dir(concept) if you want a complete listing of a classes methods, properties, ...\n"
      ]
    },
    {
      "cell_type": "code",
      "metadata": {
        "id": "ZW_eSTuo3oH7",
        "colab_type": "code",
        "colab": {}
      },
      "source": [
        "#help(set)"
      ],
      "execution_count": 0,
      "outputs": []
    },
    {
      "cell_type": "code",
      "metadata": {
        "id": "DzOob0bU35hv",
        "colab_type": "code",
        "colab": {}
      },
      "source": [
        "#dir(set)"
      ],
      "execution_count": 0,
      "outputs": []
    },
    {
      "cell_type": "markdown",
      "metadata": {
        "id": "3i2kU1jZruwb",
        "colab_type": "text"
      },
      "source": [
        "## Common data types & operations used on them\n",
        "\n",
        "\n",
        "*   **bool** (boolean) - True/False\n",
        "*   **int** (integer) - whole number\n",
        "*   **float** - number with decimal\n",
        "*   **str** (string) - sequence of Unicode characters (*Challenge question: How many languages can be represented in Unicode ?*)\n",
        "*   **list** - ordered sequence of values\n",
        "*   **tuple** - list of fixed length\n",
        "*   **dict** (dictionary) - unordered grouping of key-value pairs\n",
        "*   **set** - unordered grouping of values\n",
        "\n",
        "Use **type(x)** to check the type of object x\n",
        "\n",
        "*Understanding data types is important because they define the set of operations that can (and cannot) be performed on those data types but sometimes overlap different data types, e.g. addition and multiplication operators are used both with numbers and strings*\n",
        "\n",
        "**Challenge exercise**: *look up duck typing and type checking in Python and Java and take note of the differences*"
      ]
    },
    {
      "cell_type": "markdown",
      "metadata": {
        "id": "HCGdwspUJfRe",
        "colab_type": "text"
      },
      "source": [
        "### Numeric operations (& some overlapping string operations)"
      ]
    },
    {
      "cell_type": "code",
      "metadata": {
        "id": "xZXA_afKruwf",
        "colab_type": "code",
        "outputId": "69e771cd-fab5-4886-a605-37306ecdfe68",
        "colab": {
          "base_uri": "https://localhost:8080/",
          "height": 51
        }
      },
      "source": [
        "# addition\n",
        "print(3+1)\n",
        "print('3' + '1')"
      ],
      "execution_count": 0,
      "outputs": [
        {
          "output_type": "stream",
          "text": [
            "4\n",
            "31\n"
          ],
          "name": "stdout"
        }
      ]
    },
    {
      "cell_type": "code",
      "metadata": {
        "id": "b1I31tmvruws",
        "colab_type": "code",
        "outputId": "3a64f2ca-dd62-487c-8d19-d0ac4924c934",
        "colab": {
          "base_uri": "https://localhost:8080/",
          "height": 51
        }
      },
      "source": [
        "# multiplication\n",
        "print(1 * 74)\n",
        "print('-'*74)"
      ],
      "execution_count": 0,
      "outputs": [
        {
          "output_type": "stream",
          "text": [
            "74\n",
            "--------------------------------------------------------------------------\n"
          ],
          "name": "stdout"
        }
      ]
    },
    {
      "cell_type": "code",
      "metadata": {
        "id": "ha9s3a3Gruw3",
        "colab_type": "code",
        "outputId": "09a3f516-1adc-484d-f79f-d74ef4d042bd",
        "colab": {
          "base_uri": "https://localhost:8080/",
          "height": 34
        }
      },
      "source": [
        "# division\n",
        "1 / 2"
      ],
      "execution_count": 0,
      "outputs": [
        {
          "output_type": "execute_result",
          "data": {
            "text/plain": [
              "0.5"
            ]
          },
          "metadata": {
            "tags": []
          },
          "execution_count": 18
        }
      ]
    },
    {
      "cell_type": "code",
      "metadata": {
        "id": "BVFiSEPtruxC",
        "colab_type": "code",
        "outputId": "fb88595d-228b-4ea0-92a4-4d67f9ef0c03",
        "colab": {
          "base_uri": "https://localhost:8080/",
          "height": 51
        }
      },
      "source": [
        "# exponentiation (i.e. raise to a power)\n",
        "print(2 ** 3)  # i.e. 2*2*2\n",
        "print(2**-3)  # # i.e. 1/(2*2*2)"
      ],
      "execution_count": 0,
      "outputs": [
        {
          "output_type": "stream",
          "text": [
            "8\n",
            "0.125\n"
          ],
          "name": "stdout"
        }
      ]
    },
    {
      "cell_type": "code",
      "metadata": {
        "id": "Yee-sI1mruxN",
        "colab_type": "code",
        "outputId": "76a35c43-1ce2-47ba-cce3-a361e596a98d",
        "colab": {
          "base_uri": "https://localhost:8080/",
          "height": 68
        }
      },
      "source": [
        "# modulus (i.e. remainder)\n",
        "print(4 % 2)\n",
        "print(2 % 4)\n",
        "print(4 % 3)"
      ],
      "execution_count": 0,
      "outputs": [
        {
          "output_type": "stream",
          "text": [
            "0\n",
            "2\n",
            "1\n"
          ],
          "name": "stdout"
        }
      ]
    },
    {
      "cell_type": "code",
      "metadata": {
        "id": "aGxJlZSRruxp",
        "colab_type": "code",
        "outputId": "06672315-cb45-4587-89d6-93fb11c78a80",
        "colab": {
          "base_uri": "https://localhost:8080/",
          "height": 51
        }
      },
      "source": [
        "# order of operations - Please Excuse My Dear Aunt Sally - (),**,*,/,+,-\n",
        "print(2 + 3 * 5 + 5)\n",
        "print((2 + 3) * (5 + 5))"
      ],
      "execution_count": 0,
      "outputs": [
        {
          "output_type": "stream",
          "text": [
            "22\n",
            "50\n"
          ],
          "name": "stdout"
        }
      ]
    },
    {
      "cell_type": "markdown",
      "metadata": {
        "id": "G2_tZj2Sruyv",
        "colab_type": "text"
      },
      "source": [
        "### Strings"
      ]
    },
    {
      "cell_type": "code",
      "metadata": {
        "id": "DsHijUc3ruyy",
        "colab_type": "code",
        "outputId": "f215ddc1-db0f-4ae5-bc57-a77f264dd122",
        "colab": {}
      },
      "source": [
        "'single quotes'"
      ],
      "execution_count": 0,
      "outputs": [
        {
          "output_type": "execute_result",
          "data": {
            "text/plain": [
              "'single quotes'"
            ]
          },
          "metadata": {
            "tags": []
          },
          "execution_count": 17
        }
      ]
    },
    {
      "cell_type": "code",
      "metadata": {
        "id": "AXCEdgo3ruy8",
        "colab_type": "code",
        "outputId": "c18719c7-0bcb-4188-e655-ca1be65e0737",
        "colab": {}
      },
      "source": [
        "\"double quotes\""
      ],
      "execution_count": 0,
      "outputs": [
        {
          "output_type": "execute_result",
          "data": {
            "text/plain": [
              "'double quotes'"
            ]
          },
          "metadata": {
            "tags": []
          },
          "execution_count": 18
        }
      ]
    },
    {
      "cell_type": "code",
      "metadata": {
        "id": "vcao3GPJruzR",
        "colab_type": "code",
        "outputId": "1b0a138e-bb40-4d6b-8b6e-035db250f9e5",
        "colab": {}
      },
      "source": [
        "\" wrap lot's of other quotes\""
      ],
      "execution_count": 0,
      "outputs": [
        {
          "output_type": "execute_result",
          "data": {
            "text/plain": [
              "\" wrap lot's of other quotes\""
            ]
          },
          "metadata": {
            "tags": []
          },
          "execution_count": 19
        }
      ]
    },
    {
      "cell_type": "markdown",
      "metadata": {
        "id": "vHNhLyEKruzh",
        "colab_type": "text"
      },
      "source": [
        "### Printing strings"
      ]
    },
    {
      "cell_type": "code",
      "metadata": {
        "id": "nriPoHHSruzn",
        "colab_type": "code",
        "colab": {}
      },
      "source": [
        "x = 'hello'"
      ],
      "execution_count": 0,
      "outputs": []
    },
    {
      "cell_type": "code",
      "metadata": {
        "id": "Cqxby_uxruzv",
        "colab_type": "code",
        "outputId": "4edfb022-1a8d-4540-fdce-b2afedbd2052",
        "colab": {}
      },
      "source": [
        "x"
      ],
      "execution_count": 0,
      "outputs": [
        {
          "output_type": "execute_result",
          "data": {
            "text/plain": [
              "'hello'"
            ]
          },
          "metadata": {
            "tags": []
          },
          "execution_count": 21
        }
      ]
    },
    {
      "cell_type": "code",
      "metadata": {
        "id": "u9nBuX-Xruz-",
        "colab_type": "code",
        "outputId": "f8f02d9d-848b-431d-d53a-bb719984e406",
        "colab": {}
      },
      "source": [
        "print(x)"
      ],
      "execution_count": 0,
      "outputs": [
        {
          "output_type": "stream",
          "text": [
            "hello\n"
          ],
          "name": "stdout"
        }
      ]
    },
    {
      "cell_type": "code",
      "metadata": {
        "id": "W3XjrSMdru0L",
        "colab_type": "code",
        "colab": {}
      },
      "source": [
        "num = 12\n",
        "name = 'Sam'"
      ],
      "execution_count": 0,
      "outputs": []
    },
    {
      "cell_type": "code",
      "metadata": {
        "id": "h3IhM5pgru0Z",
        "colab_type": "code",
        "outputId": "f91120be-2e05-4a31-a831-c72d0aeb5e95",
        "colab": {
          "base_uri": "https://localhost:8080/",
          "height": 34
        }
      },
      "source": [
        "print('My number is: {one}, and my name is: {two}'.format(one=num,two=name))"
      ],
      "execution_count": 0,
      "outputs": [
        {
          "output_type": "stream",
          "text": [
            "My number is: 12, and my name is: Sam\n"
          ],
          "name": "stdout"
        }
      ]
    },
    {
      "cell_type": "code",
      "metadata": {
        "id": "dNU_F2ylru0l",
        "colab_type": "code",
        "outputId": "aa0738c8-7bbd-4cf4-e19e-9e355aad4bf7",
        "colab": {
          "base_uri": "https://localhost:8080/",
          "height": 34
        }
      },
      "source": [
        "print('My number is: {}, and my name is: {}'.format(num,name))"
      ],
      "execution_count": 0,
      "outputs": [
        {
          "output_type": "stream",
          "text": [
            "My number is: 12, and my name is: Sam\n"
          ],
          "name": "stdout"
        }
      ]
    },
    {
      "cell_type": "code",
      "metadata": {
        "id": "1Xy41PYopb0s",
        "colab_type": "code",
        "outputId": "42befe14-fa7d-47ec-9e41-d0d707999d2a",
        "colab": {
          "base_uri": "https://localhost:8080/",
          "height": 34
        }
      },
      "source": [
        "# new in Python 3.6: formatted string literals(f-strings) - evaluate formats as inline expressions\n",
        "print(f'My number is: {num*1000:,} and my name is: {name!r}')  #.format(num,name))"
      ],
      "execution_count": 0,
      "outputs": [
        {
          "output_type": "stream",
          "text": [
            "My number is: 12,000 and my name is: 'Sam'\n"
          ],
          "name": "stdout"
        }
      ]
    },
    {
      "cell_type": "markdown",
      "metadata": {
        "id": "bWntnk7lrux-",
        "colab_type": "text"
      },
      "source": [
        "### Variables \n",
        "In python a 'variable' is just a label that a value is assigned to that is stored in Python's namespace. Many labels can be associated with the same value (i.e. object). When that value changes, all labels associated with that value change too. Other characteristics of variables include:\n",
        "\n",
        "* *untyped (see duck typing)*\n",
        "* *do **not** need to be declared*\n",
        "\n",
        "### Variable names\n",
        "- case sensitive\n",
        "- must begin with **letter** or **underscore**\n",
        "- may **only** contain **letters**, **digits** or **underscores**\n",
        "- Pythonic convention - *words separated by underscores*\n",
        "\n",
        "### Variable assignment\n",
        "- value assigned to name with **assignment operator =**, e.g. x = 10\n",
        "- **multiple assignment allowed** (encouraged), e.g. X, y = df[['x1','x2','x3']], df['target']"
      ]
    },
    {
      "cell_type": "code",
      "metadata": {
        "id": "Um7iuEhRruyB",
        "colab_type": "code",
        "outputId": "a0452321-7de8-47c4-eae2-3c8e4f95c0e8",
        "colab": {
          "base_uri": "https://localhost:8080/",
          "height": 34
        }
      },
      "source": [
        "# Can not start with number or special characters\n",
        "name_of_var = 2\n",
        "print(name_of_var)"
      ],
      "execution_count": 0,
      "outputs": [
        {
          "output_type": "stream",
          "text": [
            "2\n"
          ],
          "name": "stdout"
        }
      ]
    },
    {
      "cell_type": "code",
      "metadata": {
        "id": "2ySgJM_A_0SK",
        "colab_type": "code",
        "outputId": "774477be-ea7f-470c-a002-3da41008919f",
        "colab": {
          "base_uri": "https://localhost:8080/",
          "height": 68
        }
      },
      "source": [
        "# can assign multiple variables of different types with one statement separated by commas\n",
        "x, y, z = 2, 200, 'duh'  # Challenge question: what type of object is x, y, z? (hint: starts with 't', sounds like pupil)\n",
        "print(x)\n",
        "print(y)\n",
        "print(z)\n",
        "# print(type((x, y, z)))  # look it up first - important for understanding data structures in numpy and TF"
      ],
      "execution_count": 0,
      "outputs": [
        {
          "output_type": "stream",
          "text": [
            "2\n",
            "200\n",
            "duh\n"
          ],
          "name": "stdout"
        }
      ]
    },
    {
      "cell_type": "markdown",
      "metadata": {
        "id": "HMN9w2LvGtF0",
        "colab_type": "text"
      },
      "source": [
        "## Sequences: Lists, tuples, dictionaries, sets\n",
        "\n",
        "The sequence data types in Python are referred to as **iterables** (i.e. objects that can return their members one at a time)\n",
        "\n",
        "**Iterables** are an important concept in Python and used frequently in ML/AI libraries scikit-learn and TensorFlow to manage model optimization and tuning\n"
      ]
    },
    {
      "cell_type": "markdown",
      "metadata": {
        "id": "LZ127VbQgBGE",
        "colab_type": "text"
      },
      "source": [
        "### Lists\n",
        "A list is an ordered collection of objects separated by commas and typed with **square** brackets, e.g. [a, b, c, 10, 9, 8, elephant, lion, tiger ]"
      ]
    },
    {
      "cell_type": "code",
      "metadata": {
        "id": "m9n8fLRz_PKZ",
        "colab_type": "code",
        "outputId": "2f60fa91-fcc0-4466-a88b-7e3ce24f6960",
        "colab": {
          "base_uri": "https://localhost:8080/",
          "height": 272
        }
      },
      "source": [
        "# access list elements using index and slice\n",
        "a = [1, 2, 3, 4, 10, 20, 30, 40, 99]\n",
        "# index\n",
        "print(a[1]) # 2nd element (indexes start with 0)\n",
        "print(a[-1]) # last element\n",
        "print(a[-2]) # second from last element\n",
        "# slice notation\n",
        "print(a[1:4])\n",
        "print(a[:])\n",
        "print(a[:4])\n",
        "print(a[4:])\n",
        "print(a[1:8:2])\n",
        "\n",
        "# list assignment operations\n",
        "a = [1, 2, 3]\n",
        "print(a)\n",
        "print(type(a))\n",
        "b = a\n",
        "print('b', b)\n",
        "c = b\n",
        "print('c', c)\n",
        "\n",
        "# modify list by assigning a new value to element in a list\n",
        "b[0] = 11\n",
        "print('b', b)\n",
        "print('a', a)\n",
        "a[0] = 10*a[0]\n",
        "print('a', a)"
      ],
      "execution_count": 3,
      "outputs": [
        {
          "output_type": "stream",
          "text": [
            "2\n",
            "99\n",
            "40\n",
            "[2, 3, 4]\n",
            "[1, 2, 3, 4, 10, 20, 30, 40, 99]\n",
            "[1, 2, 3, 4]\n",
            "[10, 20, 30, 40, 99]\n",
            "[2, 4, 20, 40]\n",
            "[1, 2, 3]\n",
            "<class 'list'>\n",
            "b [1, 2, 3]\n",
            "c [1, 2, 3]\n",
            "b [11, 2, 3]\n",
            "a [11, 2, 3]\n",
            "a [110, 2, 3]\n"
          ],
          "name": "stdout"
        }
      ]
    },
    {
      "cell_type": "markdown",
      "metadata": {
        "id": "p6fM_g7Zl3QE",
        "colab_type": "text"
      },
      "source": [
        "## List Operations"
      ]
    },
    {
      "cell_type": "code",
      "metadata": {
        "id": "_itZ4MGjruyR",
        "colab_type": "code",
        "outputId": "5a8bfbf6-624b-4b38-8df5-32063f9e51e7",
        "colab": {
          "base_uri": "https://localhost:8080/",
          "height": 357
        }
      },
      "source": [
        "# list operations\n",
        "a = [1, 2, 3]\n",
        "print(a + a)\n",
        "print(2*a)\n",
        "print('min: ', min(a), 'max: ', max(a), 'N: ', len(a), 'sum: ', sum(a))\n",
        "\n",
        "print('-'*74)\n",
        "# lists are ordered and can be sorted using Python's sort method, .sort()\n",
        "a.sort()  # useful for changing the order of results in scikit-learn model object \n",
        "print(a)\n",
        "a.reverse()\n",
        "print(a)\n",
        "\n",
        "print('-'*74)\n",
        "# add elements to list\n",
        "a.append(a[0])\n",
        "print(a)\n",
        "a.extend(a)\n",
        "print(a)\n",
        "\n",
        "print('-'*74)\n",
        "# remove/delete list elements\n",
        "a.remove(3)\n",
        "print('a.remove(3)', a)  # removes first occurence of 3\n",
        "\n",
        "print('-'*74)\n",
        "# use index to delete ith element of list\n",
        "del(a[0])\n",
        "print(a)\n",
        "\n",
        "print('-'*74)\n",
        "# remove and assign list elements by index\n",
        "print('a before pop', a)\n",
        "a_pop2 = a.pop(2)\n",
        "print('a.pop(2) =', a_pop2)\n",
        "print('a after pop', a)\n",
        "\n",
        "print('-'*74)\n",
        "# number of elements in list using len()\n",
        "print(len(a)) \n",
        "\n",
        "# count element occurence in list\n",
        "print(f'number 3 appeared {a.count(3)} times in list a')  # f' {x} ' is a formatted string"
      ],
      "execution_count": 9,
      "outputs": [
        {
          "output_type": "stream",
          "text": [
            "[1, 2, 3, 1, 2, 3]\n",
            "[1, 2, 3, 1, 2, 3]\n",
            "min:  1 max:  3 N:  3 sum:  6\n",
            "--------------------------------------------------------------------------\n",
            "[1, 2, 3]\n",
            "[3, 2, 1]\n",
            "--------------------------------------------------------------------------\n",
            "[3, 2, 1, 3]\n",
            "[3, 2, 1, 3, 3, 2, 1, 3]\n",
            "--------------------------------------------------------------------------\n",
            "a.remove(3) [2, 1, 3, 3, 2, 1, 3]\n",
            "--------------------------------------------------------------------------\n",
            "[1, 3, 3, 2, 1, 3]\n",
            "--------------------------------------------------------------------------\n",
            "a before pop [1, 3, 3, 2, 1, 3]\n",
            "a.pop(2) = 3\n",
            "a after pop [1, 3, 2, 1, 3]\n",
            "--------------------------------------------------------------------------\n",
            "5\n",
            "number 3 appeared 2 times in list a\n"
          ],
          "name": "stdout"
        }
      ]
    },
    {
      "cell_type": "markdown",
      "metadata": {
        "id": "THG3DHQfru0v",
        "colab_type": "text"
      },
      "source": [
        "### Lists - [item1, item2, ...] - can nest lists inside lists - nested list referenced sequentially\n",
        "e.g. list = [a, [b, [c, d]]] list[2] [1] = 'd'"
      ]
    },
    {
      "cell_type": "code",
      "metadata": {
        "id": "S1-lGoZRru2i",
        "colab_type": "code",
        "colab": {}
      },
      "source": [
        "nest = [1,2,3,[4,5,['target']]]"
      ],
      "execution_count": 0,
      "outputs": []
    },
    {
      "cell_type": "code",
      "metadata": {
        "id": "UNwWpIexru2q",
        "colab_type": "code",
        "outputId": "2e2b10d4-ccbf-4e53-fbdd-76b8c1a9d4ce",
        "colab": {
          "base_uri": "https://localhost:8080/",
          "height": 34
        }
      },
      "source": [
        "nest[3]"
      ],
      "execution_count": 0,
      "outputs": [
        {
          "output_type": "execute_result",
          "data": {
            "text/plain": [
              "[4, 5, ['target']]"
            ]
          },
          "metadata": {
            "tags": []
          },
          "execution_count": 15
        }
      ]
    },
    {
      "cell_type": "code",
      "metadata": {
        "id": "kvKlTBAJru24",
        "colab_type": "code",
        "outputId": "9809be93-2a85-454e-cffe-4b8cecb0b243",
        "colab": {
          "base_uri": "https://localhost:8080/",
          "height": 34
        }
      },
      "source": [
        "nest[3][2]"
      ],
      "execution_count": 0,
      "outputs": [
        {
          "output_type": "execute_result",
          "data": {
            "text/plain": [
              "['target']"
            ]
          },
          "metadata": {
            "tags": []
          },
          "execution_count": 16
        }
      ]
    },
    {
      "cell_type": "code",
      "metadata": {
        "id": "ppVEuonmru3C",
        "colab_type": "code",
        "outputId": "b453433e-0aa5-47df-8ba7-5c1666bcfab5",
        "colab": {
          "base_uri": "https://localhost:8080/",
          "height": 34
        }
      },
      "source": [
        "nest[3][2][0]"
      ],
      "execution_count": 0,
      "outputs": [
        {
          "output_type": "execute_result",
          "data": {
            "text/plain": [
              "'target'"
            ]
          },
          "metadata": {
            "tags": []
          },
          "execution_count": 17
        }
      ]
    },
    {
      "cell_type": "markdown",
      "metadata": {
        "id": "gdiSk5nzE9M2",
        "colab_type": "text"
      },
      "source": [
        "**Application**: scikit-learn pipeline: stores results in a list of tuples (see documentation excerpt below) \n",
        "\n",
        "   *List of (name, transform) tuples (implementing fit/transform) that are\n",
        "     |      chained, in the order in which they are chained, with the last object\n",
        "     |      an estimator.*"
      ]
    },
    {
      "cell_type": "code",
      "metadata": {
        "id": "3mZafXcKBvqW",
        "colab_type": "code",
        "colab": {
          "base_uri": "https://localhost:8080/",
          "height": 1000
        },
        "outputId": "ad471b0c-0a85-4449-c55c-20d780624d1c"
      },
      "source": [
        "# full documentation for sklearn pipeline\n",
        "'''from sklearn import pipeline\n",
        "help(pipeline)'''"
      ],
      "execution_count": 5,
      "outputs": [
        {
          "output_type": "stream",
          "text": [
            "Help on module sklearn.pipeline in sklearn:\n",
            "\n",
            "NAME\n",
            "    sklearn.pipeline\n",
            "\n",
            "DESCRIPTION\n",
            "    The :mod:`sklearn.pipeline` module implements utilities to build a composite\n",
            "    estimator, as a chain of transforms and estimators.\n",
            "\n",
            "CLASSES\n",
            "    sklearn.base.TransformerMixin(builtins.object)\n",
            "        FeatureUnion(sklearn.base.TransformerMixin, sklearn.utils.metaestimators._BaseComposition)\n",
            "    sklearn.utils.metaestimators._BaseComposition(sklearn.base.BaseEstimator)\n",
            "        FeatureUnion(sklearn.base.TransformerMixin, sklearn.utils.metaestimators._BaseComposition)\n",
            "        Pipeline\n",
            "    \n",
            "    class FeatureUnion(sklearn.base.TransformerMixin, sklearn.utils.metaestimators._BaseComposition)\n",
            "     |  Concatenates results of multiple transformer objects.\n",
            "     |  \n",
            "     |  This estimator applies a list of transformer objects in parallel to the\n",
            "     |  input data, then concatenates the results. This is useful to combine\n",
            "     |  several feature extraction mechanisms into a single transformer.\n",
            "     |  \n",
            "     |  Parameters of the transformers may be set using its name and the parameter\n",
            "     |  name separated by a '__'. A transformer may be replaced entirely by\n",
            "     |  setting the parameter with its name to another transformer,\n",
            "     |  or removed by setting to 'drop'.\n",
            "     |  \n",
            "     |  Read more in the :ref:`User Guide <feature_union>`.\n",
            "     |  \n",
            "     |  .. versionadded:: 0.13\n",
            "     |  \n",
            "     |  Parameters\n",
            "     |  ----------\n",
            "     |  transformer_list : list of (string, transformer) tuples\n",
            "     |      List of transformer objects to be applied to the data. The first\n",
            "     |      half of each tuple is the name of the transformer.\n",
            "     |  \n",
            "     |      .. versionchanged:: 0.22\n",
            "     |         Deprecated `None` as a transformer in favor of 'drop'.\n",
            "     |  \n",
            "     |  n_jobs : int or None, optional (default=None)\n",
            "     |      Number of jobs to run in parallel.\n",
            "     |      ``None`` means 1 unless in a :obj:`joblib.parallel_backend` context.\n",
            "     |      ``-1`` means using all processors. See :term:`Glossary <n_jobs>`\n",
            "     |      for more details.\n",
            "     |  \n",
            "     |  transformer_weights : dict, optional\n",
            "     |      Multiplicative weights for features per transformer.\n",
            "     |      Keys are transformer names, values the weights.\n",
            "     |  \n",
            "     |  verbose : boolean, optional(default=False)\n",
            "     |      If True, the time elapsed while fitting each transformer will be\n",
            "     |      printed as it is completed.\n",
            "     |  \n",
            "     |  See Also\n",
            "     |  --------\n",
            "     |  sklearn.pipeline.make_union : Convenience function for simplified\n",
            "     |      feature union construction.\n",
            "     |  \n",
            "     |  Examples\n",
            "     |  --------\n",
            "     |  >>> from sklearn.pipeline import FeatureUnion\n",
            "     |  >>> from sklearn.decomposition import PCA, TruncatedSVD\n",
            "     |  >>> union = FeatureUnion([(\"pca\", PCA(n_components=1)),\n",
            "     |  ...                       (\"svd\", TruncatedSVD(n_components=2))])\n",
            "     |  >>> X = [[0., 1., 3], [2., 2., 5]]\n",
            "     |  >>> union.fit_transform(X)\n",
            "     |  array([[ 1.5       ,  3.0...,  0.8...],\n",
            "     |         [-1.5       ,  5.7..., -0.4...]])\n",
            "     |  \n",
            "     |  Method resolution order:\n",
            "     |      FeatureUnion\n",
            "     |      sklearn.base.TransformerMixin\n",
            "     |      sklearn.utils.metaestimators._BaseComposition\n",
            "     |      sklearn.base.BaseEstimator\n",
            "     |      builtins.object\n",
            "     |  \n",
            "     |  Methods defined here:\n",
            "     |  \n",
            "     |  __init__(self, transformer_list, n_jobs=None, transformer_weights=None, verbose=False)\n",
            "     |      Initialize self.  See help(type(self)) for accurate signature.\n",
            "     |  \n",
            "     |  fit(self, X, y=None, **fit_params)\n",
            "     |      Fit all transformers using X.\n",
            "     |      \n",
            "     |      Parameters\n",
            "     |      ----------\n",
            "     |      X : iterable or array-like, depending on transformers\n",
            "     |          Input data, used to fit transformers.\n",
            "     |      \n",
            "     |      y : array-like, shape (n_samples, ...), optional\n",
            "     |          Targets for supervised learning.\n",
            "     |      \n",
            "     |      Returns\n",
            "     |      -------\n",
            "     |      self : FeatureUnion\n",
            "     |          This estimator\n",
            "     |  \n",
            "     |  fit_transform(self, X, y=None, **fit_params)\n",
            "     |      Fit all transformers, transform the data and concatenate results.\n",
            "     |      \n",
            "     |      Parameters\n",
            "     |      ----------\n",
            "     |      X : iterable or array-like, depending on transformers\n",
            "     |          Input data to be transformed.\n",
            "     |      \n",
            "     |      y : array-like, shape (n_samples, ...), optional\n",
            "     |          Targets for supervised learning.\n",
            "     |      \n",
            "     |      Returns\n",
            "     |      -------\n",
            "     |      X_t : array-like or sparse matrix, shape (n_samples, sum_n_components)\n",
            "     |          hstack of results of transformers. sum_n_components is the\n",
            "     |          sum of n_components (output dimension) over transformers.\n",
            "     |  \n",
            "     |  get_feature_names(self)\n",
            "     |      Get feature names from all transformers.\n",
            "     |      \n",
            "     |      Returns\n",
            "     |      -------\n",
            "     |      feature_names : list of strings\n",
            "     |          Names of the features produced by transform.\n",
            "     |  \n",
            "     |  get_params(self, deep=True)\n",
            "     |      Get parameters for this estimator.\n",
            "     |      \n",
            "     |      Parameters\n",
            "     |      ----------\n",
            "     |      deep : boolean, optional\n",
            "     |          If True, will return the parameters for this estimator and\n",
            "     |          contained subobjects that are estimators.\n",
            "     |      \n",
            "     |      Returns\n",
            "     |      -------\n",
            "     |      params : mapping of string to any\n",
            "     |          Parameter names mapped to their values.\n",
            "     |  \n",
            "     |  set_params(self, **kwargs)\n",
            "     |      Set the parameters of this estimator.\n",
            "     |      \n",
            "     |      Valid parameter keys can be listed with ``get_params()``.\n",
            "     |      \n",
            "     |      Returns\n",
            "     |      -------\n",
            "     |      self\n",
            "     |  \n",
            "     |  transform(self, X)\n",
            "     |      Transform X separately by each transformer, concatenate results.\n",
            "     |      \n",
            "     |      Parameters\n",
            "     |      ----------\n",
            "     |      X : iterable or array-like, depending on transformers\n",
            "     |          Input data to be transformed.\n",
            "     |      \n",
            "     |      Returns\n",
            "     |      -------\n",
            "     |      X_t : array-like or sparse matrix, shape (n_samples, sum_n_components)\n",
            "     |          hstack of results of transformers. sum_n_components is the\n",
            "     |          sum of n_components (output dimension) over transformers.\n",
            "     |  \n",
            "     |  ----------------------------------------------------------------------\n",
            "     |  Data and other attributes defined here:\n",
            "     |  \n",
            "     |  __abstractmethods__ = frozenset()\n",
            "     |  \n",
            "     |  ----------------------------------------------------------------------\n",
            "     |  Data descriptors inherited from sklearn.base.TransformerMixin:\n",
            "     |  \n",
            "     |  __dict__\n",
            "     |      dictionary for instance variables (if defined)\n",
            "     |  \n",
            "     |  __weakref__\n",
            "     |      list of weak references to the object (if defined)\n",
            "     |  \n",
            "     |  ----------------------------------------------------------------------\n",
            "     |  Methods inherited from sklearn.base.BaseEstimator:\n",
            "     |  \n",
            "     |  __getstate__(self)\n",
            "     |  \n",
            "     |  __repr__(self, N_CHAR_MAX=700)\n",
            "     |      Return repr(self).\n",
            "     |  \n",
            "     |  __setstate__(self, state)\n",
            "    \n",
            "    class Pipeline(sklearn.utils.metaestimators._BaseComposition)\n",
            "     |  Pipeline of transforms with a final estimator.\n",
            "     |  \n",
            "     |  Sequentially apply a list of transforms and a final estimator.\n",
            "     |  Intermediate steps of the pipeline must be 'transforms', that is, they\n",
            "     |  must implement fit and transform methods.\n",
            "     |  The final estimator only needs to implement fit.\n",
            "     |  The transformers in the pipeline can be cached using ``memory`` argument.\n",
            "     |  \n",
            "     |  The purpose of the pipeline is to assemble several steps that can be\n",
            "     |  cross-validated together while setting different parameters.\n",
            "     |  For this, it enables setting parameters of the various steps using their\n",
            "     |  names and the parameter name separated by a '__', as in the example below.\n",
            "     |  A step's estimator may be replaced entirely by setting the parameter\n",
            "     |  with its name to another estimator, or a transformer removed by setting\n",
            "     |  it to 'passthrough' or ``None``.\n",
            "     |  \n",
            "     |  Read more in the :ref:`User Guide <pipeline>`.\n",
            "     |  \n",
            "     |  .. versionadded:: 0.5\n",
            "     |  \n",
            "     |  Parameters\n",
            "     |  ----------\n",
            "     |  steps : list\n",
            "     |      List of (name, transform) tuples (implementing fit/transform) that are\n",
            "     |      chained, in the order in which they are chained, with the last object\n",
            "     |      an estimator.\n",
            "     |  \n",
            "     |  memory : None, str or object with the joblib.Memory interface, optional\n",
            "     |      Used to cache the fitted transformers of the pipeline. By default,\n",
            "     |      no caching is performed. If a string is given, it is the path to\n",
            "     |      the caching directory. Enabling caching triggers a clone of\n",
            "     |      the transformers before fitting. Therefore, the transformer\n",
            "     |      instance given to the pipeline cannot be inspected\n",
            "     |      directly. Use the attribute ``named_steps`` or ``steps`` to\n",
            "     |      inspect estimators within the pipeline. Caching the\n",
            "     |      transformers is advantageous when fitting is time consuming.\n",
            "     |  \n",
            "     |  verbose : bool, default=False\n",
            "     |      If True, the time elapsed while fitting each step will be printed as it\n",
            "     |      is completed.\n",
            "     |  \n",
            "     |  Attributes\n",
            "     |  ----------\n",
            "     |  named_steps : bunch object, a dictionary with attribute access\n",
            "     |      Read-only attribute to access any step parameter by user given name.\n",
            "     |      Keys are step names and values are steps parameters.\n",
            "     |  \n",
            "     |  See Also\n",
            "     |  --------\n",
            "     |  sklearn.pipeline.make_pipeline : Convenience function for simplified\n",
            "     |      pipeline construction.\n",
            "     |  \n",
            "     |  Examples\n",
            "     |  --------\n",
            "     |  >>> from sklearn import svm\n",
            "     |  >>> from sklearn.datasets import make_classification\n",
            "     |  >>> from sklearn.feature_selection import SelectKBest\n",
            "     |  >>> from sklearn.feature_selection import f_regression\n",
            "     |  >>> from sklearn.pipeline import Pipeline\n",
            "     |  >>> # generate some data to play with\n",
            "     |  >>> X, y = make_classification(\n",
            "     |  ...     n_informative=5, n_redundant=0, random_state=42)\n",
            "     |  >>> # ANOVA SVM-C\n",
            "     |  >>> anova_filter = SelectKBest(f_regression, k=5)\n",
            "     |  >>> clf = svm.SVC(kernel='linear')\n",
            "     |  >>> anova_svm = Pipeline([('anova', anova_filter), ('svc', clf)])\n",
            "     |  >>> # You can set the parameters using the names issued\n",
            "     |  >>> # For instance, fit using a k of 10 in the SelectKBest\n",
            "     |  >>> # and a parameter 'C' of the svm\n",
            "     |  >>> anova_svm.set_params(anova__k=10, svc__C=.1).fit(X, y)\n",
            "     |  Pipeline(steps=[('anova', SelectKBest(...)), ('svc', SVC(...))])\n",
            "     |  >>> prediction = anova_svm.predict(X)\n",
            "     |  >>> anova_svm.score(X, y)\n",
            "     |  0.83\n",
            "     |  >>> # getting the selected features chosen by anova_filter\n",
            "     |  >>> anova_svm['anova'].get_support()\n",
            "     |  array([False, False,  True,  True, False, False,  True,  True, False,\n",
            "     |         True, False,  True,  True, False,  True, False,  True,  True,\n",
            "     |         False, False])\n",
            "     |  >>> # Another way to get selected features chosen by anova_filter\n",
            "     |  >>> anova_svm.named_steps.anova.get_support()\n",
            "     |  array([False, False,  True,  True, False, False,  True,  True, False,\n",
            "     |         True, False,  True,  True, False,  True, False,  True,  True,\n",
            "     |         False, False])\n",
            "     |  >>> # Indexing can also be used to extract a sub-pipeline.\n",
            "     |  >>> sub_pipeline = anova_svm[:1]\n",
            "     |  >>> sub_pipeline\n",
            "     |  Pipeline(steps=[('anova', SelectKBest(...))])\n",
            "     |  >>> coef = anova_svm[-1].coef_\n",
            "     |  >>> anova_svm['svc'] is anova_svm[-1]\n",
            "     |  True\n",
            "     |  >>> coef.shape\n",
            "     |  (1, 10)\n",
            "     |  >>> sub_pipeline.inverse_transform(coef).shape\n",
            "     |  (1, 20)\n",
            "     |  \n",
            "     |  Method resolution order:\n",
            "     |      Pipeline\n",
            "     |      sklearn.utils.metaestimators._BaseComposition\n",
            "     |      sklearn.base.BaseEstimator\n",
            "     |      builtins.object\n",
            "     |  \n",
            "     |  Methods defined here:\n",
            "     |  \n",
            "     |  __getitem__(self, ind)\n",
            "     |      Returns a sub-pipeline or a single esimtator in the pipeline\n",
            "     |      \n",
            "     |      Indexing with an integer will return an estimator; using a slice\n",
            "     |      returns another Pipeline instance which copies a slice of this\n",
            "     |      Pipeline. This copy is shallow: modifying (or fitting) estimators in\n",
            "     |      the sub-pipeline will affect the larger pipeline and vice-versa.\n",
            "     |      However, replacing a value in `step` will not affect a copy.\n",
            "     |  \n",
            "     |  __init__(self, steps, memory=None, verbose=False)\n",
            "     |      Initialize self.  See help(type(self)) for accurate signature.\n",
            "     |  \n",
            "     |  __len__(self)\n",
            "     |      Returns the length of the Pipeline\n",
            "     |  \n",
            "     |  decision_function(self, X)\n",
            "     |      Apply transforms, and decision_function of the final estimator\n",
            "     |      \n",
            "     |      Parameters\n",
            "     |      ----------\n",
            "     |      X : iterable\n",
            "     |          Data to predict on. Must fulfill input requirements of first step\n",
            "     |          of the pipeline.\n",
            "     |      \n",
            "     |      Returns\n",
            "     |      -------\n",
            "     |      y_score : array-like of shape (n_samples, n_classes)\n",
            "     |  \n",
            "     |  fit(self, X, y=None, **fit_params)\n",
            "     |      Fit the model\n",
            "     |      \n",
            "     |      Fit all the transforms one after the other and transform the\n",
            "     |      data, then fit the transformed data using the final estimator.\n",
            "     |      \n",
            "     |      Parameters\n",
            "     |      ----------\n",
            "     |      X : iterable\n",
            "     |          Training data. Must fulfill input requirements of first step of the\n",
            "     |          pipeline.\n",
            "     |      \n",
            "     |      y : iterable, default=None\n",
            "     |          Training targets. Must fulfill label requirements for all steps of\n",
            "     |          the pipeline.\n",
            "     |      \n",
            "     |      **fit_params : dict of string -> object\n",
            "     |          Parameters passed to the ``fit`` method of each step, where\n",
            "     |          each parameter name is prefixed such that parameter ``p`` for step\n",
            "     |          ``s`` has key ``s__p``.\n",
            "     |      \n",
            "     |      Returns\n",
            "     |      -------\n",
            "     |      self : Pipeline\n",
            "     |          This estimator\n",
            "     |  \n",
            "     |  fit_predict(self, X, y=None, **fit_params)\n",
            "     |      Applies fit_predict of last step in pipeline after transforms.\n",
            "     |      \n",
            "     |      Applies fit_transforms of a pipeline to the data, followed by the\n",
            "     |      fit_predict method of the final estimator in the pipeline. Valid\n",
            "     |      only if the final estimator implements fit_predict.\n",
            "     |      \n",
            "     |      Parameters\n",
            "     |      ----------\n",
            "     |      X : iterable\n",
            "     |          Training data. Must fulfill input requirements of first step of\n",
            "     |          the pipeline.\n",
            "     |      \n",
            "     |      y : iterable, default=None\n",
            "     |          Training targets. Must fulfill label requirements for all steps\n",
            "     |          of the pipeline.\n",
            "     |      \n",
            "     |      **fit_params : dict of string -> object\n",
            "     |          Parameters passed to the ``fit`` method of each step, where\n",
            "     |          each parameter name is prefixed such that parameter ``p`` for step\n",
            "     |          ``s`` has key ``s__p``.\n",
            "     |      \n",
            "     |      Returns\n",
            "     |      -------\n",
            "     |      y_pred : array-like\n",
            "     |  \n",
            "     |  fit_transform(self, X, y=None, **fit_params)\n",
            "     |      Fit the model and transform with the final estimator\n",
            "     |      \n",
            "     |      Fits all the transforms one after the other and transforms the\n",
            "     |      data, then uses fit_transform on transformed data with the final\n",
            "     |      estimator.\n",
            "     |      \n",
            "     |      Parameters\n",
            "     |      ----------\n",
            "     |      X : iterable\n",
            "     |          Training data. Must fulfill input requirements of first step of the\n",
            "     |          pipeline.\n",
            "     |      \n",
            "     |      y : iterable, default=None\n",
            "     |          Training targets. Must fulfill label requirements for all steps of\n",
            "     |          the pipeline.\n",
            "     |      \n",
            "     |      **fit_params : dict of string -> object\n",
            "     |          Parameters passed to the ``fit`` method of each step, where\n",
            "     |          each parameter name is prefixed such that parameter ``p`` for step\n",
            "     |          ``s`` has key ``s__p``.\n",
            "     |      \n",
            "     |      Returns\n",
            "     |      -------\n",
            "     |      Xt : array-like of shape  (n_samples, n_transformed_features)\n",
            "     |          Transformed samples\n",
            "     |  \n",
            "     |  get_params(self, deep=True)\n",
            "     |      Get parameters for this estimator.\n",
            "     |      \n",
            "     |      Parameters\n",
            "     |      ----------\n",
            "     |      deep : boolean, optional\n",
            "     |          If True, will return the parameters for this estimator and\n",
            "     |          contained subobjects that are estimators.\n",
            "     |      \n",
            "     |      Returns\n",
            "     |      -------\n",
            "     |      params : mapping of string to any\n",
            "     |          Parameter names mapped to their values.\n",
            "     |  \n",
            "     |  predict(self, X, **predict_params)\n",
            "     |      Apply transforms to the data, and predict with the final estimator\n",
            "     |      \n",
            "     |      Parameters\n",
            "     |      ----------\n",
            "     |      X : iterable\n",
            "     |          Data to predict on. Must fulfill input requirements of first step\n",
            "     |          of the pipeline.\n",
            "     |      \n",
            "     |      **predict_params : dict of string -> object\n",
            "     |          Parameters to the ``predict`` called at the end of all\n",
            "     |          transformations in the pipeline. Note that while this may be\n",
            "     |          used to return uncertainties from some models with return_std\n",
            "     |          or return_cov, uncertainties that are generated by the\n",
            "     |          transformations in the pipeline are not propagated to the\n",
            "     |          final estimator.\n",
            "     |      \n",
            "     |      Returns\n",
            "     |      -------\n",
            "     |      y_pred : array-like\n",
            "     |  \n",
            "     |  predict_log_proba(self, X)\n",
            "     |      Apply transforms, and predict_log_proba of the final estimator\n",
            "     |      \n",
            "     |      Parameters\n",
            "     |      ----------\n",
            "     |      X : iterable\n",
            "     |          Data to predict on. Must fulfill input requirements of first step\n",
            "     |          of the pipeline.\n",
            "     |      \n",
            "     |      Returns\n",
            "     |      -------\n",
            "     |      y_score : array-like of shape (n_samples, n_classes)\n",
            "     |  \n",
            "     |  predict_proba(self, X)\n",
            "     |      Apply transforms, and predict_proba of the final estimator\n",
            "     |      \n",
            "     |      Parameters\n",
            "     |      ----------\n",
            "     |      X : iterable\n",
            "     |          Data to predict on. Must fulfill input requirements of first step\n",
            "     |          of the pipeline.\n",
            "     |      \n",
            "     |      Returns\n",
            "     |      -------\n",
            "     |      y_proba : array-like of shape (n_samples, n_classes)\n",
            "     |  \n",
            "     |  score(self, X, y=None, sample_weight=None)\n",
            "     |      Apply transforms, and score with the final estimator\n",
            "     |      \n",
            "     |      Parameters\n",
            "     |      ----------\n",
            "     |      X : iterable\n",
            "     |          Data to predict on. Must fulfill input requirements of first step\n",
            "     |          of the pipeline.\n",
            "     |      \n",
            "     |      y : iterable, default=None\n",
            "     |          Targets used for scoring. Must fulfill label requirements for all\n",
            "     |          steps of the pipeline.\n",
            "     |      \n",
            "     |      sample_weight : array-like, default=None\n",
            "     |          If not None, this argument is passed as ``sample_weight`` keyword\n",
            "     |          argument to the ``score`` method of the final estimator.\n",
            "     |      \n",
            "     |      Returns\n",
            "     |      -------\n",
            "     |      score : float\n",
            "     |  \n",
            "     |  score_samples(self, X)\n",
            "     |      Apply transforms, and score_samples of the final estimator.\n",
            "     |      \n",
            "     |      Parameters\n",
            "     |      ----------\n",
            "     |      X : iterable\n",
            "     |          Data to predict on. Must fulfill input requirements of first step\n",
            "     |          of the pipeline.\n",
            "     |      \n",
            "     |      Returns\n",
            "     |      -------\n",
            "     |      y_score : ndarray, shape (n_samples,)\n",
            "     |  \n",
            "     |  set_params(self, **kwargs)\n",
            "     |      Set the parameters of this estimator.\n",
            "     |      \n",
            "     |      Valid parameter keys can be listed with ``get_params()``.\n",
            "     |      \n",
            "     |      Returns\n",
            "     |      -------\n",
            "     |      self\n",
            "     |  \n",
            "     |  ----------------------------------------------------------------------\n",
            "     |  Data descriptors defined here:\n",
            "     |  \n",
            "     |  classes_\n",
            "     |  \n",
            "     |  inverse_transform\n",
            "     |      Apply inverse transformations in reverse order\n",
            "     |      \n",
            "     |      All estimators in the pipeline must support ``inverse_transform``.\n",
            "     |      \n",
            "     |      Parameters\n",
            "     |      ----------\n",
            "     |      Xt : array-like of shape  (n_samples, n_transformed_features)\n",
            "     |          Data samples, where ``n_samples`` is the number of samples and\n",
            "     |          ``n_features`` is the number of features. Must fulfill\n",
            "     |          input requirements of last step of pipeline's\n",
            "     |          ``inverse_transform`` method.\n",
            "     |      \n",
            "     |      Returns\n",
            "     |      -------\n",
            "     |      Xt : array-like of shape (n_samples, n_features)\n",
            "     |  \n",
            "     |  named_steps\n",
            "     |  \n",
            "     |  transform\n",
            "     |      Apply transforms, and transform with the final estimator\n",
            "     |      \n",
            "     |      This also works where final estimator is ``None``: all prior\n",
            "     |      transformations are applied.\n",
            "     |      \n",
            "     |      Parameters\n",
            "     |      ----------\n",
            "     |      X : iterable\n",
            "     |          Data to transform. Must fulfill input requirements of first step\n",
            "     |          of the pipeline.\n",
            "     |      \n",
            "     |      Returns\n",
            "     |      -------\n",
            "     |      Xt : array-like of shape  (n_samples, n_transformed_features)\n",
            "     |  \n",
            "     |  ----------------------------------------------------------------------\n",
            "     |  Data and other attributes defined here:\n",
            "     |  \n",
            "     |  __abstractmethods__ = frozenset()\n",
            "     |  \n",
            "     |  ----------------------------------------------------------------------\n",
            "     |  Methods inherited from sklearn.base.BaseEstimator:\n",
            "     |  \n",
            "     |  __getstate__(self)\n",
            "     |  \n",
            "     |  __repr__(self, N_CHAR_MAX=700)\n",
            "     |      Return repr(self).\n",
            "     |  \n",
            "     |  __setstate__(self, state)\n",
            "     |  \n",
            "     |  ----------------------------------------------------------------------\n",
            "     |  Data descriptors inherited from sklearn.base.BaseEstimator:\n",
            "     |  \n",
            "     |  __dict__\n",
            "     |      dictionary for instance variables (if defined)\n",
            "     |  \n",
            "     |  __weakref__\n",
            "     |      list of weak references to the object (if defined)\n",
            "\n",
            "FUNCTIONS\n",
            "    make_pipeline(*steps, **kwargs)\n",
            "        Construct a Pipeline from the given estimators.\n",
            "        \n",
            "        This is a shorthand for the Pipeline constructor; it does not require, and\n",
            "        does not permit, naming the estimators. Instead, their names will be set\n",
            "        to the lowercase of their types automatically.\n",
            "        \n",
            "        Parameters\n",
            "        ----------\n",
            "        *steps : list of estimators.\n",
            "        \n",
            "        memory : None, str or object with the joblib.Memory interface, optional\n",
            "            Used to cache the fitted transformers of the pipeline. By default,\n",
            "            no caching is performed. If a string is given, it is the path to\n",
            "            the caching directory. Enabling caching triggers a clone of\n",
            "            the transformers before fitting. Therefore, the transformer\n",
            "            instance given to the pipeline cannot be inspected\n",
            "            directly. Use the attribute ``named_steps`` or ``steps`` to\n",
            "            inspect estimators within the pipeline. Caching the\n",
            "            transformers is advantageous when fitting is time consuming.\n",
            "        \n",
            "        verbose : boolean, default=False\n",
            "            If True, the time elapsed while fitting each step will be printed as it\n",
            "            is completed.\n",
            "        \n",
            "        See Also\n",
            "        --------\n",
            "        sklearn.pipeline.Pipeline : Class for creating a pipeline of\n",
            "            transforms with a final estimator.\n",
            "        \n",
            "        Examples\n",
            "        --------\n",
            "        >>> from sklearn.naive_bayes import GaussianNB\n",
            "        >>> from sklearn.preprocessing import StandardScaler\n",
            "        >>> make_pipeline(StandardScaler(), GaussianNB(priors=None))\n",
            "        Pipeline(steps=[('standardscaler', StandardScaler()),\n",
            "                        ('gaussiannb', GaussianNB())])\n",
            "        \n",
            "        Returns\n",
            "        -------\n",
            "        p : Pipeline\n",
            "    \n",
            "    make_union(*transformers, **kwargs)\n",
            "        Construct a FeatureUnion from the given transformers.\n",
            "        \n",
            "        This is a shorthand for the FeatureUnion constructor; it does not require,\n",
            "        and does not permit, naming the transformers. Instead, they will be given\n",
            "        names automatically based on their types. It also does not allow weighting.\n",
            "        \n",
            "        Parameters\n",
            "        ----------\n",
            "        *transformers : list of estimators\n",
            "        \n",
            "        n_jobs : int or None, optional (default=None)\n",
            "            Number of jobs to run in parallel.\n",
            "            ``None`` means 1 unless in a :obj:`joblib.parallel_backend` context.\n",
            "            ``-1`` means using all processors. See :term:`Glossary <n_jobs>`\n",
            "            for more details.\n",
            "        \n",
            "        verbose : boolean, optional(default=False)\n",
            "            If True, the time elapsed while fitting each transformer will be\n",
            "            printed as it is completed.\n",
            "        \n",
            "        Returns\n",
            "        -------\n",
            "        f : FeatureUnion\n",
            "        \n",
            "        See Also\n",
            "        --------\n",
            "        sklearn.pipeline.FeatureUnion : Class for concatenating the results\n",
            "            of multiple transformer objects.\n",
            "        \n",
            "        Examples\n",
            "        --------\n",
            "        >>> from sklearn.decomposition import PCA, TruncatedSVD\n",
            "        >>> from sklearn.pipeline import make_union\n",
            "        >>> make_union(PCA(), TruncatedSVD())\n",
            "         FeatureUnion(transformer_list=[('pca', PCA()),\n",
            "                                       ('truncatedsvd', TruncatedSVD())])\n",
            "\n",
            "DATA\n",
            "    __all__ = ['Pipeline', 'FeatureUnion', 'make_pipeline', 'make_union']\n",
            "\n",
            "FILE\n",
            "    /usr/local/lib/python3.6/dist-packages/sklearn/pipeline.py\n",
            "\n",
            "\n"
          ],
          "name": "stdout"
        }
      ]
    },
    {
      "cell_type": "markdown",
      "metadata": {
        "id": "a1iTGQyCru3L",
        "colab_type": "text"
      },
      "source": [
        "### Dictionaries - {key:item}"
      ]
    },
    {
      "cell_type": "code",
      "metadata": {
        "id": "kSXWfRp9ru3P",
        "colab_type": "code",
        "colab": {}
      },
      "source": [
        "d = {'key1':'item1','key2':'item2'}"
      ],
      "execution_count": 0,
      "outputs": []
    },
    {
      "cell_type": "code",
      "metadata": {
        "id": "_VLlonjwru3V",
        "colab_type": "code",
        "colab": {}
      },
      "source": [
        "d"
      ],
      "execution_count": 0,
      "outputs": []
    },
    {
      "cell_type": "code",
      "metadata": {
        "id": "21gPzUYRru3f",
        "colab_type": "code",
        "outputId": "9c9e3639-8401-4765-b3e5-62d4c1dbdf11",
        "colab": {}
      },
      "source": [
        "d['key1']"
      ],
      "execution_count": 0,
      "outputs": [
        {
          "output_type": "execute_result",
          "data": {
            "text/plain": [
              "'item1'"
            ]
          },
          "metadata": {
            "tags": []
          },
          "execution_count": 43
        }
      ]
    },
    {
      "cell_type": "code",
      "metadata": {
        "id": "lTlEC9SIru36",
        "colab_type": "code",
        "outputId": "6c25dc5d-8448-4a59-e4ac-26b961feb7e6",
        "colab": {
          "base_uri": "https://localhost:8080/",
          "height": 34
        }
      },
      "source": [
        "# create an empty dict and assign new itmes\n",
        "y = {}\n",
        "y[0] = 'foo'\n",
        "y[3] = 'bar'\n",
        "\n",
        "print(y)"
      ],
      "execution_count": 0,
      "outputs": [
        {
          "output_type": "stream",
          "text": [
            "{0: 'foo', 3: 'bar'}\n"
          ],
          "name": "stdout"
        }
      ]
    },
    {
      "cell_type": "code",
      "metadata": {
        "id": "aburiaNZru4K",
        "colab_type": "code",
        "outputId": "8d147f18-4360-424c-cb92-a8df310de481",
        "colab": {
          "base_uri": "https://localhost:8080/",
          "height": 255
        }
      },
      "source": [
        "# create dict of ids as keys and squares as items\n",
        "id_dict = {}\n",
        "for i in range(10):\n",
        "    id_dict[i] = i**2\n",
        "    print(id_dict[i])\n",
        "\n",
        "print(\"id_dict keys:\")\n",
        "print(list(id_dict.keys()))\n",
        "print(\"id_dict items:\")\n",
        "print(id_dict)"
      ],
      "execution_count": 0,
      "outputs": [
        {
          "output_type": "stream",
          "text": [
            "0\n",
            "1\n",
            "4\n",
            "9\n",
            "16\n",
            "25\n",
            "36\n",
            "49\n",
            "64\n",
            "81\n",
            "id_dict keys:\n",
            "[0, 1, 2, 3, 4, 5, 6, 7, 8, 9]\n",
            "id_dict items:\n",
            "{0: 0, 1: 1, 2: 4, 3: 9, 4: 16, 5: 25, 6: 36, 7: 49, 8: 64, 9: 81}\n"
          ],
          "name": "stdout"
        }
      ]
    },
    {
      "cell_type": "code",
      "metadata": {
        "id": "MvW_ZwyXru4R",
        "colab_type": "code",
        "outputId": "7330f093-9016-4407-ac84-0c6b2e73dae6",
        "colab": {
          "base_uri": "https://localhost:8080/",
          "height": 51
        }
      },
      "source": [
        "# assign segment codes to id_dict\n",
        "id_dict_seg ={}\n",
        "for i in list(id_dict.keys()):\n",
        "    if id_dict[i] % 2 > 0:\n",
        "        id_dict_seg[i] = 'Odd'\n",
        "    elif id_dict[i] % 2 == 0:\n",
        "        id_dict_seg[i] = 'Even'\n",
        "    else:\n",
        "        print(\"Error\")\n",
        "        \n",
        "print(\"Odd/Even segment codes:\")\n",
        "print(id_dict_seg)"
      ],
      "execution_count": 0,
      "outputs": [
        {
          "output_type": "stream",
          "text": [
            "Odd/Even segment codes:\n",
            "{0: 'Even', 1: 'Odd', 2: 'Even', 3: 'Odd', 4: 'Even', 5: 'Odd', 6: 'Even', 7: 'Odd', 8: 'Even', 9: 'Odd'}\n"
          ],
          "name": "stdout"
        }
      ]
    },
    {
      "cell_type": "code",
      "metadata": {
        "id": "ncpUv4Flru4d",
        "colab_type": "code",
        "outputId": "3cf4b17e-751d-4394-9caf-a384717aa64f",
        "colab": {
          "base_uri": "https://localhost:8080/",
          "height": 102
        }
      },
      "source": [
        "''' STACK OVERFLOW EX.\n",
        "mydict = {'george':16,'amber':19}\n",
        "print(list(mydict.keys())[list(mydict.values()).index(16)]) # Prints george\n",
        "\n",
        "for name, age in dictionary.items():    # for name, age in dictionary.iteritems():  (for Python 2.x)\n",
        "    if age == search_age:\n",
        "        print(name)\n",
        "'''\n",
        "\n",
        "# examine the 'Even' segment in dict\n",
        "for id, seg in id_dict_seg.items():\n",
        "    if seg == 'Even':\n",
        "        print(id, seg)"
      ],
      "execution_count": 0,
      "outputs": [
        {
          "output_type": "stream",
          "text": [
            "0 Even\n",
            "2 Even\n",
            "4 Even\n",
            "6 Even\n",
            "8 Even\n"
          ],
          "name": "stdout"
        }
      ]
    },
    {
      "cell_type": "markdown",
      "metadata": {
        "id": "nDunSEEaru4v",
        "colab_type": "text"
      },
      "source": [
        "### Booleans (type: bool) - evaluate to True/False"
      ]
    },
    {
      "cell_type": "code",
      "metadata": {
        "id": "o1LzPkBmru43",
        "colab_type": "code",
        "outputId": "f4d8fdf7-64ce-469e-d94d-6b358e933782",
        "colab": {
          "base_uri": "https://localhost:8080/",
          "height": 34
        }
      },
      "source": [
        "# bool operator (==) used to test conditions\n",
        "0 == 1  # False"
      ],
      "execution_count": 0,
      "outputs": [
        {
          "output_type": "execute_result",
          "data": {
            "text/plain": [
              "False"
            ]
          },
          "metadata": {
            "tags": []
          },
          "execution_count": 45
        }
      ]
    },
    {
      "cell_type": "code",
      "metadata": {
        "id": "PX34-OBYru5P",
        "colab_type": "code",
        "outputId": "3ad1721d-781c-4ca7-a851-9cfc9e71fc2e",
        "colab": {
          "base_uri": "https://localhost:8080/",
          "height": 102
        }
      },
      "source": [
        "# in if/elif/else in loops\n",
        "for x in range(5):\n",
        "  if x < 3:\n",
        "    print('x is less than 3: x =', x)\n",
        "  elif x == 3:\n",
        "    print('x is equal to 3: x =', x)\n",
        "  else:\n",
        "    print('x is greater than to 3: x =', x)\n",
        "\n"
      ],
      "execution_count": 0,
      "outputs": [
        {
          "output_type": "stream",
          "text": [
            "x is less than 3: x = 0\n",
            "x is less than 3: x = 1\n",
            "x is less than 3: x = 2\n",
            "x is equal to 3: x = 3\n",
            "x is greater than to 3: x = 4\n"
          ],
          "name": "stdout"
        }
      ]
    },
    {
      "cell_type": "markdown",
      "metadata": {
        "id": "8yJcnpz5ru5W",
        "colab_type": "text"
      },
      "source": [
        "### Tuples - (item1, item2, ...) - like lists but enclosed in parentheses ()\n",
        "\n",
        "Items in tuple are **immutable**. This makes then good for: \n",
        "- keys in dicts\n",
        "- multiple assignment of variables, e.g. X,y = train_test_split(xdata,ydata)\n",
        "\n",
        "**Challenge question**: Why would it be bad if X, y were **NOT** immutable in the example above?"
      ]
    },
    {
      "cell_type": "code",
      "metadata": {
        "id": "t1jAdQokru5Y",
        "colab_type": "code",
        "colab": {}
      },
      "source": [
        "t = (1,2,3)"
      ],
      "execution_count": 0,
      "outputs": []
    },
    {
      "cell_type": "code",
      "metadata": {
        "id": "gOh7yBCcru5f",
        "colab_type": "code",
        "outputId": "c7fac090-72f0-49e7-e21b-439491898858",
        "colab": {
          "base_uri": "https://localhost:8080/",
          "height": 34
        }
      },
      "source": [
        "t[0]"
      ],
      "execution_count": 0,
      "outputs": [
        {
          "output_type": "execute_result",
          "data": {
            "text/plain": [
              "1"
            ]
          },
          "metadata": {
            "tags": []
          },
          "execution_count": 43
        }
      ]
    },
    {
      "cell_type": "code",
      "metadata": {
        "id": "FgJXeBdNru5o",
        "colab_type": "code",
        "outputId": "7a828f0a-0284-47cc-8b61-41a93a5a4f1a",
        "colab": {
          "base_uri": "https://localhost:8080/",
          "height": 164
        }
      },
      "source": [
        "# tuples are imutable - should produce an error \n",
        "t[0] = 'NEW'"
      ],
      "execution_count": 0,
      "outputs": [
        {
          "output_type": "error",
          "ename": "TypeError",
          "evalue": "ignored",
          "traceback": [
            "\u001b[0;31m---------------------------------------------------------------------------\u001b[0m",
            "\u001b[0;31mTypeError\u001b[0m                                 Traceback (most recent call last)",
            "\u001b[0;32m<ipython-input-44-93bfe9be1549>\u001b[0m in \u001b[0;36m<module>\u001b[0;34m()\u001b[0m\n\u001b[0;32m----> 1\u001b[0;31m \u001b[0mt\u001b[0m\u001b[0;34m[\u001b[0m\u001b[0;36m0\u001b[0m\u001b[0;34m]\u001b[0m \u001b[0;34m=\u001b[0m \u001b[0;34m'NEW'\u001b[0m\u001b[0;34m\u001b[0m\u001b[0;34m\u001b[0m\u001b[0m\n\u001b[0m",
            "\u001b[0;31mTypeError\u001b[0m: 'tuple' object does not support item assignment"
          ]
        }
      ]
    },
    {
      "cell_type": "code",
      "metadata": {
        "id": "CWp4DcGzru5x",
        "colab_type": "code",
        "outputId": "6220ff2b-dc66-4041-f805-ff487922f445",
        "colab": {
          "base_uri": "https://localhost:8080/",
          "height": 317
        }
      },
      "source": [
        "# simple example\n",
        "x = ('a','b','c')\n",
        "\n",
        "# list like operations\n",
        "print(x[2])\n",
        "print(x[1:])\n",
        "print(len(x))\n",
        "print(max(x))\n",
        "print(min(x))\n",
        "print(5 in x)\n",
        "print(5 not in x)\n",
        "\n",
        "# opps - x is tuple not list\n",
        "x[2] = 'd'  # should produce an error"
      ],
      "execution_count": 0,
      "outputs": [
        {
          "output_type": "stream",
          "text": [
            "c\n",
            "('b', 'c')\n",
            "3\n",
            "c\n",
            "a\n",
            "False\n",
            "True\n"
          ],
          "name": "stdout"
        },
        {
          "output_type": "error",
          "ename": "TypeError",
          "evalue": "ignored",
          "traceback": [
            "\u001b[0;31m---------------------------------------------------------------------------\u001b[0m",
            "\u001b[0;31mTypeError\u001b[0m                                 Traceback (most recent call last)",
            "\u001b[0;32m<ipython-input-55-61ba212ba55a>\u001b[0m in \u001b[0;36m<module>\u001b[0;34m()\u001b[0m\n\u001b[1;32m     11\u001b[0m \u001b[0;34m\u001b[0m\u001b[0m\n\u001b[1;32m     12\u001b[0m \u001b[0;31m# opps - x is tuple not list\u001b[0m\u001b[0;34m\u001b[0m\u001b[0;34m\u001b[0m\u001b[0;34m\u001b[0m\u001b[0m\n\u001b[0;32m---> 13\u001b[0;31m \u001b[0mx\u001b[0m\u001b[0;34m[\u001b[0m\u001b[0;36m2\u001b[0m\u001b[0;34m]\u001b[0m \u001b[0;34m=\u001b[0m \u001b[0;34m'd'\u001b[0m\u001b[0;34m\u001b[0m\u001b[0;34m\u001b[0m\u001b[0m\n\u001b[0m",
            "\u001b[0;31mTypeError\u001b[0m: 'tuple' object does not support item assignment"
          ]
        }
      ]
    },
    {
      "cell_type": "code",
      "metadata": {
        "id": "tE6xJ_BKru55",
        "colab_type": "code",
        "outputId": "19de6ba7-ffb4-4b49-c948-890d5ae0b989",
        "colab": {
          "base_uri": "https://localhost:8080/",
          "height": 51
        }
      },
      "source": [
        "# create new tuples from existing tuples using +, * operators\n",
        "print(x+x)\n",
        "print(2*x)"
      ],
      "execution_count": 0,
      "outputs": [
        {
          "output_type": "stream",
          "text": [
            "('a', 'b', 'c', 'a', 'b', 'c')\n",
            "('a', 'b', 'c', 'a', 'b', 'c')\n"
          ],
          "name": "stdout"
        }
      ]
    },
    {
      "cell_type": "code",
      "metadata": {
        "id": "m2JtM735ru6H",
        "colab_type": "code",
        "outputId": "1593b6d4-7cef-4dc2-de7e-b9f2e0a25841",
        "colab": {
          "base_uri": "https://localhost:8080/",
          "height": 51
        }
      },
      "source": [
        "# need , for one element tuple so python knows that parentheses indicate a tuple\n",
        "y = 3\n",
        "z = 4\n",
        "# add y + z then multiply by 2\n",
        "print((y+z)*2)\n",
        "# create tuple from y + z\n",
        "print((y+z),)"
      ],
      "execution_count": 0,
      "outputs": [
        {
          "output_type": "stream",
          "text": [
            "14\n",
            "7\n"
          ],
          "name": "stdout"
        }
      ]
    },
    {
      "cell_type": "code",
      "metadata": {
        "id": "9a6w8Iusru6N",
        "colab_type": "code",
        "outputId": "51fd101a-9a3c-4515-87f2-78ae4f783a25",
        "colab": {
          "base_uri": "https://localhost:8080/",
          "height": 68
        }
      },
      "source": [
        "# packing & unpacking tuples - tuple on L side assigned to values on R side (SAVES MANY LINES OF CODE!)\n",
        "(one, two, three, four) = (1, 2, 3, 4)\n",
        "print(one)\n",
        "print(four)\n",
        "\n",
        "# don't need () for assignment\n",
        "one, two, three, four = 1, 2, 3, 4\n",
        "print(three)"
      ],
      "execution_count": 0,
      "outputs": [
        {
          "output_type": "stream",
          "text": [
            "1\n",
            "4\n",
            "3\n"
          ],
          "name": "stdout"
        }
      ]
    },
    {
      "cell_type": "code",
      "metadata": {
        "id": "Dc_R2r_zru6T",
        "colab_type": "code",
        "outputId": "6c7d0926-5682-4947-fe7a-a02632c42f3a",
        "colab": {
          "base_uri": "https://localhost:8080/",
          "height": 102
        }
      },
      "source": [
        "# tuple element with * can hold multiple values not matched in packing/unpacking\n",
        "one, two, *three = 1, 2, 3, 4\n",
        "print(three)\n",
        "\n",
        "one, *two, three = 1, 2, 3, 4\n",
        "print(one)\n",
        "print(two)\n",
        "print(three)\n",
        "\n",
        "one, two, three, four, *five = 1, 2, 3, 4\n",
        "print(five)"
      ],
      "execution_count": 0,
      "outputs": [
        {
          "output_type": "stream",
          "text": [
            "[3, 4]\n",
            "1\n",
            "[2, 3]\n",
            "4\n",
            "[]\n"
          ],
          "name": "stdout"
        }
      ]
    },
    {
      "cell_type": "code",
      "metadata": {
        "id": "bnzQ4pDhru6f",
        "colab_type": "code",
        "outputId": "21cbb939-e94e-49cb-e84f-6ae120819772",
        "colab": {
          "base_uri": "https://localhost:8080/",
          "height": 51
        }
      },
      "source": [
        "# easy to convert between tuples and lists using list() and tuple() methods\n",
        "print(list((1,2,3,4)))\n",
        "print(tuple([1,2,3,4]))"
      ],
      "execution_count": 0,
      "outputs": [
        {
          "output_type": "stream",
          "text": [
            "[1, 2, 3, 4]\n",
            "(1, 2, 3, 4)\n"
          ],
          "name": "stdout"
        }
      ]
    },
    {
      "cell_type": "code",
      "metadata": {
        "id": "iZaqm2rmru6n",
        "colab_type": "code",
        "outputId": "cc52fcb9-c0e5-47d3-d8bd-d0f1ce419d82",
        "colab": {
          "base_uri": "https://localhost:8080/",
          "height": 34
        }
      },
      "source": [
        "# BONUS: can use list() method to break string into individual characters inside a list\n",
        "list(\"awesome!\")"
      ],
      "execution_count": 0,
      "outputs": [
        {
          "output_type": "execute_result",
          "data": {
            "text/plain": [
              "['a', 'w', 'e', 's', 'o', 'm', 'e', '!']"
            ]
          },
          "metadata": {
            "tags": []
          },
          "execution_count": 63
        }
      ]
    },
    {
      "cell_type": "markdown",
      "metadata": {
        "id": "nkt9hV5xru6z",
        "colab_type": "text"
      },
      "source": [
        "### Sets - {item1, item2, ...} - **items** must be [immutable and hashable](https://stackoverflow.com/questions/2671376/hashable-immutable)\n",
        "- **ints**, **floats**, **strings** and **tuples** can be members of a set\n",
        "- **lists**, **dictionaries** and **sets** can **NOT** be members of a set\n",
        "\n",
        "**Challenge questions**: \n",
        "1. Why can't **lists**, **dictionaries** and **sets** be members in a set?\n",
        "2. Is a **set** itself **immutable** and **hashable**? (*hint: see examples below*)\n",
        "\n"
      ]
    },
    {
      "cell_type": "code",
      "metadata": {
        "id": "T8BKglXmru61",
        "colab_type": "code",
        "outputId": "6603f410-d6e2-4187-9eff-bb34a2f06ba6",
        "colab": {
          "base_uri": "https://localhost:8080/",
          "height": 34
        }
      },
      "source": [
        "s = {1,2,3}\n",
        "s"
      ],
      "execution_count": 0,
      "outputs": [
        {
          "output_type": "execute_result",
          "data": {
            "text/plain": [
              "{1, 2, 3}"
            ]
          },
          "metadata": {
            "tags": []
          },
          "execution_count": 68
        }
      ]
    },
    {
      "cell_type": "code",
      "metadata": {
        "id": "IbIiNuJIru7F",
        "colab_type": "code",
        "outputId": "a29d4db2-1b60-4b76-953b-bc884e6004a9",
        "colab": {
          "base_uri": "https://localhost:8080/",
          "height": 170
        }
      },
      "source": [
        "s = {1,2,3,1,2,1,2,3,3,3,3,2,2,2,1,1,2}\n",
        "print(s)\n",
        "\n",
        "# set operations\n",
        "s.add(4)\n",
        "print(s)\n",
        "\n",
        "s.remove(2)\n",
        "print(s)\n",
        "\n",
        "# check membership\n",
        "print(1 in s)\n",
        "print(2 in s)\n",
        "\n",
        "# operations with multiple sets\n",
        "ss = {4, 5, 6, 7}\n",
        "print(ss)\n",
        "\n",
        "# | set OR\n",
        "print(s | ss)\n",
        "\n",
        "# & set AND\n",
        "print(s & ss)\n",
        "\n",
        "# ^ set XOR - Exclusive OR == in A OR B AND NOT (A AND B)\n",
        "print(s ^ ss)"
      ],
      "execution_count": 0,
      "outputs": [
        {
          "output_type": "stream",
          "text": [
            "{1, 2, 3}\n",
            "{1, 2, 3, 4}\n",
            "{1, 3, 4}\n",
            "True\n",
            "False\n",
            "{4, 5, 6, 7}\n",
            "{1, 3, 4, 5, 6, 7}\n",
            "{4}\n",
            "{1, 3, 5, 6, 7}\n"
          ],
          "name": "stdout"
        }
      ]
    },
    {
      "cell_type": "markdown",
      "metadata": {
        "id": "q9OexKBUFHY2",
        "colab_type": "text"
      },
      "source": [
        "### Frozensets - How to include a set as a member of another set\n",
        "- Can **NOT** be changed after it is created, i. e. **immutable** and **hashable**\n",
        "- Therefore, **can** be a member of another set"
      ]
    },
    {
      "cell_type": "code",
      "metadata": {
        "id": "WLqn3TS-ru7U",
        "colab_type": "code",
        "outputId": "7bbabaa2-65fd-43f1-e321-91ce67891929",
        "colab": {
          "base_uri": "https://localhost:8080/",
          "height": 266
        }
      },
      "source": [
        "# frozenset - can't be members of other sets\n",
        "sss = s ^ ss\n",
        "print(sss)\n",
        "\n",
        "fsss = frozenset(sss)\n",
        "print(fsss)\n",
        "\n",
        "# YUP\n",
        "sss.add(8)\n",
        "print(sss)\n",
        "\n",
        "sss.add(fsss)\n",
        "print(sss)\n",
        "\n",
        "# NOPE\n",
        "fsss.add(8)  # should generate error since immutable"
      ],
      "execution_count": 0,
      "outputs": [
        {
          "output_type": "stream",
          "text": [
            "{1, 3, 5, 6, 7}\n",
            "frozenset({1, 3, 5, 6, 7})\n",
            "{1, 3, 5, 6, 7, 8}\n",
            "{1, 3, 5, 6, 7, 8, frozenset({1, 3, 5, 6, 7})}\n"
          ],
          "name": "stdout"
        },
        {
          "output_type": "error",
          "ename": "AttributeError",
          "evalue": "ignored",
          "traceback": [
            "\u001b[0;31m---------------------------------------------------------------------------\u001b[0m",
            "\u001b[0;31mAttributeError\u001b[0m                            Traceback (most recent call last)",
            "\u001b[0;32m<ipython-input-72-4d762bdd7caa>\u001b[0m in \u001b[0;36m<module>\u001b[0;34m()\u001b[0m\n\u001b[1;32m     13\u001b[0m \u001b[0;34m\u001b[0m\u001b[0m\n\u001b[1;32m     14\u001b[0m \u001b[0;31m# NOPE\u001b[0m\u001b[0;34m\u001b[0m\u001b[0;34m\u001b[0m\u001b[0;34m\u001b[0m\u001b[0m\n\u001b[0;32m---> 15\u001b[0;31m \u001b[0mfsss\u001b[0m\u001b[0;34m.\u001b[0m\u001b[0madd\u001b[0m\u001b[0;34m(\u001b[0m\u001b[0;36m8\u001b[0m\u001b[0;34m)\u001b[0m  \u001b[0;31m# should generate error since immutable\u001b[0m\u001b[0;34m\u001b[0m\u001b[0;34m\u001b[0m\u001b[0m\n\u001b[0m",
            "\u001b[0;31mAttributeError\u001b[0m: 'frozenset' object has no attribute 'add'"
          ]
        }
      ]
    },
    {
      "cell_type": "markdown",
      "metadata": {
        "id": "aIWy-btAru7b",
        "colab_type": "text"
      },
      "source": [
        "## Comparison Operators - <, <=, ==, >, >=, !=\n",
        "\n",
        "**Challenge question**: What is the difference between **==** and **=** ?"
      ]
    },
    {
      "cell_type": "code",
      "metadata": {
        "id": "NEf7xR7Sru7e",
        "colab_type": "code",
        "outputId": "001e9470-de6a-4a8f-f90f-321695519c80",
        "colab": {}
      },
      "source": [
        "1 > 2"
      ],
      "execution_count": 0,
      "outputs": [
        {
          "output_type": "execute_result",
          "data": {
            "text/plain": [
              "False"
            ]
          },
          "metadata": {
            "tags": []
          },
          "execution_count": 51
        }
      ]
    },
    {
      "cell_type": "code",
      "metadata": {
        "id": "mpzysvYkru7n",
        "colab_type": "code",
        "outputId": "d0f43724-c895-4a58-dfc5-8a9df0045444",
        "colab": {}
      },
      "source": [
        "1 < 2"
      ],
      "execution_count": 0,
      "outputs": [
        {
          "output_type": "execute_result",
          "data": {
            "text/plain": [
              "True"
            ]
          },
          "metadata": {
            "tags": []
          },
          "execution_count": 52
        }
      ]
    },
    {
      "cell_type": "code",
      "metadata": {
        "id": "GIoYQucnru7v",
        "colab_type": "code",
        "outputId": "dae52449-3f0b-4b3c-d1af-dcb8406785a1",
        "colab": {}
      },
      "source": [
        "1 >= 1"
      ],
      "execution_count": 0,
      "outputs": [
        {
          "output_type": "execute_result",
          "data": {
            "text/plain": [
              "True"
            ]
          },
          "metadata": {
            "tags": []
          },
          "execution_count": 53
        }
      ]
    },
    {
      "cell_type": "code",
      "metadata": {
        "id": "-Y5ZHVabru78",
        "colab_type": "code",
        "outputId": "9d221525-0f36-4987-a8fd-b379722d4b13",
        "colab": {}
      },
      "source": [
        "1 <= 4"
      ],
      "execution_count": 0,
      "outputs": [
        {
          "output_type": "execute_result",
          "data": {
            "text/plain": [
              "True"
            ]
          },
          "metadata": {
            "tags": []
          },
          "execution_count": 54
        }
      ]
    },
    {
      "cell_type": "code",
      "metadata": {
        "id": "MbD6bY8zru8D",
        "colab_type": "code",
        "outputId": "224c4b6a-9a48-4e15-ef52-ec7e722bfaad",
        "colab": {}
      },
      "source": [
        "1 == 1"
      ],
      "execution_count": 0,
      "outputs": [
        {
          "output_type": "execute_result",
          "data": {
            "text/plain": [
              "True"
            ]
          },
          "metadata": {
            "tags": []
          },
          "execution_count": 55
        }
      ]
    },
    {
      "cell_type": "code",
      "metadata": {
        "id": "g1hNF7o8ru8M",
        "colab_type": "code",
        "outputId": "27bc0793-dbac-4504-d434-756fb12a93f0",
        "colab": {}
      },
      "source": [
        "'hi' == 'bye'"
      ],
      "execution_count": 0,
      "outputs": [
        {
          "output_type": "execute_result",
          "data": {
            "text/plain": [
              "False"
            ]
          },
          "metadata": {
            "tags": []
          },
          "execution_count": 56
        }
      ]
    },
    {
      "cell_type": "markdown",
      "metadata": {
        "id": "c85-ea7Jru8U",
        "colab_type": "text"
      },
      "source": [
        "## Logic Operators - T & F = F, T & T = T, F & F = T"
      ]
    },
    {
      "cell_type": "code",
      "metadata": {
        "id": "nK936Yh8ru8k",
        "colab_type": "code",
        "outputId": "f322309c-7bdf-461d-d4a8-cfa3c94e5356",
        "colab": {}
      },
      "source": [
        "# False & True is False\n",
        "(1 > 2) and (2 < 3)"
      ],
      "execution_count": 0,
      "outputs": [
        {
          "output_type": "execute_result",
          "data": {
            "text/plain": [
              "False"
            ]
          },
          "metadata": {
            "tags": []
          },
          "execution_count": 57
        }
      ]
    },
    {
      "cell_type": "code",
      "metadata": {
        "id": "8kSJaq_0ru8s",
        "colab_type": "code",
        "outputId": "79c3722d-e930-4231-f528-f3c25a6ca6cc",
        "colab": {}
      },
      "source": [
        "# False | True is True\n",
        "(1 > 2) or (2 < 3)"
      ],
      "execution_count": 0,
      "outputs": [
        {
          "output_type": "execute_result",
          "data": {
            "text/plain": [
              "True"
            ]
          },
          "metadata": {
            "tags": []
          },
          "execution_count": 54
        }
      ]
    },
    {
      "cell_type": "code",
      "metadata": {
        "id": "sAWm9rTUru8z",
        "colab_type": "code",
        "outputId": "978f0644-3810-4f1f-f9c7-b845c797428c",
        "colab": {}
      },
      "source": [
        "# False | False is False\n",
        "(1 > 2) or (2 > 3)"
      ],
      "execution_count": 0,
      "outputs": [
        {
          "output_type": "execute_result",
          "data": {
            "text/plain": [
              "False"
            ]
          },
          "metadata": {
            "tags": []
          },
          "execution_count": 58
        }
      ]
    },
    {
      "cell_type": "code",
      "metadata": {
        "id": "FATEdIurru9C",
        "colab_type": "code",
        "outputId": "2086cbf4-495c-48e1-b4f2-9f68234b3922",
        "colab": {}
      },
      "source": [
        "# False | False | True is True\n",
        "(1 == 2) or (2 == 3) or (4 == 4)"
      ],
      "execution_count": 0,
      "outputs": [
        {
          "output_type": "execute_result",
          "data": {
            "text/plain": [
              "True"
            ]
          },
          "metadata": {
            "tags": []
          },
          "execution_count": 59
        }
      ]
    },
    {
      "cell_type": "markdown",
      "metadata": {
        "id": "euDKaDFHru9L",
        "colab_type": "text"
      },
      "source": [
        "## if,elif, else Statements - elseif is elif in python"
      ]
    },
    {
      "cell_type": "code",
      "metadata": {
        "id": "YlODOtAIru9O",
        "colab_type": "code",
        "outputId": "6dab14cd-d0ef-45b3-ba77-dc9c363a68e6",
        "colab": {
          "base_uri": "https://localhost:8080/",
          "height": 34
        }
      },
      "source": [
        "if 1 < 2:\n",
        "    print('Yep!')"
      ],
      "execution_count": 0,
      "outputs": [
        {
          "output_type": "stream",
          "text": [
            "Yep!\n"
          ],
          "name": "stdout"
        }
      ]
    },
    {
      "cell_type": "code",
      "metadata": {
        "id": "bsE9G-qKru9W",
        "colab_type": "code",
        "outputId": "c20c8823-6861-4ef4-d700-fd4b67a3a7e3",
        "colab": {
          "base_uri": "https://localhost:8080/",
          "height": 34
        }
      },
      "source": [
        "if 1 < 2:\n",
        "    print('yep!')"
      ],
      "execution_count": 0,
      "outputs": [
        {
          "output_type": "stream",
          "text": [
            "yep!\n"
          ],
          "name": "stdout"
        }
      ]
    },
    {
      "cell_type": "code",
      "metadata": {
        "id": "uqntPdfYru9e",
        "colab_type": "code",
        "outputId": "ff46bf61-2f75-4992-caaa-dfa9b70ff52d",
        "colab": {
          "base_uri": "https://localhost:8080/",
          "height": 34
        }
      },
      "source": [
        "if 1 < 2:\n",
        "    print('first')\n",
        "else:\n",
        "    print('last')"
      ],
      "execution_count": 0,
      "outputs": [
        {
          "output_type": "stream",
          "text": [
            "first\n"
          ],
          "name": "stdout"
        }
      ]
    },
    {
      "cell_type": "code",
      "metadata": {
        "id": "pPap_W-Jru9l",
        "colab_type": "code",
        "outputId": "33141f7a-d76d-4da5-e682-a905bfee3223",
        "colab": {
          "base_uri": "https://localhost:8080/",
          "height": 34
        }
      },
      "source": [
        "if 1 > 2:\n",
        "    print('first')\n",
        "else:\n",
        "    print('last')"
      ],
      "execution_count": 0,
      "outputs": [
        {
          "output_type": "stream",
          "text": [
            "last\n"
          ],
          "name": "stdout"
        }
      ]
    },
    {
      "cell_type": "code",
      "metadata": {
        "id": "VWtPlK2hru9q",
        "colab_type": "code",
        "outputId": "6a06d3b6-9f60-4b9f-8125-2b9915e3d366",
        "colab": {
          "base_uri": "https://localhost:8080/",
          "height": 34
        }
      },
      "source": [
        "if 1 == 2:\n",
        "    print('first')\n",
        "elif 3 == 3:\n",
        "    print('middle')\n",
        "else:\n",
        "    print('Last')"
      ],
      "execution_count": 0,
      "outputs": [
        {
          "output_type": "stream",
          "text": [
            "middle\n"
          ],
          "name": "stdout"
        }
      ]
    },
    {
      "cell_type": "markdown",
      "metadata": {
        "id": "6kluJ1KIru9x",
        "colab_type": "text"
      },
      "source": [
        "## for Loops"
      ]
    },
    {
      "cell_type": "code",
      "metadata": {
        "id": "HADY-Wzjru9z",
        "colab_type": "code",
        "outputId": "89673c6e-6029-415c-eb2d-9ec4bfe172c8",
        "colab": {
          "base_uri": "https://localhost:8080/",
          "height": 170
        }
      },
      "source": [
        "# over items in list\n",
        "seq = [1,2,3,4,5,4,3,2,1]\n",
        "for item in seq:\n",
        "    print(item)\n",
        "    "
      ],
      "execution_count": 0,
      "outputs": [
        {
          "output_type": "stream",
          "text": [
            "1\n",
            "2\n",
            "3\n",
            "4\n",
            "5\n",
            "4\n",
            "3\n",
            "2\n",
            "1\n"
          ],
          "name": "stdout"
        }
      ]
    },
    {
      "cell_type": "code",
      "metadata": {
        "id": "0FOKkEmuru-F",
        "colab_type": "code",
        "outputId": "4bf64297-ccac-4acf-b1cf-2a27905736e0",
        "colab": {
          "base_uri": "https://localhost:8080/",
          "height": 119
        }
      },
      "source": [
        "# over items in set\n",
        "seq_set = set(seq)\n",
        "print(seq_set)\n",
        "\n",
        "for item in seq_set:\n",
        "    print(item)"
      ],
      "execution_count": 0,
      "outputs": [
        {
          "output_type": "stream",
          "text": [
            "{1, 2, 3, 4, 5}\n",
            "1\n",
            "2\n",
            "3\n",
            "4\n",
            "5\n"
          ],
          "name": "stdout"
        }
      ]
    },
    {
      "cell_type": "code",
      "metadata": {
        "id": "mdV202Mtru-a",
        "colab_type": "code",
        "outputId": "de5cc8cb-610f-4320-cec2-3555d99b5f0a",
        "colab": {
          "base_uri": "https://localhost:8080/",
          "height": 170
        }
      },
      "source": [
        "for jelly in seq:  # can use almost anything to represent iterator element\n",
        "    print(jelly+jelly)"
      ],
      "execution_count": 0,
      "outputs": [
        {
          "output_type": "stream",
          "text": [
            "2\n",
            "4\n",
            "6\n",
            "8\n",
            "10\n",
            "8\n",
            "6\n",
            "4\n",
            "2\n"
          ],
          "name": "stdout"
        }
      ]
    },
    {
      "cell_type": "markdown",
      "metadata": {
        "id": "ebvFl1Furu-h",
        "colab_type": "text"
      },
      "source": [
        "## while Loops - python index starts with 0 (not 1)"
      ]
    },
    {
      "cell_type": "code",
      "metadata": {
        "id": "SYNlUUYcru-j",
        "colab_type": "code",
        "outputId": "858f93be-0801-49d8-d5b8-8ca43f5e821e",
        "colab": {
          "base_uri": "https://localhost:8080/",
          "height": 85
        }
      },
      "source": [
        "i = 1\n",
        "while i < 5:\n",
        "    print('i is: {}'.format(i))\n",
        "    i = i+1"
      ],
      "execution_count": 0,
      "outputs": [
        {
          "output_type": "stream",
          "text": [
            "i is: 1\n",
            "i is: 2\n",
            "i is: 3\n",
            "i is: 4\n"
          ],
          "name": "stdout"
        }
      ]
    },
    {
      "cell_type": "markdown",
      "metadata": {
        "id": "I7RWvLi_ru-z",
        "colab_type": "text"
      },
      "source": [
        "## range(start, length, increment)"
      ]
    },
    {
      "cell_type": "code",
      "metadata": {
        "id": "1lSVtZ-uru-1",
        "colab_type": "code",
        "outputId": "bb9e4dfe-d197-4929-bc18-b1e2d4de9bfa",
        "colab": {
          "base_uri": "https://localhost:8080/",
          "height": 34
        }
      },
      "source": [
        "range(5)"
      ],
      "execution_count": 0,
      "outputs": [
        {
          "output_type": "execute_result",
          "data": {
            "text/plain": [
              "range(0, 5)"
            ]
          },
          "metadata": {
            "tags": []
          },
          "execution_count": 87
        }
      ]
    },
    {
      "cell_type": "code",
      "metadata": {
        "id": "gz0g-YILru-6",
        "colab_type": "code",
        "outputId": "de4c135f-b7b9-44b5-cbc8-afb4feec3b98",
        "colab": {
          "base_uri": "https://localhost:8080/",
          "height": 34
        }
      },
      "source": [
        "range(2,5)"
      ],
      "execution_count": 0,
      "outputs": [
        {
          "output_type": "execute_result",
          "data": {
            "text/plain": [
              "range(2, 5)"
            ]
          },
          "metadata": {
            "tags": []
          },
          "execution_count": 88
        }
      ]
    },
    {
      "cell_type": "code",
      "metadata": {
        "id": "3tgdE5uTru_D",
        "colab_type": "code",
        "outputId": "b0706fdf-099c-4f3c-8174-ebd9ac8f6ab7",
        "colab": {
          "base_uri": "https://localhost:8080/",
          "height": 102
        }
      },
      "source": [
        "for i in range(5):\n",
        "    print(i)"
      ],
      "execution_count": 0,
      "outputs": [
        {
          "output_type": "stream",
          "text": [
            "0\n",
            "1\n",
            "2\n",
            "3\n",
            "4\n"
          ],
          "name": "stdout"
        }
      ]
    },
    {
      "cell_type": "code",
      "metadata": {
        "id": "usM7GjRQru_I",
        "colab_type": "code",
        "outputId": "598007f3-c511-48b2-ec99-482bddce2bc5",
        "colab": {
          "base_uri": "https://localhost:8080/",
          "height": 68
        }
      },
      "source": [
        "for i in range(2,5):\n",
        "    print(i)"
      ],
      "execution_count": 0,
      "outputs": [
        {
          "output_type": "stream",
          "text": [
            "2\n",
            "3\n",
            "4\n"
          ],
          "name": "stdout"
        }
      ]
    },
    {
      "cell_type": "code",
      "metadata": {
        "id": "yXx6-Z6Oru_T",
        "colab_type": "code",
        "outputId": "a86851c1-5061-4925-ae71-1f20697fa6e3",
        "colab": {
          "base_uri": "https://localhost:8080/",
          "height": 51
        }
      },
      "source": [
        "for i in range(2,5,2):\n",
        "    print(i)"
      ],
      "execution_count": 0,
      "outputs": [
        {
          "output_type": "stream",
          "text": [
            "2\n",
            "4\n"
          ],
          "name": "stdout"
        }
      ]
    },
    {
      "cell_type": "code",
      "metadata": {
        "id": "ZGHAb2rbru_f",
        "colab_type": "code",
        "outputId": "a01cf5ac-f3c6-489b-ace2-6b80040c6a17",
        "colab": {
          "base_uri": "https://localhost:8080/",
          "height": 68
        }
      },
      "source": [
        "for i in range(5,2,-1):\n",
        "    print(i)"
      ],
      "execution_count": 0,
      "outputs": [
        {
          "output_type": "stream",
          "text": [
            "5\n",
            "4\n",
            "3\n"
          ],
          "name": "stdout"
        }
      ]
    },
    {
      "cell_type": "code",
      "metadata": {
        "id": "y5qIxM2eru_l",
        "colab_type": "code",
        "outputId": "f16aceed-0860-4ef6-edf4-9a0ae2e2c14d",
        "colab": {
          "base_uri": "https://localhost:8080/",
          "height": 34
        }
      },
      "source": [
        "list(range(5))"
      ],
      "execution_count": 0,
      "outputs": [
        {
          "output_type": "execute_result",
          "data": {
            "text/plain": [
              "[0, 1, 2, 3, 4]"
            ]
          },
          "metadata": {
            "tags": []
          },
          "execution_count": 93
        }
      ]
    },
    {
      "cell_type": "code",
      "metadata": {
        "id": "AshEdueyru_q",
        "colab_type": "code",
        "outputId": "1fe17214-f8cc-4f61-9008-8f69a45b9ec8",
        "colab": {
          "base_uri": "https://localhost:8080/",
          "height": 34
        }
      },
      "source": [
        "list(range(2,5))"
      ],
      "execution_count": 0,
      "outputs": [
        {
          "output_type": "execute_result",
          "data": {
            "text/plain": [
              "[2, 3, 4]"
            ]
          },
          "metadata": {
            "tags": []
          },
          "execution_count": 95
        }
      ]
    },
    {
      "cell_type": "code",
      "metadata": {
        "id": "z6ZOxsHVru_w",
        "colab_type": "code",
        "outputId": "266f8d54-c1c8-4480-f129-3c03ba1427aa",
        "colab": {
          "base_uri": "https://localhost:8080/",
          "height": 34
        }
      },
      "source": [
        "list(range(2,5,2))"
      ],
      "execution_count": 0,
      "outputs": [
        {
          "output_type": "execute_result",
          "data": {
            "text/plain": [
              "[2, 4]"
            ]
          },
          "metadata": {
            "tags": []
          },
          "execution_count": 96
        }
      ]
    },
    {
      "cell_type": "code",
      "metadata": {
        "id": "B4M2M-1Bru_5",
        "colab_type": "code",
        "outputId": "2116571c-8b57-4518-c427-6507d8c04e99",
        "colab": {
          "base_uri": "https://localhost:8080/",
          "height": 34
        }
      },
      "source": [
        "list(range(5,2,-1))"
      ],
      "execution_count": 0,
      "outputs": [
        {
          "output_type": "execute_result",
          "data": {
            "text/plain": [
              "[5, 4, 3]"
            ]
          },
          "metadata": {
            "tags": []
          },
          "execution_count": 97
        }
      ]
    },
    {
      "cell_type": "markdown",
      "metadata": {
        "id": "B5HdN_x6rvAV",
        "colab_type": "text"
      },
      "source": [
        "## list comprehension - more efficient version of *for loop*"
      ]
    },
    {
      "cell_type": "code",
      "metadata": {
        "id": "DZguhpjmrvAX",
        "colab_type": "code",
        "colab": {
          "base_uri": "https://localhost:8080/",
          "height": 54
        },
        "outputId": "c56745f0-4108-4685-eef4-eb924b0b6a24"
      },
      "source": [
        "x = [*range(100)]\n",
        "print(x)"
      ],
      "execution_count": 100,
      "outputs": [
        {
          "output_type": "stream",
          "text": [
            "[0, 1, 2, 3, 4, 5, 6, 7, 8, 9, 10, 11, 12, 13, 14, 15, 16, 17, 18, 19, 20, 21, 22, 23, 24, 25, 26, 27, 28, 29, 30, 31, 32, 33, 34, 35, 36, 37, 38, 39, 40, 41, 42, 43, 44, 45, 46, 47, 48, 49, 50, 51, 52, 53, 54, 55, 56, 57, 58, 59, 60, 61, 62, 63, 64, 65, 66, 67, 68, 69, 70, 71, 72, 73, 74, 75, 76, 77, 78, 79, 80, 81, 82, 83, 84, 85, 86, 87, 88, 89, 90, 91, 92, 93, 94, 95, 96, 97, 98, 99]\n"
          ],
          "name": "stdout"
        }
      ]
    },
    {
      "cell_type": "code",
      "metadata": {
        "id": "4Ilq21hBVGrM",
        "colab_type": "code",
        "colab": {}
      },
      "source": [
        "%%timeit?"
      ],
      "execution_count": 0,
      "outputs": []
    },
    {
      "cell_type": "code",
      "metadata": {
        "id": "SPqTLI5XrvAd",
        "colab_type": "code",
        "outputId": "9381aa80-d33b-4ab1-d4b8-c809ef313bb6",
        "colab": {
          "base_uri": "https://localhost:8080/",
          "height": 34
        }
      },
      "source": [
        "%%timeit -n1000 -r 10  # for loop append method\n",
        "out = []\n",
        "for item in x:\n",
        "  if item % 2 == 0:\n",
        "    out.append((item, item**2))\n",
        "    \n",
        "\n",
        "#print(out)"
      ],
      "execution_count": 103,
      "outputs": [
        {
          "output_type": "stream",
          "text": [
            "1000 loops, best of 10: 19 µs per loop\n"
          ],
          "name": "stdout"
        }
      ]
    },
    {
      "cell_type": "code",
      "metadata": {
        "id": "Giodh0sGrvAh",
        "colab_type": "code",
        "outputId": "d5470490-34e8-474c-c794-2a903a922f85",
        "colab": {
          "base_uri": "https://localhost:8080/",
          "height": 34
        }
      },
      "source": [
        "%%timeit -n1000 -r 10  # list comprehension method\n",
        "[(item, item**2) for item in x if item % 2 == 0];"
      ],
      "execution_count": 104,
      "outputs": [
        {
          "output_type": "stream",
          "text": [
            "1000 loops, best of 10: 17.4 µs per loop\n"
          ],
          "name": "stdout"
        }
      ]
    },
    {
      "cell_type": "markdown",
      "metadata": {
        "id": "jZds31MxQJRo",
        "colab_type": "text"
      },
      "source": [
        "Result: list comprehension slightly better than for loop in simple example\n",
        "\n",
        "[see explanation of time output](https://serverfault.com/questions/48455/what-are-the-differences-between-wall-clock-time-user-time-and-cpu-time)"
      ]
    },
    {
      "cell_type": "markdown",
      "metadata": {
        "id": "Gl1PtnbwrvAn",
        "colab_type": "text"
      },
      "source": [
        "## functions - important concept in Python used in ML and AI"
      ]
    },
    {
      "cell_type": "code",
      "metadata": {
        "id": "3f15t_JJrvAp",
        "colab_type": "code",
        "colab": {}
      },
      "source": [
        "# step 1 - define function\n",
        "def my_func(param0, param1='default'):\n",
        "    \"\"\"\n",
        "    Docstring goes here.\n",
        "    \"\"\"\n",
        "    print(param0, param1)"
      ],
      "execution_count": 0,
      "outputs": []
    },
    {
      "cell_type": "code",
      "metadata": {
        "id": "b4gFdcuxrvAz",
        "colab_type": "code",
        "outputId": "c44cd88c-d58c-4137-844c-6c38961b5723",
        "colab": {
          "base_uri": "https://localhost:8080/",
          "height": 34
        }
      },
      "source": [
        "# step 2 - call function\n",
        "my_func(6)"
      ],
      "execution_count": 120,
      "outputs": [
        {
          "output_type": "stream",
          "text": [
            "6 default\n"
          ],
          "name": "stdout"
        }
      ]
    },
    {
      "cell_type": "code",
      "metadata": {
        "id": "LgQDLCT9rvA6",
        "colab_type": "code",
        "outputId": "ed18ad8d-d0a2-4bc1-e573-61897ab5b778",
        "colab": {
          "base_uri": "https://localhost:8080/",
          "height": 34
        }
      },
      "source": [
        "# step 3 - pass parameter to function either directly or to reference\n",
        "my_func('new param')"
      ],
      "execution_count": 121,
      "outputs": [
        {
          "output_type": "stream",
          "text": [
            "new param default\n"
          ],
          "name": "stdout"
        }
      ]
    },
    {
      "cell_type": "code",
      "metadata": {
        "id": "B9XbrNGlrvA-",
        "colab_type": "code",
        "outputId": "b910dd79-f021-4381-db38-dac673ba7e14",
        "colab": {
          "base_uri": "https://localhost:8080/",
          "height": 34
        }
      },
      "source": [
        "my_func(6, 16) "
      ],
      "execution_count": 123,
      "outputs": [
        {
          "output_type": "stream",
          "text": [
            "6 16\n"
          ],
          "name": "stdout"
        }
      ]
    },
    {
      "cell_type": "code",
      "metadata": {
        "id": "0KUWBc3TrvBI",
        "colab_type": "code",
        "colab": {}
      },
      "source": [
        "# simple function to return the square of a number\n",
        "def square(x):\n",
        "    return x**2"
      ],
      "execution_count": 0,
      "outputs": []
    },
    {
      "cell_type": "code",
      "metadata": {
        "id": "cxMIQe8SrvBQ",
        "colab_type": "code",
        "colab": {}
      },
      "source": [
        "# call func on 2 and assign to out\n",
        "out = square(2)"
      ],
      "execution_count": 0,
      "outputs": []
    },
    {
      "cell_type": "code",
      "metadata": {
        "scrolled": true,
        "id": "u_jXQfuFrvBV",
        "colab_type": "code",
        "outputId": "dc3224d9-7a76-4553-ec93-d7b038e07a26",
        "colab": {
          "base_uri": "https://localhost:8080/",
          "height": 34
        }
      },
      "source": [
        "print(out)"
      ],
      "execution_count": 140,
      "outputs": [
        {
          "output_type": "stream",
          "text": [
            "4\n"
          ],
          "name": "stdout"
        }
      ]
    },
    {
      "cell_type": "markdown",
      "metadata": {
        "id": "LBgsnLh3mRGY",
        "colab_type": "text"
      },
      "source": [
        "## Processing files directly with Python will be covered in Pandas lab\n",
        "\n"
      ]
    }
  ]
}